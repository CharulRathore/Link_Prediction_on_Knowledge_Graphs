{
  "cells": [
    {
      "cell_type": "code",
      "execution_count": null,
      "id": "77b7cc3f",
      "metadata": {
        "id": "77b7cc3f"
      },
      "outputs": [],
      "source": [
        "### -------------------------------------- IMPORTANT NOTE --------------------------------------------------\n",
        "### Running the whole notebook will take around 5-6 hours (WITHOUT training).\n",
        "### Notebook will NOT run in Colab as I am using Stellar Graphs Library."
      ]
    },
    {
      "cell_type": "markdown",
      "id": "fd74d905",
      "metadata": {
        "id": "fd74d905"
      },
      "source": [
        "# Knowledge Graph Completion"
      ]
    },
    {
      "cell_type": "markdown",
      "id": "cd3a955d",
      "metadata": {
        "id": "cd3a955d"
      },
      "source": [
        "A **knowledge graph** (KG) is a structured representation of information, where entities are nodes, and relationships between entities are edges. Knowledge Graph Completion involves predicting missing relationships or edges in a knowledge graph.\n",
        "\n",
        "For this project, we will be experimenting with **Freebase dataset**. Freebase is an extensive, openly available knowledge graph that captures diverse information about entities, their attributes, and relationships. Google's Knowledge Graph is powered in part by Freebase. Image below shows some well-know knowledge graphs."
      ]
    },
    {
      "cell_type": "markdown",
      "id": "defb6b69",
      "metadata": {
        "id": "defb6b69"
      },
      "source": [
        "<img src=\"https://media.licdn.com/dms/image/C4E12AQGDG1c_A6bWkQ/article-cover_image-shrink_600_2000/0/1582640385447?e=1706140800&v=beta&t=JSWH1UPgNmN-KSX0_f-nfV-SjAXv1h5xHKiGSEXCXB0\" width=\"700\" height=\"500\">"
      ]
    },
    {
      "cell_type": "markdown",
      "id": "40ff7e54",
      "metadata": {
        "id": "40ff7e54"
      },
      "source": [
        "## 1. Requirement Installation and Importing libraries"
      ]
    },
    {
      "cell_type": "code",
      "execution_count": null,
      "id": "7817c41a",
      "metadata": {
        "id": "7817c41a"
      },
      "outputs": [],
      "source": [
        "%%capture\n",
        "# Install Tensorflow GPU\n",
        "! pip install tensorflow-gpu==1.15.3"
      ]
    },
    {
      "cell_type": "code",
      "execution_count": null,
      "id": "f6667566",
      "metadata": {
        "id": "f6667566"
      },
      "outputs": [],
      "source": [
        "from stellargraph import datasets, utils\n",
        "import numpy as np\n",
        "import pandas as pd\n",
        "from stellargraph.mapper import KGTripleGenerator\n",
        "from stellargraph.layer import ComplEx\n",
        "import networkx as nx\n",
        "from IPython.display import HTML"
      ]
    },
    {
      "cell_type": "code",
      "execution_count": null,
      "id": "d9b63199",
      "metadata": {
        "id": "d9b63199",
        "outputId": "909b7748-bf5c-4059-b2dc-c8aa346937a3"
      },
      "outputs": [
        {
          "name": "stdout",
          "output_type": "stream",
          "text": [
            "TensorFlow  version: 1.15.3\n"
          ]
        }
      ],
      "source": [
        "import tensorflow as tf\n",
        "from tensorflow.keras import callbacks, optimizers, losses, metrics, regularizers, Model\n",
        "print('TensorFlow  version: {}'.format(tf.__version__))"
      ]
    },
    {
      "cell_type": "code",
      "execution_count": null,
      "id": "17efa1d4",
      "metadata": {
        "id": "17efa1d4"
      },
      "outputs": [],
      "source": [
        "%%capture\n",
        "# Install AmpliGraph library\n",
        "! pip install ampligraph\n",
        "\n",
        "# Required to visualize embeddings with tensorboard projector, comment out if not required!\n",
        "! pip install --user tensorboard\n",
        "\n",
        "# Required to plot text on embedding clusters, comment out if not required!\n",
        "! pip install --user git+https://github.com/Phlya/adjustText"
      ]
    },
    {
      "cell_type": "code",
      "execution_count": null,
      "id": "4de23416",
      "metadata": {
        "id": "4de23416"
      },
      "outputs": [],
      "source": [
        "import ampligraph\n",
        "from ampligraph.datasets import load_fb15k_237\n",
        "from ampligraph.evaluation import train_test_split_no_unseen, evaluate_performance, mr_score, mrr_score, hits_at_n_score\n",
        "from ampligraph.discovery import query_topn, discover_facts, find_clusters\n",
        "from ampligraph.latent_features import TransE, ComplEx, HolE, DistMult, ConvE, ConvKB\n",
        "from ampligraph.utils import save_model, restore_model"
      ]
    },
    {
      "cell_type": "code",
      "execution_count": null,
      "id": "cf209859",
      "metadata": {
        "id": "cf209859",
        "outputId": "e1ed9692-4717-4776-e1c8-47a4249ed9c7"
      },
      "outputs": [
        {
          "name": "stdout",
          "output_type": "stream",
          "text": [
            "Ampligraph version: 1.4.0\n"
          ]
        }
      ],
      "source": [
        "def display_aggregate_metrics(ranks):\n",
        "    print('Mean Rank:', mr_score(ranks))\n",
        "    print('Mean Reciprocal Rank:', mrr_score(ranks))\n",
        "    print('Hits@1:', hits_at_n_score(ranks, 1))\n",
        "    print('Hits@10:', hits_at_n_score(ranks, 10))\n",
        "    print('Hits@100:', hits_at_n_score(ranks, 100))\n",
        "\n",
        "print('Ampligraph version: {}'.format(ampligraph.__version__))"
      ]
    },
    {
      "cell_type": "markdown",
      "id": "9198dd49",
      "metadata": {
        "id": "9198dd49"
      },
      "source": [
        "If you see these versions, you are good to go!\n",
        "\n",
        "TensorFlow  version: 1.15.3\n",
        "\n",
        "Ampligraph version: 1.4.0"
      ]
    },
    {
      "cell_type": "markdown",
      "id": "ac2f8643",
      "metadata": {
        "id": "ac2f8643"
      },
      "source": [
        "## 2. Loading the Freebase KG dataset"
      ]
    },
    {
      "cell_type": "code",
      "execution_count": null,
      "id": "fb8f6a27",
      "metadata": {
        "id": "fb8f6a27",
        "outputId": "c14e17ea-5e2a-4688-f7c9-05706acff302"
      },
      "outputs": [
        {
          "data": {
            "text/html": [
              "This FREEBASE FB15k DATA consists of a collection of triplets (synset, relation_type, triplet)extracted from Freebase (http://www.freebase.com). There are 14541 nodes and 237 relation types among them. The training set contains 272115 triplets, the validation set 17535 and the test set 20466.It is a reduced version of FB15k where inverse relations have been removed.Kristina Toutanova and Danqi Chen “Observed versus latent features for knowledge base and text inference” (2015)."
            ],
            "text/plain": [
              "<IPython.core.display.HTML object>"
            ]
          },
          "metadata": {},
          "output_type": "display_data"
        }
      ],
      "source": [
        "FB15k_237 = datasets.FB15k_237()\n",
        "display(HTML(FB15k_237.description))"
      ]
    },
    {
      "cell_type": "code",
      "execution_count": null,
      "id": "ca8db48c",
      "metadata": {
        "id": "ca8db48c",
        "outputId": "0731cbe3-2ae5-4ca2-a3ab-a9fee894b9c7"
      },
      "outputs": [
        {
          "data": {
            "text/plain": [
              "['train.txt', 'test.txt', 'valid.txt']"
            ]
          },
          "execution_count": 74,
          "metadata": {},
          "output_type": "execute_result"
        }
      ],
      "source": [
        "FB15k_237.expected_files"
      ]
    },
    {
      "cell_type": "code",
      "execution_count": null,
      "id": "8a45d33b",
      "metadata": {
        "id": "8a45d33b"
      },
      "outputs": [],
      "source": [
        "graph, trainSet, testSet, validSet = FB15k_237.load()"
      ]
    },
    {
      "cell_type": "code",
      "execution_count": null,
      "id": "fde8a57d",
      "metadata": {
        "id": "fde8a57d",
        "outputId": "ba5a58c0-c4d4-40fc-ee9e-64dcdb886943"
      },
      "outputs": [
        {
          "data": {
            "text/plain": [
              "<bound method NDFrame.head of             source                                              label  \\\n",
              "0         /m/027rn               /location/country/form_of_government   \n",
              "1        /m/017dcd  /tv/tv_program/regular_cast./tv/regular_tv_app...   \n",
              "2       /m/07s9rl0                 /media_common/netflix_genre/titles   \n",
              "3        /m/01sl1q  /award/award_winner/awards_won./award/award_ho...   \n",
              "4        /m/0cnk2q  /soccer/football_team/current_roster./sports/s...   \n",
              "...            ...                                                ...   \n",
              "272110   /m/016mhd  /film/film/release_date_s./film/film_regional_...   \n",
              "272111   /m/01g888                               /music/genre/artists   \n",
              "272112   /m/0djvzd  /soccer/football_player/current_team./sports/s...   \n",
              "272113  /m/0gmblvq  /award/award_winning_work/awards_won./award/aw...   \n",
              "272114   /m/020jqv  /award/award_nominee/award_nominations./award/...   \n",
              "\n",
              "            target  \n",
              "0         /m/06cx9  \n",
              "1        /m/06v8s0  \n",
              "2        /m/0170z3  \n",
              "3        /m/044mz_  \n",
              "4        /m/02nzb8  \n",
              "...            ...  \n",
              "272110    /m/029j_  \n",
              "272111  /m/01vv126  \n",
              "272112   /m/02b16p  \n",
              "272113  /m/07kjk7c  \n",
              "272114   /m/09d3b7  \n",
              "\n",
              "[272115 rows x 3 columns]>"
            ]
          },
          "execution_count": 76,
          "metadata": {},
          "output_type": "execute_result"
        }
      ],
      "source": [
        "trainSet.head"
      ]
    },
    {
      "cell_type": "code",
      "execution_count": null,
      "id": "32b8ff81",
      "metadata": {
        "id": "32b8ff81",
        "outputId": "0b43fbb5-3138-49e9-bf98-75d1de22012e"
      },
      "outputs": [
        {
          "data": {
            "text/html": [
              "<div>\n",
              "<style scoped>\n",
              "    .dataframe tbody tr th:only-of-type {\n",
              "        vertical-align: middle;\n",
              "    }\n",
              "\n",
              "    .dataframe tbody tr th {\n",
              "        vertical-align: top;\n",
              "    }\n",
              "\n",
              "    .dataframe thead th {\n",
              "        text-align: right;\n",
              "    }\n",
              "</style>\n",
              "<table border=\"1\" class=\"dataframe\">\n",
              "  <thead>\n",
              "    <tr style=\"text-align: right;\">\n",
              "      <th></th>\n",
              "      <th>source</th>\n",
              "      <th>label</th>\n",
              "      <th>target</th>\n",
              "    </tr>\n",
              "  </thead>\n",
              "  <tbody>\n",
              "    <tr>\n",
              "      <th>0</th>\n",
              "      <td>/m/08966</td>\n",
              "      <td>/travel/travel_destination/climate./travel/tra...</td>\n",
              "      <td>/m/05lf_</td>\n",
              "    </tr>\n",
              "    <tr>\n",
              "      <th>1</th>\n",
              "      <td>/m/01hww_</td>\n",
              "      <td>/music/performance_role/regular_performances./...</td>\n",
              "      <td>/m/01q99h</td>\n",
              "    </tr>\n",
              "    <tr>\n",
              "      <th>2</th>\n",
              "      <td>/m/09v3jyg</td>\n",
              "      <td>/film/film/release_date_s./film/film_regional_...</td>\n",
              "      <td>/m/0f8l9c</td>\n",
              "    </tr>\n",
              "    <tr>\n",
              "      <th>3</th>\n",
              "      <td>/m/02jx1</td>\n",
              "      <td>/location/location/contains</td>\n",
              "      <td>/m/013t85</td>\n",
              "    </tr>\n",
              "    <tr>\n",
              "      <th>4</th>\n",
              "      <td>/m/02jx1</td>\n",
              "      <td>/location/location/contains</td>\n",
              "      <td>/m/0m0bj</td>\n",
              "    </tr>\n",
              "  </tbody>\n",
              "</table>\n",
              "</div>"
            ],
            "text/plain": [
              "       source                                              label     target\n",
              "0    /m/08966  /travel/travel_destination/climate./travel/tra...   /m/05lf_\n",
              "1   /m/01hww_  /music/performance_role/regular_performances./...  /m/01q99h\n",
              "2  /m/09v3jyg  /film/film/release_date_s./film/film_regional_...  /m/0f8l9c\n",
              "3    /m/02jx1                        /location/location/contains  /m/013t85\n",
              "4    /m/02jx1                        /location/location/contains   /m/0m0bj"
            ]
          },
          "execution_count": 77,
          "metadata": {},
          "output_type": "execute_result"
        }
      ],
      "source": [
        "testSet.head(5)"
      ]
    },
    {
      "cell_type": "code",
      "execution_count": null,
      "id": "c23dbff3",
      "metadata": {
        "id": "c23dbff3",
        "outputId": "b696c10a-cd73-4ead-c09c-dada2852ab6c"
      },
      "outputs": [
        {
          "data": {
            "text/plain": [
              "<bound method NDFrame.head of            source                                              label  \\\n",
              "0       /m/07pd_j                                   /film/film/genre   \n",
              "1        /m/06wxw                      /location/location/time_zones   \n",
              "2      /m/01t94_1  /people/person/spouse_s./people/marriage/type_...   \n",
              "3      /m/02xcb6n  /award/award_category/winners./award/award_hon...   \n",
              "4       /m/07f_7h  /film/film/release_date_s./film/film_regional_...   \n",
              "...           ...                                                ...   \n",
              "17530  /m/02x4x18  /award/award_category/nominees./award/award_no...   \n",
              "17531    /m/0bw20  /film/film/other_crew./film/film_crew_gig/film...   \n",
              "17532   /m/01j4ls     /common/topic/webpage./common/webpage/category   \n",
              "17533  /m/0cmdwwg  /film/film/release_date_s./film/film_regional_...   \n",
              "17534   /m/0gs6vr            /film/actor/film./film/performance/film   \n",
              "\n",
              "           target  \n",
              "0       /m/02l7c8  \n",
              "1       /m/02fqwt  \n",
              "2        /m/04ztj  \n",
              "3       /m/04x4s2  \n",
              "4        /m/04gzd  \n",
              "...           ...  \n",
              "17530  /m/0dgst_d  \n",
              "17531  /m/09vw2b7  \n",
              "17532  /m/08mbj5d  \n",
              "17533    /m/06t2t  \n",
              "17534  /m/0gj96ln  \n",
              "\n",
              "[17535 rows x 3 columns]>"
            ]
          },
          "execution_count": 78,
          "metadata": {},
          "output_type": "execute_result"
        }
      ],
      "source": [
        "validSet.head"
      ]
    },
    {
      "cell_type": "markdown",
      "id": "c658a03b",
      "metadata": {
        "id": "c658a03b"
      },
      "source": [
        "![KG](https://user-images.githubusercontent.com/39597669/90747195-9fc44c80-e2c8-11ea-9f70-097993581bac.png)\n",
        "[Image Reference](https://kge-tutorial-ecai2020.github.io/ECAI-20_KGE_tutorial.pdf)"
      ]
    },
    {
      "cell_type": "markdown",
      "id": "ef3c5791",
      "metadata": {
        "id": "ef3c5791"
      },
      "source": [
        "For this project, we will be using a different version of freebase-237 with remapped IDs and containing human readable names instead of IDs using the following [JSON](https://raw.githubusercontent.com/villmow/datasets_knowledge_embedding/master/FB15k-237/entity2wikidata.json) file."
      ]
    },
    {
      "cell_type": "code",
      "execution_count": null,
      "id": "d0e21c34",
      "metadata": {
        "id": "d0e21c34",
        "outputId": "a7a6e499-08c7-4981-8391-35f690e8bdab"
      },
      "outputs": [
        {
          "data": {
            "text/html": [
              "<div>\n",
              "<style scoped>\n",
              "    .dataframe tbody tr th:only-of-type {\n",
              "        vertical-align: middle;\n",
              "    }\n",
              "\n",
              "    .dataframe tbody tr th {\n",
              "        vertical-align: top;\n",
              "    }\n",
              "\n",
              "    .dataframe thead th {\n",
              "        text-align: right;\n",
              "    }\n",
              "</style>\n",
              "<table border=\"1\" class=\"dataframe\">\n",
              "  <thead>\n",
              "    <tr style=\"text-align: right;\">\n",
              "      <th></th>\n",
              "      <th>subject</th>\n",
              "      <th>predicate</th>\n",
              "      <th>object</th>\n",
              "    </tr>\n",
              "  </thead>\n",
              "  <tbody>\n",
              "    <tr>\n",
              "      <th>0</th>\n",
              "      <td>queens college, city university of new york</td>\n",
              "      <td>/education/educational_institution/students_gr...</td>\n",
              "      <td>carol leifer</td>\n",
              "    </tr>\n",
              "    <tr>\n",
              "      <th>1</th>\n",
              "      <td>digital equipment corporation</td>\n",
              "      <td>/business/business_operation/industry</td>\n",
              "      <td>computer hardware</td>\n",
              "    </tr>\n",
              "    <tr>\n",
              "      <th>2</th>\n",
              "      <td>/m/0drtv8</td>\n",
              "      <td>/award/award_ceremony/awards_presented./award/...</td>\n",
              "      <td>laurence mark</td>\n",
              "    </tr>\n",
              "    <tr>\n",
              "      <th>3</th>\n",
              "      <td>the departed</td>\n",
              "      <td>/award/award_winning_work/awards_won./award/aw...</td>\n",
              "      <td>leonardo dicaprio</td>\n",
              "    </tr>\n",
              "    <tr>\n",
              "      <th>4</th>\n",
              "      <td>marilyn manson</td>\n",
              "      <td>/people/person/profession</td>\n",
              "      <td>actor</td>\n",
              "    </tr>\n",
              "  </tbody>\n",
              "</table>\n",
              "</div>"
            ],
            "text/plain": [
              "                                       subject  \\\n",
              "0  queens college, city university of new york   \n",
              "1                digital equipment corporation   \n",
              "2                                    /m/0drtv8   \n",
              "3                                 the departed   \n",
              "4                               marilyn manson   \n",
              "\n",
              "                                           predicate             object  \n",
              "0  /education/educational_institution/students_gr...       carol leifer  \n",
              "1              /business/business_operation/industry  computer hardware  \n",
              "2  /award/award_ceremony/awards_presented./award/...      laurence mark  \n",
              "3  /award/award_winning_work/awards_won./award/aw...  leonardo dicaprio  \n",
              "4                          /people/person/profession              actor  "
            ]
          },
          "execution_count": 79,
          "metadata": {},
          "output_type": "execute_result"
        }
      ],
      "source": [
        "URL = 'https://ampgraphenc.s3-eu-west-1.amazonaws.com/datasets/freebase-237-merged-and-remapped.csv'\n",
        "dataset = pd.read_csv(URL, header=None)\n",
        "dataset.columns = ['subject', 'predicate', 'object']\n",
        "dataset.head(5)"
      ]
    },
    {
      "cell_type": "markdown",
      "id": "3dae6f92",
      "metadata": {
        "id": "3dae6f92"
      },
      "source": [
        "## 3. KG visualization"
      ]
    },
    {
      "cell_type": "code",
      "execution_count": null,
      "id": "86aed799",
      "metadata": {
        "id": "86aed799",
        "outputId": "2073d006-962a-4514-f8fb-afa87525c765"
      },
      "outputs": [
        {
          "data": {
            "text/plain": [
              "(310079, 3)"
            ]
          },
          "execution_count": 80,
          "metadata": {},
          "output_type": "execute_result"
        }
      ],
      "source": [
        "dataset.shape"
      ]
    },
    {
      "cell_type": "code",
      "execution_count": null,
      "id": "34669b70",
      "metadata": {
        "id": "34669b70"
      },
      "outputs": [],
      "source": [
        "## Shuffling the Dataset\n",
        "dataset = dataset.sample(frac = 1)"
      ]
    },
    {
      "cell_type": "code",
      "execution_count": null,
      "id": "04ccd3b0",
      "metadata": {
        "id": "04ccd3b0"
      },
      "outputs": [],
      "source": [
        "## Reduce the number of nodes and edges for\n",
        "dataset_1 = dataset.sample(frac=0.0001)"
      ]
    },
    {
      "cell_type": "markdown",
      "id": "8e9c0ff3",
      "metadata": {
        "id": "8e9c0ff3"
      },
      "source": [
        "### Converting to NetworkX Graph for visualization"
      ]
    },
    {
      "cell_type": "code",
      "execution_count": null,
      "id": "93aebb68",
      "metadata": {
        "id": "93aebb68"
      },
      "outputs": [],
      "source": [
        "## Create a directed graph\n",
        "fb15kGraph = nx.DiGraph()\n",
        "fb15kGraph.clear()\n",
        "edge_labels ={}\n",
        "for _, row in dataset_1.iterrows():\n",
        "    tail = row['subject']\n",
        "    head = row['object']\n",
        "    edge = row['predicate'][-15:]\n",
        "    fb15kGraph.add_edge(tail, head, length = 10)\n",
        "    edge_labels[tail,head] = edge"
      ]
    },
    {
      "cell_type": "markdown",
      "id": "ef71725b",
      "metadata": {
        "id": "ef71725b"
      },
      "source": [
        "### Spring Layout Visualization"
      ]
    },
    {
      "cell_type": "code",
      "execution_count": null,
      "id": "5d27e745",
      "metadata": {
        "id": "5d27e745",
        "outputId": "9988e43a-ee62-470d-f015-d227a6352a38"
      },
      "outputs": [
        {
          "data": {
            "image/png": "[encoded data removed]",
            "text/plain": [
              "<Figure size 720x720 with 1 Axes>"
            ]
          },
          "metadata": {},
          "output_type": "display_data"
        }
      ],
      "source": [
        "## plotting the graph\n",
        "from matplotlib import pyplot as plt\n",
        "plt.figure(figsize=(10, 10))\n",
        "options = {\"node_color\": \"pink\", \"node_size\": 1000, \"linewidths\": 2, \"width\": 0.1}\n",
        "\n",
        "pos = nx.spring_layout(fb15kGraph, seed=1969)  # Seed for reproducible layout\n",
        "nx.draw(fb15kGraph, pos, **options, with_labels=True, font_size = 9)\n",
        "\n",
        "\n",
        "nx.draw_networkx_edge_labels(\n",
        "    fb15kGraph, pos,\n",
        "    edge_labels,\n",
        "    font_size = 8,\n",
        "    font_color='blue'\n",
        ")\n",
        "\n",
        "plt.show()"
      ]
    },
    {
      "cell_type": "markdown",
      "id": "813189a5",
      "metadata": {
        "id": "813189a5"
      },
      "source": [
        "### Random Layout Visualization"
      ]
    },
    {
      "cell_type": "code",
      "execution_count": null,
      "id": "9cd8cade",
      "metadata": {
        "id": "9cd8cade",
        "outputId": "f3a29746-dd82-4028-f2da-31d9f0bc332d"
      },
      "outputs": [
        {
          "data": {
            "image/png": "[encoded data removed]",
            "text/plain": [
              "<Figure size 720x720 with 1 Axes>"
            ]
          },
          "metadata": {},
          "output_type": "display_data"
        }
      ],
      "source": [
        "## plotting the graph\n",
        "from matplotlib import pyplot as plt\n",
        "plt.figure(figsize=(10, 10))\n",
        "options = {\"node_color\": \"pink\", \"node_size\": 1000, \"linewidths\": 2, \"width\": 0.1}\n",
        "\n",
        "pos = nx.random_layout(fb15kGraph, seed=1969)  # Seed for reproducible layout\n",
        "nx.draw(fb15kGraph, pos, **options, with_labels=True, font_size = 9)\n",
        "\n",
        "\n",
        "nx.draw_networkx_edge_labels(\n",
        "    fb15kGraph, pos,\n",
        "    edge_labels,\n",
        "    font_size = 8,\n",
        "    font_color='blue'\n",
        ")\n",
        "\n",
        "plt.show()"
      ]
    },
    {
      "cell_type": "markdown",
      "id": "30c0eac3",
      "metadata": {
        "id": "30c0eac3"
      },
      "source": [
        "## 4. Create Training, Validation and Test splits"
      ]
    },
    {
      "cell_type": "markdown",
      "id": "b04219b5",
      "metadata": {
        "id": "b04219b5"
      },
      "source": [
        "We are using the ['train_test_split_no_unseen'](https://docs.ampligraph.org/en/1.3.1/generated/ampligraph.evaluation.train_test_split_no_unseen.html?#train-test-split-no-unseen) function provided by Ampligraph to create the training, validation and test splits. This API ensures that the test and validation splits contains triples whose entities are \"seen\" during training. `train_test_split_no_unseen` API can be used to generate train/test splits such that test set contains only entities 'seen' during training\n",
        "\n",
        "We are splitting the dataset into this ratio: Train:Valid:Test <=> 80:10:10\n",
        "\n",
        "[Code Refered from this notebook](https://kge-tutorial-ecai2020.github.io/)\n"
      ]
    },
    {
      "cell_type": "code",
      "execution_count": null,
      "id": "a17ffa0a",
      "metadata": {
        "id": "a17ffa0a",
        "outputId": "ec5b19db-add0-4ee2-8b14-d7547edaae11"
      },
      "outputs": [
        {
          "name": "stdout",
          "output_type": "stream",
          "text": [
            "Total triples: (310079, 3)\n",
            "Size of Training Set: (248079, 3)\n",
            "Size of Valid Set: (31000, 3)\n",
            "Size of Test Set: (31000, 3)\n"
          ]
        }
      ],
      "source": [
        "from ampligraph.evaluation import train_test_split_no_unseen\n",
        "\n",
        "# get the validation set of size 31k\n",
        "test_train, X_valid = train_test_split_no_unseen(dataset.values, 31000, seed=0)\n",
        "\n",
        "# get the test set of size 31k from the remaining triples\n",
        "X_train, X_test = train_test_split_no_unseen(test_train, 31000, seed=0)\n",
        "\n",
        "print('Total triples:', dataset.shape)\n",
        "print('Size of Training Set:', X_train.shape)\n",
        "print('Size of Valid Set:', X_valid.shape)\n",
        "print('Size of Test Set:', X_test.shape)"
      ]
    },
    {
      "cell_type": "markdown",
      "id": "ed821130",
      "metadata": {
        "id": "ed821130"
      },
      "source": [
        "## 5. Model Training"
      ]
    },
    {
      "cell_type": "code",
      "execution_count": null,
      "id": "9d98fcb5",
      "metadata": {
        "id": "9d98fcb5"
      },
      "outputs": [],
      "source": [
        "from ampligraph.latent_features import TransE\n",
        "from ampligraph.utils import save_model, restore_model"
      ]
    },
    {
      "cell_type": "markdown",
      "id": "96f1cc33",
      "metadata": {
        "id": "96f1cc33"
      },
      "source": [
        "###  Experiments with TransE"
      ]
    },
    {
      "cell_type": "code",
      "execution_count": null,
      "id": "569754d7",
      "metadata": {
        "scrolled": false,
        "id": "569754d7"
      },
      "outputs": [],
      "source": [
        "## Epoch = 100\n",
        "## ETA = 1\n",
        "## Batch Count= 10\n",
        "\n",
        "##------------------------------ UNCOMMENT TO TRAIN ---------------------------------------------------------------\n",
        "# model = TransE(k=150,                                                         # embedding size\n",
        "#                epochs=100,                                                        # Num of epochs\n",
        "#                batches_count= 10,                                                 # Number of batches\n",
        "#                eta=1,                                                             # number of corruptions to generate during training\n",
        "#                loss='pairwise', loss_params={'margin': 1},                        # loss type and it's hyperparameters\n",
        "#                initializer='xavier', initializer_params={'uniform': False},       # initializer type and it's hyperparameters\n",
        "#                regularizer='LP', regularizer_params= {'lambda': 0.001, 'p': 3},   # regularizer along with its hyperparameters\n",
        "#                optimizer= 'adam', optimizer_params= {'lr': 0.001},                # optimizer to use along with its hyperparameters\n",
        "#                seed= 0, verbose=True)\n",
        "\n",
        "# model.fit(X_train)\n",
        "# save_model(model, 'TransE_100_1_10.pkl')"
      ]
    },
    {
      "cell_type": "code",
      "execution_count": null,
      "id": "c1a2a546",
      "metadata": {
        "id": "c1a2a546",
        "outputId": "ac7d8ba8-76dc-40a9-e3e4-1cf4ec4214b1"
      },
      "outputs": [
        {
          "name": "stderr",
          "output_type": "stream",
          "text": [
            "100%|██████████████████████████████████████████████████████| 31000/31000 [06:27<00:00, 79.98it/s]\n"
          ]
        },
        {
          "name": "stdout",
          "output_type": "stream",
          "text": [
            "Test set: (31000, 3)\n",
            "Size of ranks: (31000, 2)\n",
            "Mean Rank: 1003.9824838709677\n",
            "Mean Reciprocal Rank: 0.13276623846469093\n",
            "Hits@1: 0.07219354838709677\n",
            "Hits@10: 0.2509516129032258\n",
            "Hits@100: 0.5044354838709677\n"
          ]
        }
      ],
      "source": [
        "model = restore_model('TransE_100_1_10.pkl')\n",
        "\n",
        "# create the filter\n",
        "X_filter = np.concatenate([X_train, X_valid, X_test], 0)\n",
        "\n",
        "# compute ranks\n",
        "ranks = evaluate_performance(X_test,\n",
        "                             model=model,\n",
        "                             filter_triples=X_filter)\n",
        "\n",
        "# ranks are computed per triple\n",
        "print('Test set:', X_test.shape)\n",
        "print('Size of ranks:', ranks.shape)\n",
        "\n",
        "# Aggregate metrics show the aggregate performance of the model on the test set using a single number\n",
        "display_aggregate_metrics(ranks)"
      ]
    },
    {
      "cell_type": "code",
      "execution_count": null,
      "id": "88710fc4",
      "metadata": {
        "id": "88710fc4"
      },
      "outputs": [],
      "source": [
        "## Epoch = 100\n",
        "## ETA = 5\n",
        "## Batch Count= 10\n",
        "\n",
        "##------------------------------ UNCOMMENT TO TRAIN ---------------------------------------------------------------\n",
        "# model = TransE(k=150,                                                         # embedding size\n",
        "#                epochs=100,                                                        # Num of epochs\n",
        "#                batches_count= 10,                                                 # Number of batches\n",
        "#                eta=5,                                                             # number of corruptions to generate during training\n",
        "#                loss='pairwise', loss_params={'margin': 1},                        # loss type and it's hyperparameters\n",
        "#                initializer='xavier', initializer_params={'uniform': False},       # initializer type and it's hyperparameters\n",
        "#                regularizer='LP', regularizer_params= {'lambda': 0.001, 'p': 1},   # regularizer along with its hyperparameters\n",
        "#                optimizer= 'adam', optimizer_params= {'lr': 0.001},                # optimizer to use along with its hyperparameters\n",
        "#                seed= 0, verbose=True)\n",
        "\n",
        "# model.fit(X_train)\n",
        "# save_model(model, 'TransE_100_5_10.pkl')"
      ]
    },
    {
      "cell_type": "code",
      "execution_count": null,
      "id": "ad85a4ca",
      "metadata": {
        "id": "ad85a4ca",
        "outputId": "c6928317-b651-4b3c-e46e-1fe3c8754ef6"
      },
      "outputs": [
        {
          "name": "stderr",
          "output_type": "stream",
          "text": [
            "100%|██████████████████████████████████████████████████████| 31000/31000 [06:28<00:00, 79.80it/s]\n"
          ]
        },
        {
          "name": "stdout",
          "output_type": "stream",
          "text": [
            "Test set: (31000, 3)\n",
            "Size of ranks: (31000, 2)\n",
            "Mean Rank: 1223.5502096774194\n",
            "Mean Reciprocal Rank: 0.14190764028313266\n",
            "Hits@1: 0.08109677419354838\n",
            "Hits@10: 0.25870967741935486\n",
            "Hits@100: 0.49443548387096775\n"
          ]
        }
      ],
      "source": [
        "model = restore_model('TransE_100_5_10.pkl')\n",
        "\n",
        "# create the filter\n",
        "X_filter = np.concatenate([X_train, X_valid, X_test], 0)\n",
        "\n",
        "# compute ranks\n",
        "ranks = evaluate_performance(X_test,\n",
        "                             model=model,\n",
        "                             filter_triples=X_filter)\n",
        "\n",
        "# ranks are computed per triple\n",
        "print('Test set:', X_test.shape)\n",
        "print('Size of ranks:', ranks.shape)\n",
        "\n",
        "# Aggregate metrics show the aggregate performance of the model on the test set using a single number\n",
        "display_aggregate_metrics(ranks)"
      ]
    },
    {
      "cell_type": "code",
      "execution_count": null,
      "id": "9a7ddb55",
      "metadata": {
        "id": "9a7ddb55"
      },
      "outputs": [],
      "source": [
        "## Epoch = 100\n",
        "## ETA = 10\n",
        "## Batch Count= 10\n",
        "\n",
        "##------------------------------ UNCOMMENT TO TRAIN ---------------------------------------------------------------\n",
        "# model = TransE(k=150,                                                         # embedding size\n",
        "#                epochs=100,                                                        # Num of epochs\n",
        "#                batches_count= 10,                                                 # Number of batches\n",
        "#                eta=10,                                                             # number of corruptions to generate during training\n",
        "#                loss='pairwise', loss_params={'margin': 1},                        # loss type and it's hyperparameters\n",
        "#                initializer='xavier', initializer_params={'uniform': False},       # initializer type and it's hyperparameters\n",
        "#                regularizer='LP', regularizer_params= {'lambda': 0.001, 'p': 1},   # regularizer along with its hyperparameters\n",
        "#                optimizer= 'adam', optimizer_params= {'lr': 0.001},                # optimizer to use along with its hyperparameters\n",
        "#                seed= 0, verbose=True)\n",
        "\n",
        "# model.fit(X_train)\n",
        "# save_model(model, 'TransE_100_10_10.pkl')"
      ]
    },
    {
      "cell_type": "code",
      "execution_count": null,
      "id": "ae82fd20",
      "metadata": {
        "id": "ae82fd20",
        "outputId": "5ffe7848-f769-4234-9529-50e016dec211"
      },
      "outputs": [
        {
          "name": "stderr",
          "output_type": "stream",
          "text": [
            "100%|██████████████████████████████████████████████████████| 31000/31000 [06:02<00:00, 85.60it/s]\n"
          ]
        },
        {
          "name": "stdout",
          "output_type": "stream",
          "text": [
            "Test set: (31000, 3)\n",
            "Size of ranks: (31000, 2)\n",
            "Mean Rank: 1280.4652741935483\n",
            "Mean Reciprocal Rank: 0.14320688641798027\n",
            "Hits@1: 0.08304838709677419\n",
            "Hits@10: 0.2595967741935484\n",
            "Hits@100: 0.4910806451612903\n"
          ]
        }
      ],
      "source": [
        "bestModel_1 = restore_model('TransE_100_10_10.pkl')\n",
        "\n",
        "# create the filter\n",
        "X_filter = np.concatenate([X_train, X_valid, X_test], 0)\n",
        "\n",
        "# compute ranks\n",
        "ranks = evaluate_performance(X_test,\n",
        "                             model=bestModel_1,\n",
        "                             filter_triples=X_filter)\n",
        "\n",
        "# ranks are computed per triple\n",
        "print('Test set:', X_test.shape)\n",
        "print('Size of ranks:', ranks.shape)\n",
        "\n",
        "# Aggregate metrics show the aggregate performance of the model on the test set using a single number\n",
        "display_aggregate_metrics(ranks)"
      ]
    },
    {
      "cell_type": "code",
      "execution_count": null,
      "id": "8bb92861",
      "metadata": {
        "id": "8bb92861"
      },
      "outputs": [],
      "source": [
        "## Epoch = 200\n",
        "## ETA = 1\n",
        "## Batch Count= 10\n",
        "\n",
        "##------------------------------ UNCOMMENT TO TRAIN ---------------------------------------------------------------\n",
        "# model = TransE(k=150,                                                         # embedding size\n",
        "#                epochs=200,                                                        # Num of epochs\n",
        "#                batches_count= 10,                                                 # Number of batches\n",
        "#                eta=1,                                                            # number of corruptions to generate during training\n",
        "#                loss='pairwise', loss_params={'margin': 1},                        # loss type and it's hyperparameters\n",
        "#                initializer='xavier', initializer_params={'uniform': False},       # initializer type and it's hyperparameters\n",
        "#                regularizer='LP', regularizer_params= {'lambda': 0.001, 'p': 1},   # regularizer along with its hyperparameters\n",
        "#                optimizer= 'adam', optimizer_params= {'lr': 0.001},                # optimizer to use along with its hyperparameters\n",
        "#                seed= 0, verbose=True)\n",
        "\n",
        "# model.fit(X_train)\n",
        "# save_model(model, 'TransE_200_1_10.pkl')"
      ]
    },
    {
      "cell_type": "code",
      "execution_count": null,
      "id": "e4cea963",
      "metadata": {
        "id": "e4cea963",
        "outputId": "d5f1230d-6910-4368-99e0-f0b1f922f3e9"
      },
      "outputs": [
        {
          "name": "stderr",
          "output_type": "stream",
          "text": [
            "100%|██████████████████████████████████████████████████████| 31000/31000 [05:58<00:00, 86.37it/s]\n"
          ]
        },
        {
          "name": "stdout",
          "output_type": "stream",
          "text": [
            "Test set: (31000, 3)\n",
            "Size of ranks: (31000, 2)\n",
            "Mean Rank: 1268.1801129032258\n",
            "Mean Reciprocal Rank: 0.12631901602732196\n",
            "Hits@1: 0.06912903225806452\n",
            "Hits@10: 0.23603225806451614\n",
            "Hits@100: 0.46558064516129033\n"
          ]
        }
      ],
      "source": [
        "model = restore_model('TransE_200_1_10.pkl')\n",
        "\n",
        "# create the filter\n",
        "X_filter = np.concatenate([X_train, X_valid, X_test], 0)\n",
        "\n",
        "# compute ranks\n",
        "ranks = evaluate_performance(X_test,\n",
        "                             model=model,\n",
        "                             filter_triples=X_filter)\n",
        "\n",
        "# ranks are computed per triple\n",
        "print('Test set:', X_test.shape)\n",
        "print('Size of ranks:', ranks.shape)\n",
        "\n",
        "# Aggregate metrics show the aggregate performance of the model on the test set using a single number\n",
        "display_aggregate_metrics(ranks)"
      ]
    },
    {
      "cell_type": "code",
      "execution_count": null,
      "id": "ac6752d5",
      "metadata": {
        "id": "ac6752d5"
      },
      "outputs": [],
      "source": [
        "## Epoch = 200\n",
        "## ETA = 5\n",
        "## Batch Count= 10\n",
        "\n",
        "##------------------------------ UNCOMMENT TO TRAIN ---------------------------------------------------------------\n",
        "# model = TransE(k=150,                                                         # embedding size\n",
        "#                epochs=200,                                                        # Num of epochs\n",
        "#                batches_count= 10,                                                 # Number of batches\n",
        "#                eta=5,                                                            # number of corruptions to generate during training\n",
        "#                loss='pairwise', loss_params={'margin': 1},                        # loss type and it's hyperparameters\n",
        "#                initializer='xavier', initializer_params={'uniform': False},       # initializer type and it's hyperparameters\n",
        "#                regularizer='LP', regularizer_params= {'lambda': 0.001, 'p': 1},   # regularizer along with its hyperparameters\n",
        "#                optimizer= 'adam', optimizer_params= {'lr': 0.001},                # optimizer to use along with its hyperparameters\n",
        "#                seed= 0, verbose=True)\n",
        "\n",
        "# model.fit(X_train)\n",
        "# save_model(model, 'TransE_200_5_10.pkl')"
      ]
    },
    {
      "cell_type": "code",
      "execution_count": null,
      "id": "b6094487",
      "metadata": {
        "id": "b6094487",
        "outputId": "bb7e70e0-392b-4e2a-c713-814080d220cd"
      },
      "outputs": [
        {
          "name": "stderr",
          "output_type": "stream",
          "text": [
            "100%|██████████████████████████████████████████████████████| 31000/31000 [06:09<00:00, 83.90it/s]\n"
          ]
        },
        {
          "name": "stdout",
          "output_type": "stream",
          "text": [
            "Test set: (31000, 3)\n",
            "Size of ranks: (31000, 2)\n",
            "Mean Rank: 1610.2811451612904\n",
            "Mean Reciprocal Rank: 0.1329906124502318\n",
            "Hits@1: 0.07656451612903226\n",
            "Hits@10: 0.24017741935483872\n",
            "Hits@100: 0.43925806451612903\n"
          ]
        }
      ],
      "source": [
        "model = restore_model('TransE_200_5_10.pkl')\n",
        "\n",
        "# create the filter\n",
        "X_filter = np.concatenate([X_train, X_valid, X_test], 0)\n",
        "\n",
        "# compute ranks\n",
        "ranks = evaluate_performance(X_test,\n",
        "                             model=model,\n",
        "                             filter_triples=X_filter)\n",
        "\n",
        "# ranks are computed per triple\n",
        "print('Test set:', X_test.shape)\n",
        "print('Size of ranks:', ranks.shape)\n",
        "\n",
        "# Aggregate metrics show the aggregate performance of the model on the test set using a single number\n",
        "display_aggregate_metrics(ranks)"
      ]
    },
    {
      "cell_type": "code",
      "execution_count": null,
      "id": "672d7b59",
      "metadata": {
        "id": "672d7b59"
      },
      "outputs": [],
      "source": [
        "## Epoch = 200\n",
        "## ETA = 10\n",
        "## Batch Count= 10\n",
        "\n",
        "##------------------------------ UNCOMMENT TO TRAIN ---------------------------------------------------------------\n",
        "# model = TransE(k=150,                                                         # embedding size\n",
        "#                epochs=200,                                                        # Num of epochs\n",
        "#                batches_count= 10,                                                 # Number of batches\n",
        "#                eta=10,                                                            # number of corruptions to generate during training\n",
        "#                loss='pairwise', loss_params={'margin': 1},                        # loss type and it's hyperparameters\n",
        "#                initializer='xavier', initializer_params={'uniform': False},       # initializer type and it's hyperparameters\n",
        "#                regularizer='LP', regularizer_params= {'lambda': 0.001, 'p': 1},   # regularizer along with its hyperparameters\n",
        "#                optimizer= 'adam', optimizer_params= {'lr': 0.001},                # optimizer to use along with its hyperparameters\n",
        "#                seed= 0, verbose=True)\n",
        "\n",
        "# model.fit(X_train)\n",
        "# save_model(model, 'TransE_200_10_10.pkl')"
      ]
    },
    {
      "cell_type": "code",
      "execution_count": null,
      "id": "132b870e",
      "metadata": {
        "id": "132b870e",
        "outputId": "edaf86f2-982c-41df-9de6-2d098be9a69c"
      },
      "outputs": [
        {
          "name": "stderr",
          "output_type": "stream",
          "text": [
            "100%|██████████████████████████████████████████████████████| 31000/31000 [08:25<00:00, 61.31it/s]\n"
          ]
        },
        {
          "name": "stdout",
          "output_type": "stream",
          "text": [
            "Test set: (31000, 3)\n",
            "Size of ranks: (31000, 2)\n",
            "Mean Rank: 1683.9729838709677\n",
            "Mean Reciprocal Rank: 0.13431820153274585\n",
            "Hits@1: 0.07882258064516129\n",
            "Hits@10: 0.24046774193548387\n",
            "Hits@100: 0.43474193548387097\n"
          ]
        }
      ],
      "source": [
        "model = restore_model('TransE_200_10_10.pkl')\n",
        "\n",
        "# create the filter\n",
        "X_filter = np.concatenate([X_train, X_valid, X_test], 0)\n",
        "\n",
        "# compute ranks\n",
        "ranks = evaluate_performance(X_test,\n",
        "                             model=model,\n",
        "                             filter_triples=X_filter)\n",
        "\n",
        "# ranks are computed per triple\n",
        "print('Test set:', X_test.shape)\n",
        "print('Size of ranks:', ranks.shape)\n",
        "\n",
        "# Aggregate metrics show the aggregate performance of the model on the test set using a single number\n",
        "display_aggregate_metrics(ranks)"
      ]
    },
    {
      "cell_type": "code",
      "execution_count": null,
      "id": "3ae66c7a",
      "metadata": {
        "id": "3ae66c7a"
      },
      "outputs": [],
      "source": [
        "## Epoch = 300\n",
        "## ETA = 1\n",
        "## Batch Count= 10\n",
        "\n",
        "##------------------------------ UNCOMMENT TO TRAIN ---------------------------------------------------------------\n",
        "# model = TransE(k=150,                                                         # embedding size\n",
        "#                epochs=300,                                                        # Num of epochs\n",
        "#                batches_count= 10,                                                 # Number of batches\n",
        "#                eta=1,                                                             # number of corruptions to generate during training\n",
        "#                loss='pairwise', loss_params={'margin': 1},                        # loss type and it's hyperparameters\n",
        "#                initializer='xavier', initializer_params={'uniform': False},       # initializer type and it's hyperparameters\n",
        "#                regularizer='LP', regularizer_params= {'lambda': 0.001, 'p': 1},   # regularizer along with its hyperparameters\n",
        "#                optimizer= 'adam', optimizer_params= {'lr': 0.001},                # optimizer to use along with its hyperparameters\n",
        "#                seed= 0, verbose=True)\n",
        "\n",
        "# model.fit(X_train)\n",
        "# save_model(model, 'TransE_300_1_10.pkl')"
      ]
    },
    {
      "cell_type": "code",
      "execution_count": null,
      "id": "e639ce9d",
      "metadata": {
        "id": "e639ce9d",
        "outputId": "eee2faa1-6d25-4dc1-a947-4821499dedab"
      },
      "outputs": [
        {
          "name": "stderr",
          "output_type": "stream",
          "text": [
            "100%|██████████████████████████████████████████████████████| 31000/31000 [07:01<00:00, 73.48it/s]\n"
          ]
        },
        {
          "name": "stdout",
          "output_type": "stream",
          "text": [
            "Test set: (31000, 3)\n",
            "Size of ranks: (31000, 2)\n",
            "Mean Rank: 1454.4337903225805\n",
            "Mean Reciprocal Rank: 0.11475494612894624\n",
            "Hits@1: 0.062096774193548386\n",
            "Hits@10: 0.2161290322580645\n",
            "Hits@100: 0.42401612903225805\n"
          ]
        }
      ],
      "source": [
        "model = restore_model('TransE_300_1_10.pkl')\n",
        "\n",
        "# create the filter\n",
        "X_filter = np.concatenate([X_train, X_valid, X_test], 0)\n",
        "\n",
        "# compute ranks\n",
        "ranks = evaluate_performance(X_test,\n",
        "                             model=model,\n",
        "                             filter_triples=X_filter)\n",
        "\n",
        "# ranks are computed per triple\n",
        "print('Test set:', X_test.shape)\n",
        "print('Size of ranks:', ranks.shape)\n",
        "\n",
        "# Aggregate metrics show the aggregate performance of the model on the test set using a single number\n",
        "display_aggregate_metrics(ranks)"
      ]
    },
    {
      "cell_type": "code",
      "execution_count": null,
      "id": "efbf560e",
      "metadata": {
        "id": "efbf560e"
      },
      "outputs": [],
      "source": [
        "## Epoch = 300\n",
        "## ETA = 5\n",
        "## Batch Count= 10\n",
        "\n",
        "##------------------------------ UNCOMMENT TO TRAIN ---------------------------------------------------------------\n",
        "# model = TransE(k=150,                                                         # embedding size\n",
        "#                epochs=300,                                                        # Num of epochs\n",
        "#                batches_count= 10,                                                 # Number of batches\n",
        "#                eta=5,                                                             # number of corruptions to generate during training\n",
        "#                loss='pairwise', loss_params={'margin': 1},                        # loss type and it's hyperparameters\n",
        "#                initializer='xavier', initializer_params={'uniform': False},       # initializer type and it's hyperparameters\n",
        "#                regularizer='LP', regularizer_params= {'lambda': 0.001, 'p': 1},   # regularizer along with its hyperparameters\n",
        "#                optimizer= 'adam', optimizer_params= {'lr': 0.001},                # optimizer to use along with its hyperparameters\n",
        "#                seed= 0, verbose=True)\n",
        "\n",
        "# model.fit(X_train)\n",
        "# save_model(model, 'TransE_300_5_10.pkl')"
      ]
    },
    {
      "cell_type": "code",
      "execution_count": null,
      "id": "7c1ba57b",
      "metadata": {
        "id": "7c1ba57b",
        "outputId": "b0090036-cc52-4973-988b-3192fbcba0bf"
      },
      "outputs": [
        {
          "name": "stderr",
          "output_type": "stream",
          "text": [
            "100%|██████████████████████████████████████████████████████| 31000/31000 [07:23<00:00, 69.96it/s]\n"
          ]
        },
        {
          "name": "stdout",
          "output_type": "stream",
          "text": [
            "Test set: (31000, 3)\n",
            "Size of ranks: (31000, 2)\n",
            "Mean Rank: 1853.3700967741936\n",
            "Mean Reciprocal Rank: 0.12144176394352384\n",
            "Hits@1: 0.06940322580645161\n",
            "Hits@10: 0.22058064516129033\n",
            "Hits@100: 0.39998387096774196\n"
          ]
        }
      ],
      "source": [
        "model = restore_model('TransE_300_5_10.pkl')\n",
        "\n",
        "# create the filter\n",
        "X_filter = np.concatenate([X_train, X_valid, X_test], 0)\n",
        "\n",
        "# compute ranks\n",
        "ranks = evaluate_performance(X_test,\n",
        "                             model=model,\n",
        "                             filter_triples=X_filter)\n",
        "\n",
        "# ranks are computed per triple\n",
        "print('Test set:', X_test.shape)\n",
        "print('Size of ranks:', ranks.shape)\n",
        "\n",
        "# Aggregate metrics show the aggregate performance of the model on the test set using a single number\n",
        "display_aggregate_metrics(ranks)"
      ]
    },
    {
      "cell_type": "code",
      "execution_count": null,
      "id": "6b332f91",
      "metadata": {
        "scrolled": true,
        "id": "6b332f91"
      },
      "outputs": [],
      "source": [
        "## Epoch = 300\n",
        "## ETA = 10\n",
        "## Batch Count= 10\n",
        "\n",
        "##------------------------------ UNCOMMENT TO TRAIN ---------------------------------------------------------------\n",
        "# model = TransE(k=150,                                                         # embedding size\n",
        "#                epochs=300,                                                        # Num of epochs\n",
        "#                batches_count= 10,                                                 # Number of batches\n",
        "#                eta=10,                                                            # number of corruptions to generate during training\n",
        "#                loss='pairwise', loss_params={'margin': 1},                        # loss type and it's hyperparameters\n",
        "#                initializer='xavier', initializer_params={'uniform': False},       # initializer type and it's hyperparameters\n",
        "#                regularizer='LP', regularizer_params= {'lambda': 0.001, 'p': 1},   # regularizer along with its hyperparameters\n",
        "#                optimizer= 'adam', optimizer_params= {'lr': 0.001},                # optimizer to use along with its hyperparameters\n",
        "#                seed= 0, verbose=True)\n",
        "\n",
        "# model.fit(X_train)\n",
        "# save_model(model, 'TransE_300_10_10.pkl')"
      ]
    },
    {
      "cell_type": "code",
      "execution_count": null,
      "id": "769f224c",
      "metadata": {
        "id": "769f224c",
        "outputId": "23e4bc32-c690-41c6-a36a-ee0a47ae8bde"
      },
      "outputs": [
        {
          "name": "stderr",
          "output_type": "stream",
          "text": [
            "100%|██████████████████████████████████████████████████████| 31000/31000 [07:30<00:00, 68.84it/s]\n"
          ]
        },
        {
          "name": "stdout",
          "output_type": "stream",
          "text": [
            "Test set: (31000, 3)\n",
            "Size of ranks: (31000, 2)\n",
            "Mean Rank: 1943.4977096774194\n",
            "Mean Reciprocal Rank: 0.12502935443237\n",
            "Hits@1: 0.07408064516129033\n",
            "Hits@10: 0.2207741935483871\n",
            "Hits@100: 0.39591935483870966\n"
          ]
        }
      ],
      "source": [
        "model = restore_model('TransE_300_10_10.pkl')\n",
        "\n",
        "# create the filter\n",
        "X_filter = np.concatenate([X_train, X_valid, X_test], 0)\n",
        "\n",
        "# compute ranks\n",
        "ranks = evaluate_performance(X_test,\n",
        "                             model=model,\n",
        "                             filter_triples=X_filter)\n",
        "\n",
        "# ranks are computed per triple\n",
        "print('Test set:', X_test.shape)\n",
        "print('Size of ranks:', ranks.shape)\n",
        "\n",
        "# Aggregate metrics show the aggregate performance of the model on the test set using a single number\n",
        "display_aggregate_metrics(ranks)"
      ]
    },
    {
      "cell_type": "markdown",
      "id": "b51f91e3",
      "metadata": {
        "id": "b51f91e3"
      },
      "source": [
        "### TransE Result Summary for Batch count 10"
      ]
    },
    {
      "cell_type": "markdown",
      "id": "34629726",
      "metadata": {
        "id": "34629726"
      },
      "source": [
        "![TransE10.png](attachment:TransE10.png)"
      ]
    },
    {
      "cell_type": "code",
      "execution_count": null,
      "id": "9a397ac0",
      "metadata": {
        "id": "9a397ac0"
      },
      "outputs": [],
      "source": [
        "## Epoch = 100\n",
        "## ETA = 1\n",
        "## Batch Count= 1\n",
        "\n",
        "##------------------------------ UNCOMMENT TO TRAIN ---------------------------------------------------------------\n",
        "# model = TransE(k=150,                                                         # embedding size\n",
        "#                epochs=100,                                                        # Num of epochs\n",
        "#                batches_count= 1,                                                 # Number of batches\n",
        "#                eta=1,                                                             # number of corruptions to generate during training\n",
        "#                loss='pairwise', loss_params={'margin': 1},                        # loss type and it's hyperparameters\n",
        "#                initializer='xavier', initializer_params={'uniform': False},       # initializer type and it's hyperparameters\n",
        "#                regularizer='LP', regularizer_params= {'lambda': 0.001, 'p': 3},   # regularizer along with its hyperparameters\n",
        "#                optimizer= 'adam', optimizer_params= {'lr': 0.001},                # optimizer to use along with its hyperparameters\n",
        "#                seed= 0, verbose=True)\n",
        "\n",
        "# model.fit(X_train)\n",
        "# save_model(model, 'TransE_100_1_1.pkl')"
      ]
    },
    {
      "cell_type": "code",
      "execution_count": null,
      "id": "c8ce3e2e",
      "metadata": {
        "id": "c8ce3e2e",
        "outputId": "57a63367-d068-4623-bfc2-dc55b2a57c82"
      },
      "outputs": [
        {
          "name": "stdout",
          "output_type": "stream",
          "text": [
            "WARNING - All triples will be processed in the same batch (batches_count=1). When processing large graphs it is recommended to batch the input knowledge graph instead.\n"
          ]
        },
        {
          "name": "stderr",
          "output_type": "stream",
          "text": [
            "100%|██████████████████████████████████████████████████████| 31000/31000 [08:40<00:00, 59.54it/s]\n"
          ]
        },
        {
          "name": "stdout",
          "output_type": "stream",
          "text": [
            "Test set: (31000, 3)\n",
            "Size of ranks: (31000, 2)\n",
            "Mean Rank: 493.76766129032256\n",
            "Mean Reciprocal Rank: 0.15084820303253052\n",
            "Hits@1: 0.08317741935483872\n",
            "Hits@10: 0.28191935483870967\n",
            "Hits@100: 0.5956612903225806\n"
          ]
        }
      ],
      "source": [
        "model = restore_model('TransE_100_1_1.pkl')\n",
        "\n",
        "# create the filter\n",
        "X_filter = np.concatenate([X_train, X_valid, X_test], 0)\n",
        "\n",
        "# compute ranks\n",
        "ranks = evaluate_performance(X_test,\n",
        "                             model=model,\n",
        "                             filter_triples=X_filter)\n",
        "\n",
        "# ranks are computed per triple\n",
        "print('Test set:', X_test.shape)\n",
        "print('Size of ranks:', ranks.shape)\n",
        "\n",
        "# Aggregate metrics show the aggregate performance of the model on the test set using a single number\n",
        "display_aggregate_metrics(ranks)"
      ]
    },
    {
      "cell_type": "code",
      "execution_count": null,
      "id": "fc0a2986",
      "metadata": {
        "id": "fc0a2986"
      },
      "outputs": [],
      "source": [
        "## Epoch = 100\n",
        "## ETA = 5\n",
        "## Batch Count= 1\n",
        "\n",
        "##------------------------------ UNCOMMENT TO TRAIN ---------------------------------------------------------------\n",
        "# model = TransE(k=150,                                                         # embedding size\n",
        "#                epochs=100,                                                        # Num of epochs\n",
        "#                batches_count= 1,                                                 # Number of batches\n",
        "#                eta=5,                                                             # number of corruptions to generate during training\n",
        "#                loss='pairwise', loss_params={'margin': 1},                        # loss type and it's hyperparameters\n",
        "#                initializer='xavier', initializer_params={'uniform': False},       # initializer type and it's hyperparameters\n",
        "#                regularizer='LP', regularizer_params= {'lambda': 0.001, 'p': 1},   # regularizer along with its hyperparameters\n",
        "#                optimizer= 'adam', optimizer_params= {'lr': 0.001},                # optimizer to use along with its hyperparameters\n",
        "#                seed= 0, verbose=True)\n",
        "\n",
        "# model.fit(X_train)\n",
        "# save_model(model, 'TransE_100_5_1.pkl')"
      ]
    },
    {
      "cell_type": "code",
      "execution_count": null,
      "id": "48672525",
      "metadata": {
        "id": "48672525",
        "outputId": "74ed231a-9cc0-4541-db84-8ee4336c46ab"
      },
      "outputs": [
        {
          "name": "stdout",
          "output_type": "stream",
          "text": [
            "WARNING - All triples will be processed in the same batch (batches_count=1). When processing large graphs it is recommended to batch the input knowledge graph instead.\n"
          ]
        },
        {
          "name": "stderr",
          "output_type": "stream",
          "text": [
            "100%|██████████████████████████████████████████████████████| 31000/31000 [08:07<00:00, 63.56it/s]\n"
          ]
        },
        {
          "name": "stdout",
          "output_type": "stream",
          "text": [
            "Test set: (31000, 3)\n",
            "Size of ranks: (31000, 2)\n",
            "Mean Rank: 463.3272580645161\n",
            "Mean Reciprocal Rank: 0.16187899019469598\n",
            "Hits@1: 0.09148387096774194\n",
            "Hits@10: 0.29838709677419356\n",
            "Hits@100: 0.6086612903225807\n"
          ]
        }
      ],
      "source": [
        "model = restore_model('TransE_100_5_1.pkl')\n",
        "\n",
        "# create the filter\n",
        "X_filter = np.concatenate([X_train, X_valid, X_test], 0)\n",
        "\n",
        "# compute ranks\n",
        "ranks = evaluate_performance(X_test,\n",
        "                             model=model,\n",
        "                             filter_triples=X_filter)\n",
        "\n",
        "# ranks are computed per triple\n",
        "print('Test set:', X_test.shape)\n",
        "print('Size of ranks:', ranks.shape)\n",
        "\n",
        "# Aggregate metrics show the aggregate performance of the model on the test set using a single number\n",
        "display_aggregate_metrics(ranks)"
      ]
    },
    {
      "cell_type": "code",
      "execution_count": null,
      "id": "80af01f5",
      "metadata": {
        "id": "80af01f5"
      },
      "outputs": [],
      "source": [
        "## Epoch = 100\n",
        "## ETA = 10\n",
        "## Batch Count= 1\n",
        "\n",
        "##------------------------------ UNCOMMENT TO TRAIN ---------------------------------------------------------------\n",
        "# model = TransE(k=150,                                                         # embedding size\n",
        "#                epochs=100,                                                        # Num of epochs\n",
        "#                batches_count= 1,                                                 # Number of batches\n",
        "#                eta=10,                                                             # number of corruptions to generate during training\n",
        "#                loss='pairwise', loss_params={'margin': 1},                        # loss type and it's hyperparameters\n",
        "#                initializer='xavier', initializer_params={'uniform': False},       # initializer type and it's hyperparameters\n",
        "#                regularizer='LP', regularizer_params= {'lambda': 0.001, 'p': 1},   # regularizer along with its hyperparameters\n",
        "#                optimizer= 'adam', optimizer_params= {'lr': 0.001},                # optimizer to use along with its hyperparameters\n",
        "#                seed= 0, verbose=True)\n",
        "\n",
        "# model.fit(X_train)\n",
        "# save_model(model, 'TransE_100_10_1.pkl')"
      ]
    },
    {
      "cell_type": "code",
      "execution_count": null,
      "id": "a32f4ff5",
      "metadata": {
        "id": "a32f4ff5",
        "outputId": "cba4bc18-b85e-414b-8112-6b8bd200df20"
      },
      "outputs": [
        {
          "name": "stdout",
          "output_type": "stream",
          "text": [
            "WARNING - All triples will be processed in the same batch (batches_count=1). When processing large graphs it is recommended to batch the input knowledge graph instead.\n"
          ]
        },
        {
          "name": "stderr",
          "output_type": "stream",
          "text": [
            "100%|██████████████████████████████████████████████████████| 31000/31000 [08:14<00:00, 62.73it/s]\n"
          ]
        },
        {
          "name": "stdout",
          "output_type": "stream",
          "text": [
            "Test set: (31000, 3)\n",
            "Size of ranks: (31000, 2)\n",
            "Mean Rank: 454.9673387096774\n",
            "Mean Reciprocal Rank: 0.1641036462024604\n",
            "Hits@1: 0.09259677419354839\n",
            "Hits@10: 0.30243548387096775\n",
            "Hits@100: 0.6112096774193548\n"
          ]
        }
      ],
      "source": [
        "model = restore_model('TransE_100_10_1.pkl')\n",
        "\n",
        "# create the filter\n",
        "X_filter = np.concatenate([X_train, X_valid, X_test], 0)\n",
        "\n",
        "# compute ranks\n",
        "ranks = evaluate_performance(X_test,\n",
        "                             model=model,\n",
        "                             filter_triples=X_filter)\n",
        "\n",
        "# ranks are computed per triple\n",
        "print('Test set:', X_test.shape)\n",
        "print('Size of ranks:', ranks.shape)\n",
        "\n",
        "# Aggregate metrics show the aggregate performance of the model on the test set using a single number\n",
        "display_aggregate_metrics(ranks)"
      ]
    },
    {
      "cell_type": "code",
      "execution_count": null,
      "id": "2d6cf55a",
      "metadata": {
        "id": "2d6cf55a"
      },
      "outputs": [],
      "source": [
        "## Epoch = 200\n",
        "## ETA = 1\n",
        "## Batch Count= 1\n",
        "\n",
        "##------------------------------ UNCOMMENT TO TRAIN ---------------------------------------------------------------\n",
        "# model = TransE(k=150,                                                         # embedding size\n",
        "#                epochs=200,                                                        # Num of epochs\n",
        "#                batches_count= 1,                                                 # Number of batches\n",
        "#                eta=1,                                                            # number of corruptions to generate during training\n",
        "#                loss='pairwise', loss_params={'margin': 1},                        # loss type and it's hyperparameters\n",
        "#                initializer='xavier', initializer_params={'uniform': False},       # initializer type and it's hyperparameters\n",
        "#                regularizer='LP', regularizer_params= {'lambda': 0.001, 'p': 1},   # regularizer along with its hyperparameters\n",
        "#                optimizer= 'adam', optimizer_params= {'lr': 0.001},                # optimizer to use along with its hyperparameters\n",
        "#                seed= 0, verbose=True)\n",
        "\n",
        "# model.fit(X_train)\n",
        "# save_model(model, 'TransE_200_1_1.pkl')"
      ]
    },
    {
      "cell_type": "code",
      "execution_count": null,
      "id": "ca328788",
      "metadata": {
        "id": "ca328788",
        "outputId": "aaf5bee7-88f0-4754-db5e-df2fe87908b5"
      },
      "outputs": [
        {
          "name": "stdout",
          "output_type": "stream",
          "text": [
            "WARNING - All triples will be processed in the same batch (batches_count=1). When processing large graphs it is recommended to batch the input knowledge graph instead.\n"
          ]
        },
        {
          "name": "stderr",
          "output_type": "stream",
          "text": [
            "100%|██████████████████████████████████████████████████████| 31000/31000 [08:36<00:00, 60.07it/s]\n"
          ]
        },
        {
          "name": "stdout",
          "output_type": "stream",
          "text": [
            "Test set: (31000, 3)\n",
            "Size of ranks: (31000, 2)\n",
            "Mean Rank: 465.9575967741936\n",
            "Mean Reciprocal Rank: 0.17087296111790268\n",
            "Hits@1: 0.09630645161290323\n",
            "Hits@10: 0.3173870967741935\n",
            "Hits@100: 0.6139032258064516\n"
          ]
        }
      ],
      "source": [
        "model = restore_model('TransE_200_1_1.pkl')\n",
        "\n",
        "# create the filter\n",
        "X_filter = np.concatenate([X_train, X_valid, X_test], 0)\n",
        "\n",
        "# compute ranks\n",
        "ranks = evaluate_performance(X_test,\n",
        "                             model=model,\n",
        "                             filter_triples=X_filter)\n",
        "\n",
        "# ranks are computed per triple\n",
        "print('Test set:', X_test.shape)\n",
        "print('Size of ranks:', ranks.shape)\n",
        "\n",
        "# Aggregate metrics show the aggregate performance of the model on the test set using a single number\n",
        "display_aggregate_metrics(ranks)"
      ]
    },
    {
      "cell_type": "code",
      "execution_count": null,
      "id": "38d34ae5",
      "metadata": {
        "id": "38d34ae5"
      },
      "outputs": [],
      "source": [
        "## Epoch = 200\n",
        "## ETA = 5\n",
        "## Batch Count= 1\n",
        "\n",
        "##------------------------------ UNCOMMENT TO TRAIN ---------------------------------------------------------------\n",
        "# model = TransE(k=150,                                                         # embedding size\n",
        "#                epochs=200,                                                        # Num of epochs\n",
        "#                batches_count= 1,                                                 # Number of batches\n",
        "#                eta=5,                                                            # number of corruptions to generate during training\n",
        "#                loss='pairwise', loss_params={'margin': 1},                        # loss type and it's hyperparameters\n",
        "#                initializer='xavier', initializer_params={'uniform': False},       # initializer type and it's hyperparameters\n",
        "#                regularizer='LP', regularizer_params= {'lambda': 0.001, 'p': 1},   # regularizer along with its hyperparameters\n",
        "#                optimizer= 'adam', optimizer_params= {'lr': 0.001},                # optimizer to use along with its hyperparameters\n",
        "#                seed= 0, verbose=True)\n",
        "\n",
        "# model.fit(X_train)\n",
        "# save_model(model, 'TransE_200_5_1.pkl')"
      ]
    },
    {
      "cell_type": "code",
      "execution_count": null,
      "id": "aeba9cc7",
      "metadata": {
        "id": "aeba9cc7",
        "outputId": "be0a3937-9787-41ab-9704-b76a3a2dbc50"
      },
      "outputs": [
        {
          "name": "stdout",
          "output_type": "stream",
          "text": [
            "WARNING - All triples will be processed in the same batch (batches_count=1). When processing large graphs it is recommended to batch the input knowledge graph instead.\n"
          ]
        },
        {
          "name": "stderr",
          "output_type": "stream",
          "text": [
            "100%|██████████████████████████████████████████████████████| 31000/31000 [09:04<00:00, 56.91it/s]\n"
          ]
        },
        {
          "name": "stdout",
          "output_type": "stream",
          "text": [
            "Test set: (31000, 3)\n",
            "Size of ranks: (31000, 2)\n",
            "Mean Rank: 449.36848387096774\n",
            "Mean Reciprocal Rank: 0.18267556096870466\n",
            "Hits@1: 0.10770967741935483\n",
            "Hits@10: 0.32756451612903226\n",
            "Hits@100: 0.6235161290322581\n"
          ]
        }
      ],
      "source": [
        "model = restore_model('TransE_200_5_1.pkl')\n",
        "\n",
        "# create the filter\n",
        "X_filter = np.concatenate([X_train, X_valid, X_test], 0)\n",
        "\n",
        "# compute ranks\n",
        "ranks = evaluate_performance(X_test,\n",
        "                             model=model,\n",
        "                             filter_triples=X_filter)\n",
        "\n",
        "# ranks are computed per triple\n",
        "print('Test set:', X_test.shape)\n",
        "print('Size of ranks:', ranks.shape)\n",
        "\n",
        "# Aggregate metrics show the aggregate performance of the model on the test set using a single number\n",
        "display_aggregate_metrics(ranks)"
      ]
    },
    {
      "cell_type": "code",
      "execution_count": null,
      "id": "43169dce",
      "metadata": {
        "id": "43169dce"
      },
      "outputs": [],
      "source": [
        "## Epoch = 200\n",
        "## ETA = 10\n",
        "## Batch Count= 1\n",
        "\n",
        "##------------------------------ UNCOMMENT TO TRAIN ---------------------------------------------------------------\n",
        "# model = TransE(k=150,                                                      # embedding size\n",
        "#                epochs=200,                                                        # Num of epochs\n",
        "#                batches_count= 1,                                                # Number of batches\n",
        "#                eta=10,                                                   # number of corruptions to generate during training\n",
        "#                loss='pairwise', loss_params={'margin': 1},                      # loss type and it's hyperparameters\n",
        "#                initializer='xavier', initializer_params={'uniform': False},     # initializer type and it's hyperparameters\n",
        "#                regularizer='LP', regularizer_params= {'lambda': 0.001, 'p': 1}, # regularizer along with its hyperparameters\n",
        "#                optimizer= 'adam', optimizer_params= {'lr': 0.001},              # optimizer to use along with its hyperparameters\n",
        "#                seed= 0, verbose=True)\n",
        "\n",
        "# model.fit(X_train)\n",
        "# save_model(model, 'TransE_200_10_1.pkl')"
      ]
    },
    {
      "cell_type": "code",
      "execution_count": null,
      "id": "59afc1bb",
      "metadata": {
        "id": "59afc1bb",
        "outputId": "b53edb29-f122-4329-e9db-83cea8208ec9"
      },
      "outputs": [
        {
          "name": "stdout",
          "output_type": "stream",
          "text": [
            "WARNING - All triples will be processed in the same batch (batches_count=1). When processing large graphs it is recommended to batch the input knowledge graph instead.\n"
          ]
        },
        {
          "name": "stderr",
          "output_type": "stream",
          "text": [
            "100%|██████████████████████████████████████████████████████| 31000/31000 [06:46<00:00, 76.23it/s]\n"
          ]
        },
        {
          "name": "stdout",
          "output_type": "stream",
          "text": [
            "Test set: (31000, 3)\n",
            "Size of ranks: (31000, 2)\n",
            "Mean Rank: 439.9035806451613\n",
            "Mean Reciprocal Rank: 0.18663239751713326\n",
            "Hits@1: 0.11106451612903226\n",
            "Hits@10: 0.3325806451612903\n",
            "Hits@100: 0.6288548387096774\n"
          ]
        }
      ],
      "source": [
        "model = restore_model('TransE_200_10_1.pkl')\n",
        "\n",
        "# create the filter\n",
        "X_filter = np.concatenate([X_train, X_valid, X_test], 0)\n",
        "\n",
        "# compute ranks\n",
        "ranks = evaluate_performance(X_test,\n",
        "                             model=model,\n",
        "                             filter_triples=X_filter)\n",
        "\n",
        "# ranks are computed per triple\n",
        "print('Test set:', X_test.shape)\n",
        "print('Size of ranks:', ranks.shape)\n",
        "\n",
        "# Aggregate metrics show the aggregate performance of the model on the test set using a single number\n",
        "display_aggregate_metrics(ranks)"
      ]
    },
    {
      "cell_type": "code",
      "execution_count": null,
      "id": "81221d81",
      "metadata": {
        "id": "81221d81"
      },
      "outputs": [],
      "source": [
        "## Epoch = 300\n",
        "## ETA = 1\n",
        "## Batch Count= 1\n",
        "\n",
        "##------------------------------ UNCOMMENT TO TRAIN ---------------------------------------------------------------\n",
        "# model = TransE(k=150,                                                         # embedding size\n",
        "#                epochs=300,                                                        # Num of epochs\n",
        "#                batches_count= 1,                                                 # Number of batches\n",
        "#                eta=1,                                                             # number of corruptions to generate during training\n",
        "#                loss='pairwise', loss_params={'margin': 1},                        # loss type and it's hyperparameters\n",
        "#                initializer='xavier', initializer_params={'uniform': False},       # initializer type and it's hyperparameters\n",
        "#                regularizer='LP', regularizer_params= {'lambda': 0.001, 'p': 1},   # regularizer along with its hyperparameters\n",
        "#                optimizer= 'adam', optimizer_params= {'lr': 0.001},                # optimizer to use along with its hyperparameters\n",
        "#                seed= 0, verbose=True)\n",
        "\n",
        "# model.fit(X_train)\n",
        "# save_model(model, 'TransE_300_1_1.pkl')"
      ]
    },
    {
      "cell_type": "code",
      "execution_count": null,
      "id": "54fad924",
      "metadata": {
        "id": "54fad924",
        "outputId": "02111a9b-0a13-42ab-f4fc-1187736ef439"
      },
      "outputs": [
        {
          "name": "stdout",
          "output_type": "stream",
          "text": [
            "WARNING - All triples will be processed in the same batch (batches_count=1). When processing large graphs it is recommended to batch the input knowledge graph instead.\n"
          ]
        },
        {
          "name": "stderr",
          "output_type": "stream",
          "text": [
            "100%|██████████████████████████████████████████████████████| 31000/31000 [06:33<00:00, 78.71it/s]\n"
          ]
        },
        {
          "name": "stdout",
          "output_type": "stream",
          "text": [
            "Test set: (31000, 3)\n",
            "Size of ranks: (31000, 2)\n",
            "Mean Rank: 478.6974193548387\n",
            "Mean Reciprocal Rank: 0.1818614205361455\n",
            "Hits@1: 0.10567741935483871\n",
            "Hits@10: 0.3298709677419355\n",
            "Hits@100: 0.6181451612903226\n"
          ]
        }
      ],
      "source": [
        "model = restore_model('TransE_300_1_1.pkl')\n",
        "\n",
        "# create the filter\n",
        "X_filter = np.concatenate([X_train, X_valid, X_test], 0)\n",
        "\n",
        "# compute ranks\n",
        "ranks = evaluate_performance(X_test,\n",
        "                             model=model,\n",
        "                             filter_triples=X_filter)\n",
        "\n",
        "# ranks are computed per triple\n",
        "print('Test set:', X_test.shape)\n",
        "print('Size of ranks:', ranks.shape)\n",
        "\n",
        "# Aggregate metrics show the aggregate performance of the model on the test set using a single number\n",
        "display_aggregate_metrics(ranks)"
      ]
    },
    {
      "cell_type": "code",
      "execution_count": null,
      "id": "e711d028",
      "metadata": {
        "id": "e711d028"
      },
      "outputs": [],
      "source": [
        "## Epoch = 300\n",
        "## ETA = 5\n",
        "## Batch Count= 1\n",
        "\n",
        "##------------------------------ UNCOMMENT TO TRAIN ---------------------------------------------------------------\n",
        "# model = TransE(k=150,                                                         # embedding size\n",
        "#                epochs=300,                                                        # Num of epochs\n",
        "#                batches_count= 1,                                                 # Number of batches\n",
        "#                eta=5,                                                             # number of corruptions to generate during training\n",
        "#                loss='pairwise', loss_params={'margin': 1},                        # loss type and it's hyperparameters\n",
        "#                initializer='xavier', initializer_params={'uniform': False},       # initializer type and it's hyperparameters\n",
        "#                regularizer='LP', regularizer_params= {'lambda': 0.001, 'p': 1},   # regularizer along with its hyperparameters\n",
        "#                optimizer= 'adam', optimizer_params= {'lr': 0.001},                # optimizer to use along with its hyperparameters\n",
        "#                seed= 0, verbose=True)\n",
        "\n",
        "# model.fit(X_train)\n",
        "# save_model(model, 'TransE_300_5_1.pkl')"
      ]
    },
    {
      "cell_type": "code",
      "execution_count": null,
      "id": "c3720fd8",
      "metadata": {
        "id": "c3720fd8",
        "outputId": "c16bd0d2-5bb3-47dd-bb75-0b8d64cac1da"
      },
      "outputs": [
        {
          "name": "stdout",
          "output_type": "stream",
          "text": [
            "WARNING - All triples will be processed in the same batch (batches_count=1). When processing large graphs it is recommended to batch the input knowledge graph instead.\n"
          ]
        },
        {
          "name": "stderr",
          "output_type": "stream",
          "text": [
            "100%|██████████████████████████████████████████████████████| 31000/31000 [06:26<00:00, 80.16it/s]\n"
          ]
        },
        {
          "name": "stdout",
          "output_type": "stream",
          "text": [
            "Test set: (31000, 3)\n",
            "Size of ranks: (31000, 2)\n",
            "Mean Rank: 463.5540161290323\n",
            "Mean Reciprocal Rank: 0.19563017974517669\n",
            "Hits@1: 0.11929032258064516\n",
            "Hits@10: 0.34230645161290324\n",
            "Hits@100: 0.6305322580645162\n"
          ]
        }
      ],
      "source": [
        "model = restore_model('TransE_300_5_1.pkl')\n",
        "\n",
        "# create the filter\n",
        "X_filter = np.concatenate([X_train, X_valid, X_test], 0)\n",
        "\n",
        "# compute ranks\n",
        "ranks = evaluate_performance(X_test,\n",
        "                             model=model,\n",
        "                             filter_triples=X_filter)\n",
        "\n",
        "# ranks are computed per triple\n",
        "print('Test set:', X_test.shape)\n",
        "print('Size of ranks:', ranks.shape)\n",
        "\n",
        "# Aggregate metrics show the aggregate performance of the model on the test set using a single number\n",
        "display_aggregate_metrics(ranks)"
      ]
    },
    {
      "cell_type": "code",
      "execution_count": null,
      "id": "cad17f5b",
      "metadata": {
        "id": "cad17f5b"
      },
      "outputs": [],
      "source": [
        "## Epoch = 300\n",
        "## ETA = 10\n",
        "## Batch Count= 1\n",
        "\n",
        "##------------------------------ UNCOMMENT TO TRAIN ---------------------------------------------------------------\n",
        "# model = TransE(k=150,                                                         # embedding size\n",
        "#                epochs=300,                                                        # Num of epochs\n",
        "#                batches_count= 1,                                                 # Number of batches\n",
        "#                eta=10,                                                            # number of corruptions to generate during training\n",
        "#                loss='pairwise', loss_params={'margin': 1},                        # loss type and it's hyperparameters\n",
        "#                initializer='xavier', initializer_params={'uniform': False},       # initializer type and it's hyperparameters\n",
        "#                regularizer='LP', regularizer_params= {'lambda': 0.001, 'p': 1},   # regularizer along with its hyperparameters\n",
        "#                optimizer= 'adam', optimizer_params= {'lr': 0.001},                # optimizer to use along with its hyperparameters\n",
        "#                seed= 0, verbose=True)\n",
        "\n",
        "# model.fit(X_train)\n",
        "# save_model(model, 'TransE_300_10_1.pkl')"
      ]
    },
    {
      "cell_type": "code",
      "execution_count": null,
      "id": "6c6672a3",
      "metadata": {
        "id": "6c6672a3",
        "outputId": "cf95d0e9-8704-493c-b71a-0769372d25e1"
      },
      "outputs": [
        {
          "name": "stdout",
          "output_type": "stream",
          "text": [
            "WARNING - All triples will be processed in the same batch (batches_count=1). When processing large graphs it is recommended to batch the input knowledge graph instead.\n"
          ]
        },
        {
          "name": "stderr",
          "output_type": "stream",
          "text": [
            "100%|██████████████████████████████████████████████████████| 31000/31000 [06:25<00:00, 80.48it/s]\n"
          ]
        },
        {
          "name": "stdout",
          "output_type": "stream",
          "text": [
            "Test set: (31000, 3)\n",
            "Size of ranks: (31000, 2)\n",
            "Mean Rank: 455.5543064516129\n",
            "Mean Reciprocal Rank: 0.19940829470454752\n",
            "Hits@1: 0.12267741935483871\n",
            "Hits@10: 0.34703225806451615\n",
            "Hits@100: 0.6339193548387096\n"
          ]
        }
      ],
      "source": [
        "bestModel_2 = restore_model('TransE_300_10_1.pkl')\n",
        "\n",
        "# create the filter\n",
        "X_filter = np.concatenate([X_train, X_valid, X_test], 0)\n",
        "\n",
        "# compute ranks\n",
        "ranks = evaluate_performance(X_test,\n",
        "                             model=bestModel_2,\n",
        "                             filter_triples=X_filter)\n",
        "\n",
        "# ranks are computed per triple\n",
        "print('Test set:', X_test.shape)\n",
        "print('Size of ranks:', ranks.shape)\n",
        "\n",
        "# Aggregate metrics show the aggregate performance of the model on the test set using a single number\n",
        "display_aggregate_metrics(ranks)"
      ]
    },
    {
      "cell_type": "markdown",
      "id": "84b0312b",
      "metadata": {
        "id": "84b0312b"
      },
      "source": [
        "### TransE Result Summary for Batch count 1"
      ]
    },
    {
      "cell_type": "markdown",
      "id": "ccba67a4",
      "metadata": {
        "id": "ccba67a4"
      },
      "source": [
        "![TransE1.png](attachment:TransE1.png)"
      ]
    },
    {
      "cell_type": "markdown",
      "id": "0c3332b5",
      "metadata": {
        "id": "0c3332b5"
      },
      "source": [
        "###  Experiments with DistMult"
      ]
    },
    {
      "cell_type": "code",
      "execution_count": null,
      "id": "e9b054a3",
      "metadata": {
        "scrolled": true,
        "id": "e9b054a3"
      },
      "outputs": [],
      "source": [
        "## Epoch = 100\n",
        "## ETA = 1\n",
        "## Batch Count = 1\n",
        "\n",
        "##------------------------------ UNCOMMENT TO TRAIN ---------------------------------------------------------------\n",
        "# model = DistMult(k=150, # embedding size\n",
        "#                  epochs= 100,                                                      # Num of epochs\n",
        "#                  eta= 1,                                                         # number of corruptions to generate during training\n",
        "#                  batches_count= 1,                                               # Number of batches\n",
        "#                  loss='multiclass_nll',                                           # loss type\n",
        "#                  initializer='xavier', initializer_params={'uniform': False},     # initializer type and it's hyperparameters\n",
        "#                  regularizer='LP', regularizer_params= {'lambda': 0.0001, 'p': 3},# regularizer along with its hyperparameters\n",
        "#                  optimizer= 'adam', optimizer_params= {'lr': 0.001},              # optimizer to use along with its hyperparameters\n",
        "#                  seed= 0, verbose=True)\n",
        "\n",
        "# model.fit(X_train)\n",
        "# save_model(model, 'DistMult_100_1_1.pkl')"
      ]
    },
    {
      "cell_type": "code",
      "execution_count": null,
      "id": "431ebd54",
      "metadata": {
        "id": "431ebd54",
        "outputId": "9ab4f065-acb4-4432-eb39-b15a47803596"
      },
      "outputs": [
        {
          "name": "stdout",
          "output_type": "stream",
          "text": [
            "WARNING - All triples will be processed in the same batch (batches_count=1). When processing large graphs it is recommended to batch the input knowledge graph instead.\n"
          ]
        },
        {
          "name": "stderr",
          "output_type": "stream",
          "text": [
            "100%|██████████████████████████████████████████████████████| 31000/31000 [06:07<00:00, 84.31it/s]\n"
          ]
        },
        {
          "name": "stdout",
          "output_type": "stream",
          "text": [
            "Mean Rank: 245.9758064516129\n",
            "Mean Reciprocal Rank: 0.3254860975972506\n",
            "Hits@1: 0.24269354838709678\n",
            "Hits@10: 0.48488709677419356\n",
            "Hits@100: 0.736741935483871\n"
          ]
        }
      ],
      "source": [
        "model = restore_model('DistMult_100_1_1.pkl')\n",
        "\n",
        "# create the filter\n",
        "X_filter = np.concatenate([X_train, X_valid, X_test], 0)\n",
        "\n",
        "ranks = evaluate_performance(X_test,\n",
        "                             model=model,\n",
        "                             filter_triples=X_filter,\n",
        "                             corrupt_side='s,o',\n",
        "                             ranking_strategy='worst')\n",
        "display_aggregate_metrics(ranks)"
      ]
    },
    {
      "cell_type": "code",
      "execution_count": null,
      "id": "408b7ebe",
      "metadata": {
        "id": "408b7ebe"
      },
      "outputs": [],
      "source": [
        "## Epoch = 100\n",
        "## ETA = 5\n",
        "## Batch Count = 1\n",
        "\n",
        "##------------------------------ UNCOMMENT TO TRAIN ---------------------------------------------------------------\n",
        "# model = DistMult(k=150, epochs=100, eta=5, loss='multiclass_nll',\n",
        "#                 initializer='xavier', initializer_params={'uniform': False},\n",
        "#                 regularizer='LP', regularizer_params= {'lambda': 0.0001, 'p': 3},\n",
        "#                 optimizer= 'adam', optimizer_params= {'lr': 0.001},\n",
        "#                 seed= 0, batches_count= 1, verbose=True)\n",
        "\n",
        "# model.fit(X_train)\n",
        "# save_model(model, 'DistMult_100_5_1.pkl')"
      ]
    },
    {
      "cell_type": "code",
      "execution_count": null,
      "id": "22775408",
      "metadata": {
        "id": "22775408",
        "outputId": "1f8ca7d3-4812-405c-8a4e-5b2a651f9c48"
      },
      "outputs": [
        {
          "name": "stdout",
          "output_type": "stream",
          "text": [
            "WARNING - All triples will be processed in the same batch (batches_count=1). When processing large graphs it is recommended to batch the input knowledge graph instead.\n"
          ]
        },
        {
          "name": "stderr",
          "output_type": "stream",
          "text": [
            "100%|██████████████████████████████████████████████████████| 31000/31000 [06:05<00:00, 84.83it/s]\n"
          ]
        },
        {
          "name": "stdout",
          "output_type": "stream",
          "text": [
            "Mean Rank: 262.46017741935486\n",
            "Mean Reciprocal Rank: 0.32717368983921746\n",
            "Hits@1: 0.24583870967741936\n",
            "Hits@10: 0.483758064516129\n",
            "Hits@100: 0.7344838709677419\n"
          ]
        }
      ],
      "source": [
        "model = restore_model('DistMult_100_5_1.pkl')\n",
        "\n",
        "# create the filter\n",
        "X_filter = np.concatenate([X_train, X_valid, X_test], 0)\n",
        "\n",
        "ranks = evaluate_performance(X_test,\n",
        "                             model=model,\n",
        "                             filter_triples=X_filter,\n",
        "                             corrupt_side='s,o',\n",
        "                             ranking_strategy='worst')\n",
        "display_aggregate_metrics(ranks)"
      ]
    },
    {
      "cell_type": "code",
      "execution_count": null,
      "id": "c4437f1f",
      "metadata": {
        "id": "c4437f1f"
      },
      "outputs": [],
      "source": [
        "## Epoch = 100\n",
        "## ETA = 10\n",
        "## Batch Count = 1\n",
        "\n",
        "##------------------------------ UNCOMMENT TO TRAIN ---------------------------------------------------------------\n",
        "# model = DistMult(k=150, epochs=100, eta=10, loss='multiclass_nll',\n",
        "#                 initializer='xavier', initializer_params={'uniform': False},\n",
        "#                 regularizer='LP', regularizer_params= {'lambda': 0.0001, 'p': 3},\n",
        "#                 optimizer= 'adam', optimizer_params= {'lr': 0.001},\n",
        "#                 seed= 0, batches_count= 1, verbose=True)\n",
        "\n",
        "# model.fit(X_train)\n",
        "# save_model(model, 'DistMult_100_10_1.pkl')"
      ]
    },
    {
      "cell_type": "code",
      "execution_count": null,
      "id": "64bcc72c",
      "metadata": {
        "id": "64bcc72c",
        "outputId": "706a7df7-98af-4849-a0d5-2661bde10be1"
      },
      "outputs": [
        {
          "name": "stdout",
          "output_type": "stream",
          "text": [
            "WARNING - All triples will be processed in the same batch (batches_count=1). When processing large graphs it is recommended to batch the input knowledge graph instead.\n"
          ]
        },
        {
          "name": "stderr",
          "output_type": "stream",
          "text": [
            "100%|██████████████████████████████████████████████████████| 31000/31000 [06:10<00:00, 83.75it/s]\n"
          ]
        },
        {
          "name": "stdout",
          "output_type": "stream",
          "text": [
            "Mean Rank: 270.7619516129032\n",
            "Mean Reciprocal Rank: 0.3251568287946501\n",
            "Hits@1: 0.24425806451612903\n",
            "Hits@10: 0.4813709677419355\n",
            "Hits@100: 0.7312580645161291\n"
          ]
        }
      ],
      "source": [
        "model = restore_model('DistMult_100_10_1.pkl')\n",
        "\n",
        "# create the filter\n",
        "X_filter = np.concatenate([X_train, X_valid, X_test], 0)\n",
        "\n",
        "ranks = evaluate_performance(X_test,\n",
        "                             model=model,\n",
        "                             filter_triples=X_filter,\n",
        "                             corrupt_side='s,o',\n",
        "                             ranking_strategy='worst')\n",
        "display_aggregate_metrics(ranks)"
      ]
    },
    {
      "cell_type": "code",
      "execution_count": null,
      "id": "bc90777c",
      "metadata": {
        "id": "bc90777c"
      },
      "outputs": [],
      "source": [
        "## Epoch = 200\n",
        "## ETA = 1\n",
        "## Batch Count = 1\n",
        "\n",
        "##------------------------------ UNCOMMENT TO TRAIN ---------------------------------------------------------------\n",
        "# model = DistMult(k=150, epochs=200, eta=1, loss='multiclass_nll',\n",
        "#                 initializer='xavier', initializer_params={'uniform': False},\n",
        "#                 regularizer='LP', regularizer_params= {'lambda': 0.0001, 'p': 3},\n",
        "#                 optimizer= 'adam', optimizer_params= {'lr': 0.001},\n",
        "#                 seed= 0, batches_count= 1, verbose=True)\n",
        "\n",
        "# model.fit(X_train)\n",
        "# save_model(model, 'DistMult_200_1_1.pkl')"
      ]
    },
    {
      "cell_type": "code",
      "execution_count": null,
      "id": "ffcb43ea",
      "metadata": {
        "id": "ffcb43ea",
        "outputId": "44127d78-35d6-4fc2-a515-babdcfb03349"
      },
      "outputs": [
        {
          "name": "stdout",
          "output_type": "stream",
          "text": [
            "WARNING - All triples will be processed in the same batch (batches_count=1). When processing large graphs it is recommended to batch the input knowledge graph instead.\n"
          ]
        },
        {
          "name": "stderr",
          "output_type": "stream",
          "text": [
            "100%|██████████████████████████████████████████████████████| 31000/31000 [06:05<00:00, 84.76it/s]\n"
          ]
        },
        {
          "name": "stdout",
          "output_type": "stream",
          "text": [
            "Mean Rank: 217.3733064516129\n",
            "Mean Reciprocal Rank: 0.2970582174684325\n",
            "Hits@1: 0.21403225806451612\n",
            "Hits@10: 0.4610806451612903\n",
            "Hits@100: 0.7220322580645161\n"
          ]
        }
      ],
      "source": [
        "model = restore_model('DistMult_200_1_1.pkl')\n",
        "\n",
        "# create the filter\n",
        "X_filter = np.concatenate([X_train, X_valid, X_test], 0)\n",
        "\n",
        "ranks = evaluate_performance(X_test,\n",
        "                             model=model,\n",
        "                             filter_triples=X_filter,\n",
        "                             corrupt_side='s,o',\n",
        "                             ranking_strategy='worst')\n",
        "display_aggregate_metrics(ranks)"
      ]
    },
    {
      "cell_type": "code",
      "execution_count": null,
      "id": "fe938a6d",
      "metadata": {
        "id": "fe938a6d"
      },
      "outputs": [],
      "source": [
        "## Epoch = 200\n",
        "## ETA = 5\n",
        "## Batch Count = 1\n",
        "\n",
        "##------------------------------ UNCOMMENT TO TRAIN ---------------------------------------------------------------\n",
        "# model = DistMult(k=150, epochs=200, eta=5, loss='multiclass_nll',\n",
        "#                 initializer='xavier', initializer_params={'uniform': False},\n",
        "#                 regularizer='LP', regularizer_params= {'lambda': 0.0001, 'p': 3},\n",
        "#                 optimizer= 'adam', optimizer_params= {'lr': 0.001},\n",
        "#                 seed= 0, batches_count= 1, verbose=True)\n",
        "\n",
        "# model.fit(X_train)\n",
        "# save_model(model, 'DistMult_200_5_1.pkl')"
      ]
    },
    {
      "cell_type": "code",
      "execution_count": null,
      "id": "4443bbaa",
      "metadata": {
        "id": "4443bbaa",
        "outputId": "26ab074a-e679-49f7-b3da-5b5d2c870af9"
      },
      "outputs": [
        {
          "name": "stdout",
          "output_type": "stream",
          "text": [
            "WARNING - All triples will be processed in the same batch (batches_count=1). When processing large graphs it is recommended to batch the input knowledge graph instead.\n"
          ]
        },
        {
          "name": "stderr",
          "output_type": "stream",
          "text": [
            "100%|██████████████████████████████████████████████████████| 31000/31000 [05:58<00:00, 86.54it/s]\n"
          ]
        },
        {
          "name": "stdout",
          "output_type": "stream",
          "text": [
            "Mean Rank: 222.7465806451613\n",
            "Mean Reciprocal Rank: 0.3019635233577142\n",
            "Hits@1: 0.2173064516129032\n",
            "Hits@10: 0.46641935483870967\n",
            "Hits@100: 0.7272580645161291\n"
          ]
        }
      ],
      "source": [
        "model = restore_model('DistMult_200_5_1.pkl')\n",
        "\n",
        "# create the filter\n",
        "X_filter = np.concatenate([X_train, X_valid, X_test], 0)\n",
        "\n",
        "ranks = evaluate_performance(X_test,\n",
        "                             model=model,\n",
        "                             filter_triples=X_filter,\n",
        "                             corrupt_side='s,o',\n",
        "                             ranking_strategy='worst')\n",
        "display_aggregate_metrics(ranks)"
      ]
    },
    {
      "cell_type": "code",
      "execution_count": null,
      "id": "34c617f9",
      "metadata": {
        "id": "34c617f9"
      },
      "outputs": [],
      "source": [
        "## Epoch = 200\n",
        "## ETA = 10\n",
        "## Batch Count = 1\n",
        "\n",
        "##------------------------------ UNCOMMENT TO TRAIN ---------------------------------------------------------------\n",
        "# model = DistMult(k=150, epochs=200, eta=10, loss='multiclass_nll',\n",
        "#                 initializer='xavier', initializer_params={'uniform': False},\n",
        "#                 regularizer='LP', regularizer_params= {'lambda': 0.0001, 'p': 3},\n",
        "#                 optimizer= 'adam', optimizer_params= {'lr': 0.001},\n",
        "#                 seed= 0, batches_count= 1, verbose=True)\n",
        "\n",
        "# model.fit(X_train)\n",
        "# save_model(model, 'DistMult_200_10_1.pkl')"
      ]
    },
    {
      "cell_type": "code",
      "execution_count": null,
      "id": "88d3e123",
      "metadata": {
        "id": "88d3e123",
        "outputId": "29a54397-a572-4942-e40d-587139508604"
      },
      "outputs": [
        {
          "name": "stdout",
          "output_type": "stream",
          "text": [
            "WARNING - All triples will be processed in the same batch (batches_count=1). When processing large graphs it is recommended to batch the input knowledge graph instead.\n"
          ]
        },
        {
          "name": "stderr",
          "output_type": "stream",
          "text": [
            "100%|██████████████████████████████████████████████████████| 31000/31000 [05:50<00:00, 88.32it/s]\n"
          ]
        },
        {
          "name": "stdout",
          "output_type": "stream",
          "text": [
            "Mean Rank: 235.4706129032258\n",
            "Mean Reciprocal Rank: 0.3003658237217801\n",
            "Hits@1: 0.21724193548387097\n",
            "Hits@10: 0.46211290322580645\n",
            "Hits@100: 0.7230645161290322\n"
          ]
        }
      ],
      "source": [
        "model = restore_model('DistMult_200_10_1.pkl')\n",
        "\n",
        "# create the filter\n",
        "X_filter = np.concatenate([X_train, X_valid, X_test], 0)\n",
        "\n",
        "ranks = evaluate_performance(X_test,\n",
        "                             model=model,\n",
        "                             filter_triples=X_filter,\n",
        "                             corrupt_side='s,o',\n",
        "                             ranking_strategy='worst')\n",
        "display_aggregate_metrics(ranks)"
      ]
    },
    {
      "cell_type": "code",
      "execution_count": null,
      "id": "5a15db03",
      "metadata": {
        "id": "5a15db03"
      },
      "outputs": [],
      "source": [
        "## Epoch = 300\n",
        "## ETA = 1\n",
        "## Batch Count = 1\n",
        "\n",
        "##------------------------------ UNCOMMENT TO TRAIN ---------------------------------------------------------------\n",
        "# model = DistMult(k=150, epochs=300, eta=1, loss='multiclass_nll',\n",
        "#                 initializer='xavier', initializer_params={'uniform': False},\n",
        "#                 regularizer='LP', regularizer_params= {'lambda': 0.0001, 'p': 3},\n",
        "#                 optimizer= 'adam', optimizer_params= {'lr': 0.001},\n",
        "#                 seed= 0, batches_count= 1, verbose=True)\n",
        "\n",
        "# model.fit(X_train)\n",
        "# save_model(model, 'DistMult_300_1_1.pkl')"
      ]
    },
    {
      "cell_type": "code",
      "execution_count": null,
      "id": "26de1f21",
      "metadata": {
        "id": "26de1f21",
        "outputId": "a47c229b-be42-4a58-daaa-37febd3eb199"
      },
      "outputs": [
        {
          "name": "stdout",
          "output_type": "stream",
          "text": [
            "WARNING - All triples will be processed in the same batch (batches_count=1). When processing large graphs it is recommended to batch the input knowledge graph instead.\n"
          ]
        },
        {
          "name": "stderr",
          "output_type": "stream",
          "text": [
            "100%|██████████████████████████████████████████████████████| 31000/31000 [05:52<00:00, 87.98it/s]\n"
          ]
        },
        {
          "name": "stdout",
          "output_type": "stream",
          "text": [
            "Mean Rank: 177.1916935483871\n",
            "Mean Reciprocal Rank: 0.2979975933448357\n",
            "Hits@1: 0.21125806451612902\n",
            "Hits@10: 0.4700645161290323\n",
            "Hits@100: 0.738241935483871\n"
          ]
        }
      ],
      "source": [
        "model = restore_model('DistMult_300_1_1.pkl')\n",
        "\n",
        "# create the filter\n",
        "X_filter = np.concatenate([X_train, X_valid, X_test], 0)\n",
        "\n",
        "ranks = evaluate_performance(X_test,\n",
        "                             model=model,\n",
        "                             filter_triples=X_filter,\n",
        "                             corrupt_side='s,o',\n",
        "                             ranking_strategy='worst')\n",
        "display_aggregate_metrics(ranks)"
      ]
    },
    {
      "cell_type": "code",
      "execution_count": null,
      "id": "b77f18ed",
      "metadata": {
        "id": "b77f18ed"
      },
      "outputs": [],
      "source": [
        "## Epoch = 300\n",
        "## ETA = 5\n",
        "## Batch Count = 1\n",
        "\n",
        "##------------------------------ UNCOMMENT TO TRAIN ---------------------------------------------------------------\n",
        "# model = DistMult(k=150, epochs=300, eta=5, loss='multiclass_nll',\n",
        "#                 initializer='xavier', initializer_params={'uniform': False},\n",
        "#                 regularizer='LP', regularizer_params= {'lambda': 0.0001, 'p': 3},\n",
        "#                 optimizer= 'adam', optimizer_params= {'lr': 0.001},\n",
        "#                 seed= 0, batches_count= 1, verbose=True)\n",
        "\n",
        "# model.fit(X_train)\n",
        "# save_model(model, 'DistMult_300_5_1.pkl')"
      ]
    },
    {
      "cell_type": "code",
      "execution_count": null,
      "id": "b12a76d1",
      "metadata": {
        "id": "b12a76d1",
        "outputId": "bde73562-26cc-4b39-d12d-c3b1128a21f8"
      },
      "outputs": [
        {
          "name": "stdout",
          "output_type": "stream",
          "text": [
            "WARNING - All triples will be processed in the same batch (batches_count=1). When processing large graphs it is recommended to batch the input knowledge graph instead.\n"
          ]
        },
        {
          "name": "stderr",
          "output_type": "stream",
          "text": [
            "100%|██████████████████████████████████████████████████████| 31000/31000 [05:50<00:00, 88.43it/s]\n"
          ]
        },
        {
          "name": "stdout",
          "output_type": "stream",
          "text": [
            "Mean Rank: 164.12403225806452\n",
            "Mean Reciprocal Rank: 0.31069098487224905\n",
            "Hits@1: 0.2210967741935484\n",
            "Hits@10: 0.48832258064516126\n",
            "Hits@100: 0.7579193548387096\n"
          ]
        }
      ],
      "source": [
        "bestModel_3 = restore_model('DistMult_300_5_1.pkl')\n",
        "\n",
        "# create the filter\n",
        "X_filter = np.concatenate([X_train, X_valid, X_test], 0)\n",
        "\n",
        "ranks = evaluate_performance(X_test,\n",
        "                             model=bestModel_3,\n",
        "                             filter_triples=X_filter,\n",
        "                             corrupt_side='s,o',\n",
        "                             ranking_strategy='worst')\n",
        "display_aggregate_metrics(ranks)"
      ]
    },
    {
      "cell_type": "code",
      "execution_count": null,
      "id": "c3288bac",
      "metadata": {
        "id": "c3288bac"
      },
      "outputs": [],
      "source": [
        "## Epoch = 300\n",
        "## ETA = 10\n",
        "## Batch Count = 1\n",
        "\n",
        "##------------------------------ UNCOMMENT TO TRAIN ---------------------------------------------------------------\n",
        "# model = DistMult(k=150, epochs=300, eta=10, loss='multiclass_nll',\n",
        "#                 initializer='xavier', initializer_params={'uniform': False},\n",
        "#                 regularizer='LP', regularizer_params= {'lambda': 0.0001, 'p': 3},\n",
        "#                 optimizer= 'adam', optimizer_params= {'lr': 0.001},\n",
        "#                 seed= 0, batches_count= 1, verbose=True)\n",
        "\n",
        "# model.fit(X_train)\n",
        "# save_model(model, 'DistMult_300_10_1.pkl')"
      ]
    },
    {
      "cell_type": "code",
      "execution_count": null,
      "id": "ccf0d3d2",
      "metadata": {
        "id": "ccf0d3d2",
        "outputId": "33b07ae7-1426-4239-e025-25d9486f3d44"
      },
      "outputs": [
        {
          "name": "stdout",
          "output_type": "stream",
          "text": [
            "WARNING - All triples will be processed in the same batch (batches_count=1). When processing large graphs it is recommended to batch the input knowledge graph instead.\n"
          ]
        },
        {
          "name": "stderr",
          "output_type": "stream",
          "text": [
            "100%|██████████████████████████████████████████████████████| 31000/31000 [05:48<00:00, 88.96it/s]\n"
          ]
        },
        {
          "name": "stdout",
          "output_type": "stream",
          "text": [
            "Mean Rank: 166.6197258064516\n",
            "Mean Reciprocal Rank: 0.3121655825678784\n",
            "Hits@1: 0.22108064516129033\n",
            "Hits@10: 0.4918709677419355\n",
            "Hits@100: 0.758774193548387\n"
          ]
        }
      ],
      "source": [
        "model = restore_model('DistMult_300_10_1.pkl')\n",
        "\n",
        "# create the filter\n",
        "X_filter = np.concatenate([X_train, X_valid, X_test], 0)\n",
        "\n",
        "ranks = evaluate_performance(X_test,\n",
        "                             model=model,\n",
        "                             filter_triples=X_filter,\n",
        "                             corrupt_side='s,o',\n",
        "                             ranking_strategy='worst')\n",
        "display_aggregate_metrics(ranks)"
      ]
    },
    {
      "cell_type": "markdown",
      "id": "827d3e9b",
      "metadata": {
        "id": "827d3e9b"
      },
      "source": [
        "### DistMult Result Summary for Batch count 1"
      ]
    },
    {
      "cell_type": "markdown",
      "id": "f2fb2458",
      "metadata": {
        "id": "f2fb2458"
      },
      "source": [
        "![DistMult1.png](attachment:DistMult1.png)"
      ]
    },
    {
      "cell_type": "code",
      "execution_count": null,
      "id": "03f65be5",
      "metadata": {
        "id": "03f65be5"
      },
      "outputs": [],
      "source": [
        "## Epoch = 100\n",
        "## ETA = 1\n",
        "## Batch Count = 10\n",
        "\n",
        "##------------------------------ UNCOMMENT TO TRAIN ---------------------------------------------------------------\n",
        "# model = DistMult(k=150, epochs=100, eta=1, loss='multiclass_nll',\n",
        "#                 initializer='xavier', initializer_params={'uniform': False},\n",
        "#                 regularizer='LP', regularizer_params= {'lambda': 0.0001, 'p': 3},\n",
        "#                 optimizer= 'adam', optimizer_params= {'lr': 0.001},\n",
        "#                 seed= 0, batches_count= 10, verbose=True)\n",
        "\n",
        "# model.fit(X_train)\n",
        "# save_model(model, 'DistMult_100_1_10.pkl')"
      ]
    },
    {
      "cell_type": "code",
      "execution_count": null,
      "id": "9cbd34a4",
      "metadata": {
        "id": "9cbd34a4",
        "outputId": "bbcf952f-7cfc-4824-e21a-979f3d86cefd"
      },
      "outputs": [
        {
          "name": "stderr",
          "output_type": "stream",
          "text": [
            "100%|██████████████████████████████████████████████████████| 31000/31000 [05:50<00:00, 88.49it/s]\n"
          ]
        },
        {
          "name": "stdout",
          "output_type": "stream",
          "text": [
            "Mean Rank: 152.70148387096773\n",
            "Mean Reciprocal Rank: 0.2877489340266981\n",
            "Hits@1: 0.19438709677419355\n",
            "Hits@10: 0.4725\n",
            "Hits@100: 0.7537741935483872\n"
          ]
        }
      ],
      "source": [
        "model = restore_model('DistMult_100_1_10.pkl')\n",
        "\n",
        "# create the filter\n",
        "X_filter = np.concatenate([X_train, X_valid, X_test], 0)\n",
        "\n",
        "ranks = evaluate_performance(X_test,\n",
        "                             model=model,\n",
        "                             filter_triples=X_filter,\n",
        "                             corrupt_side='s,o',\n",
        "                             ranking_strategy='worst')\n",
        "display_aggregate_metrics(ranks)"
      ]
    },
    {
      "cell_type": "code",
      "execution_count": null,
      "id": "9d25c760",
      "metadata": {
        "id": "9d25c760"
      },
      "outputs": [],
      "source": [
        "## Epoch = 100\n",
        "## ETA = 5\n",
        "## Batch Count = 10\n",
        "\n",
        "##------------------------------ UNCOMMENT TO TRAIN ---------------------------------------------------------------\n",
        "# model = DistMult(k=150, epochs=100, eta=5, loss='multiclass_nll',\n",
        "#                 initializer='xavier', initializer_params={'uniform': False},\n",
        "#                 regularizer='LP', regularizer_params= {'lambda': 0.0001, 'p': 3},\n",
        "#                 optimizer= 'adam', optimizer_params= {'lr': 0.001},\n",
        "#                 seed= 0, batches_count= 10, verbose=True)\n",
        "\n",
        "# model.fit(X_train)\n",
        "# save_model(model, 'DistMult_100_5_10.pkl')"
      ]
    },
    {
      "cell_type": "code",
      "execution_count": null,
      "id": "0f89068d",
      "metadata": {
        "id": "0f89068d",
        "outputId": "f0addd29-8d58-4291-c064-63fb88b8bf44"
      },
      "outputs": [
        {
          "name": "stderr",
          "output_type": "stream",
          "text": [
            "100%|██████████████████████████████████████████████████████| 31000/31000 [06:03<00:00, 85.18it/s]\n"
          ]
        },
        {
          "name": "stdout",
          "output_type": "stream",
          "text": [
            "Mean Rank: 141.67320967741935\n",
            "Mean Reciprocal Rank: 0.31508069955797474\n",
            "Hits@1: 0.21637096774193548\n",
            "Hits@10: 0.512\n",
            "Hits@100: 0.7789838709677419\n"
          ]
        }
      ],
      "source": [
        "model = restore_model('DistMult_100_5_10.pkl')\n",
        "\n",
        "# create the filter\n",
        "X_filter = np.concatenate([X_train, X_valid, X_test], 0)\n",
        "\n",
        "ranks = evaluate_performance(X_test,\n",
        "                             model=model,\n",
        "                             filter_triples=X_filter,\n",
        "                             corrupt_side='s,o',\n",
        "                             ranking_strategy='worst')\n",
        "display_aggregate_metrics(ranks)"
      ]
    },
    {
      "cell_type": "code",
      "execution_count": null,
      "id": "a142727a",
      "metadata": {
        "id": "a142727a"
      },
      "outputs": [],
      "source": [
        "## Epoch = 100\n",
        "## ETA = 10\n",
        "## Batch Count = 10\n",
        "\n",
        "##------------------------------ UNCOMMENT TO TRAIN ---------------------------------------------------------------\n",
        "# model = DistMult(k=150, epochs=100, eta=10, loss='multiclass_nll',\n",
        "#                 initializer='xavier', initializer_params={'uniform': False},\n",
        "#                 regularizer='LP', regularizer_params= {'lambda': 0.0001, 'p': 3},\n",
        "#                 optimizer= 'adam', optimizer_params= {'lr': 0.001},\n",
        "#                 seed= 0, batches_count= 10, verbose=True)\n",
        "\n",
        "# model.fit(X_train)\n",
        "# save_model(model, 'DistMult_100_10_10.pkl')"
      ]
    },
    {
      "cell_type": "code",
      "execution_count": null,
      "id": "cb326565",
      "metadata": {
        "id": "cb326565",
        "outputId": "c85eb0a1-1b15-48db-884b-38347333c34b"
      },
      "outputs": [
        {
          "name": "stderr",
          "output_type": "stream",
          "text": [
            "100%|██████████████████████████████████████████████████████| 31000/31000 [06:08<00:00, 84.10it/s]\n"
          ]
        },
        {
          "name": "stdout",
          "output_type": "stream",
          "text": [
            "Mean Rank: 141.4866451612903\n",
            "Mean Reciprocal Rank: 0.3226653037209753\n",
            "Hits@1: 0.22048387096774194\n",
            "Hits@10: 0.5254032258064516\n",
            "Hits@100: 0.7845322580645161\n"
          ]
        }
      ],
      "source": [
        "model = restore_model('DistMult_100_10_10.pkl')\n",
        "\n",
        "# create the filter\n",
        "X_filter = np.concatenate([X_train, X_valid, X_test], 0)\n",
        "\n",
        "ranks = evaluate_performance(X_test,\n",
        "                             model=model,\n",
        "                             filter_triples=X_filter,\n",
        "                             corrupt_side='s,o',\n",
        "                             ranking_strategy='worst')\n",
        "display_aggregate_metrics(ranks)"
      ]
    },
    {
      "cell_type": "code",
      "execution_count": null,
      "id": "b0e4b546",
      "metadata": {
        "id": "b0e4b546"
      },
      "outputs": [],
      "source": [
        "## Epoch = 200\n",
        "## ETA = 1\n",
        "## Batch Count = 10\n",
        "\n",
        "##------------------------------ UNCOMMENT TO TRAIN ---------------------------------------------------------------\n",
        "# model = DistMult(k=150, epochs=200, eta=1, loss='multiclass_nll',\n",
        "#                 initializer='xavier', initializer_params={'uniform': False},\n",
        "#                 regularizer='LP', regularizer_params= {'lambda': 0.0001, 'p': 3},\n",
        "#                 optimizer= 'adam', optimizer_params= {'lr': 0.001},\n",
        "#                 seed= 0, batches_count= 10, verbose=True)\n",
        "\n",
        "# model.fit(X_train)\n",
        "# save_model(model, 'DistMult_200_1_10.pkl')"
      ]
    },
    {
      "cell_type": "code",
      "execution_count": null,
      "id": "423c32b1",
      "metadata": {
        "id": "423c32b1",
        "outputId": "37ab6159-74d8-4e43-8408-049e6610838f"
      },
      "outputs": [
        {
          "name": "stderr",
          "output_type": "stream",
          "text": [
            "100%|██████████████████████████████████████████████████████| 31000/31000 [06:05<00:00, 84.90it/s]\n"
          ]
        },
        {
          "name": "stdout",
          "output_type": "stream",
          "text": [
            "Mean Rank: 137.56577419354838\n",
            "Mean Reciprocal Rank: 0.3092899307768145\n",
            "Hits@1: 0.2074516129032258\n",
            "Hits@10: 0.5130967741935484\n",
            "Hits@100: 0.7795967741935483\n"
          ]
        }
      ],
      "source": [
        "model = restore_model('DistMult_200_1_10.pkl')\n",
        "\n",
        "# create the filter\n",
        "X_filter = np.concatenate([X_train, X_valid, X_test], 0)\n",
        "\n",
        "ranks = evaluate_performance(X_test,\n",
        "                             model=model,\n",
        "                             filter_triples=X_filter,\n",
        "                             corrupt_side='s,o',\n",
        "                             ranking_strategy='worst')\n",
        "display_aggregate_metrics(ranks)"
      ]
    },
    {
      "cell_type": "code",
      "execution_count": null,
      "id": "088d7729",
      "metadata": {
        "id": "088d7729"
      },
      "outputs": [],
      "source": [
        "## Epoch = 200\n",
        "## ETA = 5\n",
        "## Batch Count = 10\n",
        "\n",
        "##------------------------------ UNCOMMENT TO TRAIN ---------------------------------------------------------------\n",
        "# model = DistMult(k=150, epochs=200, eta=5, loss='multiclass_nll',\n",
        "#                 initializer='xavier', initializer_params={'uniform': False},\n",
        "#                 regularizer='LP', regularizer_params= {'lambda': 0.0001, 'p': 3},\n",
        "#                 optimizer= 'adam', optimizer_params= {'lr': 0.001},\n",
        "#                 seed= 0, batches_count= 10, verbose=True)\n",
        "\n",
        "# model.fit(X_train)\n",
        "# save_model(model, 'DistMult_200_5_10.pkl')"
      ]
    },
    {
      "cell_type": "code",
      "execution_count": null,
      "id": "23522add",
      "metadata": {
        "id": "23522add",
        "outputId": "e3d6f810-d19d-42d9-a6b6-88a9ae12b2ac"
      },
      "outputs": [
        {
          "name": "stderr",
          "output_type": "stream",
          "text": [
            "100%|██████████████████████████████████████████████████████| 31000/31000 [06:02<00:00, 85.40it/s]\n"
          ]
        },
        {
          "name": "stdout",
          "output_type": "stream",
          "text": [
            "Mean Rank: 132.213\n",
            "Mean Reciprocal Rank: 0.3347582539131631\n",
            "Hits@1: 0.22791935483870968\n",
            "Hits@10: 0.5499193548387097\n",
            "Hits@100: 0.7960806451612903\n"
          ]
        }
      ],
      "source": [
        "bestModel_4 = restore_model('DistMult_200_5_10.pkl')\n",
        "\n",
        "# create the filter\n",
        "X_filter = np.concatenate([X_train, X_valid, X_test], 0)\n",
        "\n",
        "ranks = evaluate_performance(X_test,\n",
        "                             model=bestModel_4,\n",
        "                             filter_triples=X_filter,\n",
        "                             corrupt_side='s,o',\n",
        "                             ranking_strategy='worst')\n",
        "display_aggregate_metrics(ranks)"
      ]
    },
    {
      "cell_type": "code",
      "execution_count": null,
      "id": "0cd2de04",
      "metadata": {
        "id": "0cd2de04"
      },
      "outputs": [],
      "source": [
        "## Epoch = 200\n",
        "## ETA = 10\n",
        "## Batch Count = 10\n",
        "\n",
        "##------------------------------ UNCOMMENT TO TRAIN ---------------------------------------------------------------\n",
        "# model = DistMult(k=150, epochs=200, eta=10, loss='multiclass_nll',\n",
        "#                 initializer='xavier', initializer_params={'uniform': False},\n",
        "#                 regularizer='LP', regularizer_params= {'lambda': 0.0001, 'p': 3},\n",
        "#                 optimizer= 'adam', optimizer_params= {'lr': 0.001},\n",
        "#                 seed= 0, batches_count= 10, verbose=True)\n",
        "\n",
        "# model.fit(X_train)\n",
        "# save_model(model, 'DistMult_200_10_10.pkl')"
      ]
    },
    {
      "cell_type": "code",
      "execution_count": null,
      "id": "fe5dc9b2",
      "metadata": {
        "id": "fe5dc9b2",
        "outputId": "01b32708-f855-4a79-bcd5-56cf471c9531"
      },
      "outputs": [
        {
          "name": "stderr",
          "output_type": "stream",
          "text": [
            "100%|██████████████████████████████████████████████████████| 31000/31000 [05:55<00:00, 87.30it/s]\n"
          ]
        },
        {
          "name": "stdout",
          "output_type": "stream",
          "text": [
            "Mean Rank: 131.05054838709677\n",
            "Mean Reciprocal Rank: 0.34274741550400467\n",
            "Hits@1: 0.23390322580645162\n",
            "Hits@10: 0.5605161290322581\n",
            "Hits@100: 0.7999032258064516\n"
          ]
        }
      ],
      "source": [
        "model = restore_model('DistMult_200_10_10.pkl')\n",
        "\n",
        "# create the filter\n",
        "X_filter = np.concatenate([X_train, X_valid, X_test], 0)\n",
        "\n",
        "ranks = evaluate_performance(X_test,\n",
        "                             model=model,\n",
        "                             filter_triples=X_filter,\n",
        "                             corrupt_side='s,o',\n",
        "                             ranking_strategy='worst')\n",
        "display_aggregate_metrics(ranks)"
      ]
    },
    {
      "cell_type": "code",
      "execution_count": null,
      "id": "fe619088",
      "metadata": {
        "id": "fe619088"
      },
      "outputs": [],
      "source": [
        "## Epoch = 300\n",
        "## ETA = 1\n",
        "## Batch Count = 10\n",
        "\n",
        "##------------------------------ UNCOMMENT TO TRAIN ---------------------------------------------------------------\n",
        "# model = DistMult(k=150, epochs=300, eta=1, loss='multiclass_nll',\n",
        "#                 initializer='xavier', initializer_params={'uniform': False},\n",
        "#                 regularizer='LP', regularizer_params= {'lambda': 0.0001, 'p': 3},\n",
        "#                 optimizer= 'adam', optimizer_params= {'lr': 0.001},\n",
        "#                 seed= 0, batches_count= 10, verbose=True)\n",
        "\n",
        "# model.fit(X_train)\n",
        "# save_model(model, 'DistMult_300_1_10.pkl')"
      ]
    },
    {
      "cell_type": "code",
      "execution_count": null,
      "id": "678988bb",
      "metadata": {
        "id": "678988bb",
        "outputId": "a87a7e1e-cef1-41a6-bb3a-690f4bb4b1a9"
      },
      "outputs": [
        {
          "name": "stderr",
          "output_type": "stream",
          "text": [
            "100%|██████████████████████████████████████████████████████| 31000/31000 [06:06<00:00, 84.58it/s]\n"
          ]
        },
        {
          "name": "stdout",
          "output_type": "stream",
          "text": [
            "Mean Rank: 133.819\n",
            "Mean Reciprocal Rank: 0.31982075762371204\n",
            "Hits@1: 0.21480645161290324\n",
            "Hits@10: 0.5314354838709677\n",
            "Hits@100: 0.789\n"
          ]
        }
      ],
      "source": [
        "model = restore_model('DistMult_300_1_10.pkl')\n",
        "\n",
        "# create the filter\n",
        "X_filter = np.concatenate([X_train, X_valid, X_test], 0)\n",
        "\n",
        "ranks = evaluate_performance(X_test,\n",
        "                             model=model,\n",
        "                             filter_triples=X_filter,\n",
        "                             corrupt_side='s,o',\n",
        "                             ranking_strategy='worst')\n",
        "display_aggregate_metrics(ranks)"
      ]
    },
    {
      "cell_type": "code",
      "execution_count": null,
      "id": "abfb6244",
      "metadata": {
        "id": "abfb6244"
      },
      "outputs": [],
      "source": [
        "## Epoch = 300\n",
        "## ETA = 5\n",
        "## Batch Count = 10\n",
        "\n",
        "##------------------------------ UNCOMMENT TO TRAIN ---------------------------------------------------------------\n",
        "# model = DistMult(k=150, epochs=300, eta=5, loss='multiclass_nll',\n",
        "#                 initializer='xavier', initializer_params={'uniform': False},\n",
        "#                 regularizer='LP', regularizer_params= {'lambda': 0.0001, 'p': 3},\n",
        "#                 optimizer= 'adam', optimizer_params= {'lr': 0.001},\n",
        "#                 seed= 0, batches_count= 10, verbose=True)\n",
        "\n",
        "# model.fit(X_train)\n",
        "# save_model(model, 'DistMult_300_5_10.pkl')"
      ]
    },
    {
      "cell_type": "code",
      "execution_count": null,
      "id": "f92bc05d",
      "metadata": {
        "id": "f92bc05d",
        "outputId": "825aa71f-318c-45a8-dc76-9b71cd806969"
      },
      "outputs": [
        {
          "name": "stderr",
          "output_type": "stream",
          "text": [
            "100%|██████████████████████████████████████████████████████| 31000/31000 [05:59<00:00, 86.18it/s]\n"
          ]
        },
        {
          "name": "stdout",
          "output_type": "stream",
          "text": [
            "Mean Rank: 129.18153225806452\n",
            "Mean Reciprocal Rank: 0.3447486976219888\n",
            "Hits@1: 0.2351451612903226\n",
            "Hits@10: 0.5633225806451613\n",
            "Hits@100: 0.8019516129032258\n"
          ]
        }
      ],
      "source": [
        "model = restore_model('DistMult_300_5_10.pkl')\n",
        "\n",
        "# create the filter\n",
        "X_filter = np.concatenate([X_train, X_valid, X_test], 0)\n",
        "\n",
        "ranks = evaluate_performance(X_test,\n",
        "                             model=model,\n",
        "                             filter_triples=X_filter,\n",
        "                             corrupt_side='s,o',\n",
        "                             ranking_strategy='worst')\n",
        "display_aggregate_metrics(ranks)"
      ]
    },
    {
      "cell_type": "code",
      "execution_count": null,
      "id": "2303245c",
      "metadata": {
        "id": "2303245c"
      },
      "outputs": [],
      "source": [
        "## Epoch = 300\n",
        "## ETA = 10\n",
        "## Batch Count = 10\n",
        "\n",
        "##------------------------------ UNCOMMENT TO TRAIN ---------------------------------------------------------------\n",
        "# model = DistMult(k=150, epochs=300, eta=10, loss='multiclass_nll',\n",
        "#                 initializer='xavier', initializer_params={'uniform': False},\n",
        "#                 regularizer='LP', regularizer_params= {'lambda': 0.0001, 'p': 3},\n",
        "#                 optimizer= 'adam', optimizer_params= {'lr': 0.001},\n",
        "#                 seed= 0, batches_count= 10, verbose=True)\n",
        "\n",
        "# model.fit(X_train)\n",
        "# save_model(model, 'DistMult_300_10_10.pkl')"
      ]
    },
    {
      "cell_type": "code",
      "execution_count": null,
      "id": "e8d8c8c7",
      "metadata": {
        "id": "e8d8c8c7",
        "outputId": "39d4e999-7c59-413f-f518-19acb8d6bcf2"
      },
      "outputs": [
        {
          "name": "stderr",
          "output_type": "stream",
          "text": [
            "100%|██████████████████████████████████████████████████████| 31000/31000 [05:50<00:00, 88.47it/s]\n"
          ]
        },
        {
          "name": "stdout",
          "output_type": "stream",
          "text": [
            "Mean Rank: 128.60425806451613\n",
            "Mean Reciprocal Rank: 0.35208543933949565\n",
            "Hits@1: 0.24020967741935484\n",
            "Hits@10: 0.5732096774193548\n",
            "Hits@100: 0.8048709677419355\n"
          ]
        }
      ],
      "source": [
        "model = restore_model('DistMult_300_10_10.pkl')\n",
        "\n",
        "# create the filter\n",
        "X_filter = np.concatenate([X_train, X_valid, X_test], 0)\n",
        "\n",
        "ranks = evaluate_performance(X_test,\n",
        "                             model=model,\n",
        "                             filter_triples=X_filter,\n",
        "                             corrupt_side='s,o',\n",
        "                             ranking_strategy='worst')\n",
        "display_aggregate_metrics(ranks)"
      ]
    },
    {
      "cell_type": "markdown",
      "id": "512ffb62",
      "metadata": {
        "id": "512ffb62"
      },
      "source": [
        "### DistMult Result Summary for Batch count 10"
      ]
    },
    {
      "cell_type": "markdown",
      "id": "38951c98",
      "metadata": {
        "id": "38951c98"
      },
      "source": [
        "![DistMult10.png](attachment:DistMult10.png)"
      ]
    },
    {
      "cell_type": "markdown",
      "id": "d53eab41",
      "metadata": {
        "id": "d53eab41"
      },
      "source": [
        "###  Experiments with ComplEx"
      ]
    },
    {
      "cell_type": "code",
      "execution_count": null,
      "id": "8898b7c5",
      "metadata": {
        "id": "8898b7c5"
      },
      "outputs": [],
      "source": [
        "# create the filter\n",
        "X_filter = np.concatenate([X_train, X_valid, X_test], 0)"
      ]
    },
    {
      "cell_type": "code",
      "execution_count": null,
      "id": "56a833e8",
      "metadata": {
        "id": "56a833e8"
      },
      "outputs": [],
      "source": [
        "## Epoch = 100\n",
        "## ETA = 1\n",
        "## Batch Count = 1\n",
        "\n",
        "##------------------------------ UNCOMMENT TO TRAIN ---------------------------------------------------------------\n",
        "# model = ComplEx(k=150,    # embedding size\n",
        "#                 epochs=100, # Num of epochs\n",
        "#                 eta=1, # number of corruptions to generate during training\n",
        "#                 batches_count= 1 # Number of batches\n",
        "#                 loss='multiclass_nll', # loss type\n",
        "#                 initializer='xavier', initializer_params={'uniform': False}, # initializer type and it's hyperparameters\n",
        "#                 regularizer='LP', regularizer_params= {'lambda': 0.0001, 'p': 3}, # regularizer along with its hyperparameters\n",
        "#                 optimizer= 'adam', optimizer_params= {'lr': 0.001}, # optimizer to use along with its hyperparameters\n",
        "#                 seed= 0, verbose=True)\n",
        "\n",
        "# model.fit(X_train)\n",
        "# save_model(model, 'ComplEx_100_1_1.pkl')"
      ]
    },
    {
      "cell_type": "code",
      "execution_count": null,
      "id": "34497bec",
      "metadata": {
        "id": "34497bec",
        "outputId": "f4afcc69-702d-4803-e847-2ce1ad150807"
      },
      "outputs": [
        {
          "name": "stdout",
          "output_type": "stream",
          "text": [
            "WARNING - All triples will be processed in the same batch (batches_count=1). When processing large graphs it is recommended to batch the input knowledge graph instead.\n"
          ]
        },
        {
          "name": "stderr",
          "output_type": "stream",
          "text": [
            "100%|██████████████████████████████████████████████████████| 31000/31000 [23:00<00:00, 22.45it/s]\n"
          ]
        },
        {
          "name": "stdout",
          "output_type": "stream",
          "text": [
            "Mean Rank: 208.6972741935484\n",
            "Mean Reciprocal Rank: 0.343813880270377\n",
            "Hits@1: 0.2613225806451613\n",
            "Hits@10: 0.505258064516129\n",
            "Hits@100: 0.759\n"
          ]
        }
      ],
      "source": [
        "model = restore_model('ComplEx_100_1_1.pkl')\n",
        "\n",
        "ranks = evaluate_performance(X_test,\n",
        "                             model=model,\n",
        "                             filter_triples=X_filter,\n",
        "                             corrupt_side='s,o',\n",
        "                             ranking_strategy='worst')\n",
        "display_aggregate_metrics(ranks)"
      ]
    },
    {
      "cell_type": "code",
      "execution_count": null,
      "id": "15d70268",
      "metadata": {
        "id": "15d70268"
      },
      "outputs": [],
      "source": [
        "## Epoch = 100\n",
        "## ETA = 5\n",
        "## Batch Count = 1\n",
        "\n",
        "##------------------------------ UNCOMMENT TO TRAIN ---------------------------------------------------------------\n",
        "# model = ComplEx(k=150, epochs=100, eta=5, loss='multiclass_nll',\n",
        "#                 initializer='xavier', initializer_params={'uniform': False},\n",
        "#                 regularizer='LP', regularizer_params= {'lambda': 0.0001, 'p': 3},\n",
        "#                 optimizer= 'adam', optimizer_params= {'lr': 0.001},\n",
        "#                 seed= 0, batches_count= 1, verbose=True)\n",
        "\n",
        "# model.fit(X_train)\n",
        "# save_model(model, 'ComplEx_100_5_1.pkl')"
      ]
    },
    {
      "cell_type": "code",
      "execution_count": null,
      "id": "5d3ad90f",
      "metadata": {
        "id": "5d3ad90f",
        "outputId": "0f91aeb0-1aa3-43cc-8c4a-6d9839e6c5ad"
      },
      "outputs": [
        {
          "name": "stdout",
          "output_type": "stream",
          "text": [
            "WARNING - All triples will be processed in the same batch (batches_count=1). When processing large graphs it is recommended to batch the input knowledge graph instead.\n"
          ]
        },
        {
          "name": "stderr",
          "output_type": "stream",
          "text": [
            "100%|██████████████████████████████████████████████████████| 31000/31000 [23:43<00:00, 21.78it/s]\n"
          ]
        },
        {
          "name": "stdout",
          "output_type": "stream",
          "text": [
            "Mean Rank: 214.62809677419355\n",
            "Mean Reciprocal Rank: 0.3545091102245967\n",
            "Hits@1: 0.2715967741935484\n",
            "Hits@10: 0.5155967741935484\n",
            "Hits@100: 0.7641774193548387\n"
          ]
        }
      ],
      "source": [
        "model = restore_model('ComplEx_100_5_1.pkl')\n",
        "\n",
        "ranks = evaluate_performance(X_test,\n",
        "                             model=model,\n",
        "                             filter_triples=X_filter,\n",
        "                             corrupt_side='s,o',\n",
        "                             ranking_strategy='worst')\n",
        "display_aggregate_metrics(ranks)"
      ]
    },
    {
      "cell_type": "code",
      "execution_count": null,
      "id": "e1848d2d",
      "metadata": {
        "id": "e1848d2d"
      },
      "outputs": [],
      "source": [
        "## Epoch = 200\n",
        "## ETA = 1\n",
        "## Batch Count = 1\n",
        "\n",
        "##------------------------------ UNCOMMENT TO TRAIN ---------------------------------------------------------------\n",
        "# model = ComplEx(k=150, epochs=200, eta=1, loss='multiclass_nll',\n",
        "#                 initializer='xavier', initializer_params={'uniform': False},\n",
        "#                 regularizer='LP', regularizer_params= {'lambda': 0.0001, 'p': 3},\n",
        "#                 optimizer= 'adam', optimizer_params= {'lr': 0.001},\n",
        "#                 seed= 0, batches_count= 1, verbose=True)\n",
        "\n",
        "# model.fit(X_train)\n",
        "# save_model(model, 'ComplEx_200_1_1.pkl')"
      ]
    },
    {
      "cell_type": "code",
      "execution_count": null,
      "id": "a94155d6",
      "metadata": {
        "id": "a94155d6",
        "outputId": "9f117eea-5008-4f55-f8b5-4f72f9adf70f"
      },
      "outputs": [
        {
          "name": "stdout",
          "output_type": "stream",
          "text": [
            "WARNING - All triples will be processed in the same batch (batches_count=1). When processing large graphs it is recommended to batch the input knowledge graph instead.\n"
          ]
        },
        {
          "name": "stderr",
          "output_type": "stream",
          "text": [
            "100%|██████████████████████████████████████████████████████| 31000/31000 [24:39<00:00, 20.95it/s]\n"
          ]
        },
        {
          "name": "stdout",
          "output_type": "stream",
          "text": [
            "Mean Rank: 170.1566129032258\n",
            "Mean Reciprocal Rank: 0.3212526378488709\n",
            "Hits@1: 0.23362903225806453\n",
            "Hits@10: 0.4919032258064516\n",
            "Hits@100: 0.7524516129032258\n"
          ]
        }
      ],
      "source": [
        "model = restore_model('ComplEx_200_1_1.pkl')\n",
        "\n",
        "ranks = evaluate_performance(X_test,\n",
        "                             model=model,\n",
        "                             filter_triples=X_filter,\n",
        "                             corrupt_side='s,o',\n",
        "                             ranking_strategy='worst')\n",
        "display_aggregate_metrics(ranks)"
      ]
    },
    {
      "cell_type": "code",
      "execution_count": null,
      "id": "c1e2f3eb",
      "metadata": {
        "id": "c1e2f3eb"
      },
      "outputs": [],
      "source": [
        "## Epoch = 200\n",
        "## ETA = 5\n",
        "## Batch Count = 1\n",
        "\n",
        "##------------------------------ UNCOMMENT TO TRAIN ---------------------------------------------------------------\n",
        "# model = ComplEx(k=150, epochs=200, eta=5, loss='multiclass_nll',\n",
        "#                 initializer='xavier', initializer_params={'uniform': False},\n",
        "#                 regularizer='LP', regularizer_params= {'lambda': 0.0001, 'p': 3},\n",
        "#                 optimizer= 'adam', optimizer_params= {'lr': 0.001},\n",
        "#                 seed= 0, batches_count= 1, verbose=True)\n",
        "\n",
        "# model.fit(X_train)\n",
        "# save_model(model, 'ComplEx_200_5_1.pkl')"
      ]
    },
    {
      "cell_type": "code",
      "execution_count": null,
      "id": "73489cec",
      "metadata": {
        "id": "73489cec",
        "outputId": "c0bc827c-5603-48fb-9a3d-d5b8db0ab312"
      },
      "outputs": [
        {
          "name": "stderr",
          "output_type": "stream",
          "text": [
            "100%|██████████████████████████████████████████████████████| 31000/31000 [23:44<00:00, 21.76it/s]\n"
          ]
        },
        {
          "name": "stdout",
          "output_type": "stream",
          "text": [
            "Mean Rank: 138.2540322580645\n",
            "Mean Reciprocal Rank: 0.35310912215172247\n",
            "Hits@1: 0.2552258064516129\n",
            "Hits@10: 0.5480806451612903\n",
            "Hits@100: 0.7953709677419355\n"
          ]
        }
      ],
      "source": [
        "bestModel_5 = restore_model('ComplEx_200_5_1.pkl')\n",
        "\n",
        "ranks = evaluate_performance(X_test,\n",
        "                             model=bestModel_5,\n",
        "                             filter_triples=X_filter,\n",
        "                             corrupt_side='s,o',\n",
        "                             ranking_strategy='worst')\n",
        "display_aggregate_metrics(ranks)"
      ]
    },
    {
      "cell_type": "markdown",
      "id": "37d6dc64",
      "metadata": {
        "id": "37d6dc64"
      },
      "source": [
        "### ComplEx Result Summary for Batch count 1"
      ]
    },
    {
      "cell_type": "markdown",
      "id": "c99c5ef9",
      "metadata": {
        "id": "c99c5ef9"
      },
      "source": [
        "![ComplEX1.png](attachment:ComplEX1.png)"
      ]
    },
    {
      "cell_type": "code",
      "execution_count": null,
      "id": "04de4625",
      "metadata": {
        "id": "04de4625"
      },
      "outputs": [],
      "source": [
        "## Epoch = 100\n",
        "## ETA = 1\n",
        "## Batch Count = 10\n",
        "\n",
        "##------------------------------ UNCOMMENT TO TRAIN ---------------------------------------------------------------\n",
        "# model = ComplEx(k=150, epochs=100, eta=1, loss='multiclass_nll',\n",
        "#                 initializer='xavier', initializer_params={'uniform': False},\n",
        "#                 regularizer='LP', regularizer_params= {'lambda': 0.0001, 'p': 3},\n",
        "#                 optimizer= 'adam', optimizer_params= {'lr': 0.001},\n",
        "#                 seed= 0, batches_count= 10, verbose=True)\n",
        "\n",
        "# model.fit(X_train)\n",
        "# save_model(model, 'ComplEx_100_1_10.pkl')"
      ]
    },
    {
      "cell_type": "code",
      "execution_count": null,
      "id": "e0b468c2",
      "metadata": {
        "id": "e0b468c2",
        "outputId": "64b6c553-1226-49c2-a6a1-847a39e7c87c"
      },
      "outputs": [
        {
          "name": "stderr",
          "output_type": "stream",
          "text": [
            "100%|██████████████████████████████████████████████████████| 31000/31000 [23:50<00:00, 21.67it/s]\n"
          ]
        },
        {
          "name": "stdout",
          "output_type": "stream",
          "text": [
            "Mean Rank: 154.94779032258066\n",
            "Mean Reciprocal Rank: 0.309883793649954\n",
            "Hits@1: 0.21685483870967742\n",
            "Hits@10: 0.4939516129032258\n",
            "Hits@100: 0.7601451612903226\n"
          ]
        }
      ],
      "source": [
        "model = restore_model('ComplEx_100_1_10.pkl')\n",
        "\n",
        "ranks = evaluate_performance(X_test,\n",
        "                             model=model,\n",
        "                             filter_triples=X_filter,\n",
        "                             corrupt_side='s,o',\n",
        "                             ranking_strategy='worst')\n",
        "display_aggregate_metrics(ranks)"
      ]
    },
    {
      "cell_type": "code",
      "execution_count": null,
      "id": "fecb0352",
      "metadata": {
        "id": "fecb0352"
      },
      "outputs": [],
      "source": [
        "## Epoch = 100\n",
        "## ETA = 5\n",
        "## Batch Count = 10\n",
        "\n",
        "##------------------------------ UNCOMMENT TO TRAIN ---------------------------------------------------------------\n",
        "# model = ComplEx(k=150, epochs=100, eta=5, loss='multiclass_nll',\n",
        "#                 initializer='xavier', initializer_params={'uniform': False},\n",
        "#                 regularizer='LP', regularizer_params= {'lambda': 0.0001, 'p': 3},\n",
        "#                 optimizer= 'adam', optimizer_params= {'lr': 0.001},\n",
        "#                 seed= 0, batches_count= 10, verbose=True)\n",
        "\n",
        "# model.fit(X_train)\n",
        "# save_model(model, 'ComplEx_100_5_10.pkl')"
      ]
    },
    {
      "cell_type": "code",
      "execution_count": null,
      "id": "2af7016b",
      "metadata": {
        "id": "2af7016b",
        "outputId": "7a23b60b-d2aa-47a7-b9ac-60c7e50fe676"
      },
      "outputs": [
        {
          "name": "stderr",
          "output_type": "stream",
          "text": [
            "100%|██████████████████████████████████████████████████████| 31000/31000 [22:51<00:00, 22.61it/s]\n"
          ]
        },
        {
          "name": "stdout",
          "output_type": "stream",
          "text": [
            "Mean Rank: 148.25232258064517\n",
            "Mean Reciprocal Rank: 0.3389518750110941\n",
            "Hits@1: 0.2437258064516129\n",
            "Hits@10: 0.5278709677419355\n",
            "Hits@100: 0.7759838709677419\n"
          ]
        }
      ],
      "source": [
        "bestModel_6 = restore_model('ComplEx_100_5_10.pkl')\n",
        "\n",
        "ranks = evaluate_performance(X_test,\n",
        "                             model=bestModel_6,\n",
        "                             filter_triples=X_filter,\n",
        "                             corrupt_side='s,o',\n",
        "                             ranking_strategy='worst')\n",
        "display_aggregate_metrics(ranks)"
      ]
    },
    {
      "cell_type": "code",
      "execution_count": null,
      "id": "ed9b4f4c",
      "metadata": {
        "id": "ed9b4f4c"
      },
      "outputs": [],
      "source": [
        "## Epoch = 100\n",
        "## ETA = 10\n",
        "## Batch Count = 10\n",
        "\n",
        "##------------------------------ UNCOMMENT TO TRAIN ---------------------------------------------------------------\n",
        "# model = ComplEx(k=150, epochs=100, eta=10, loss='multiclass_nll',\n",
        "#                 initializer='xavier', initializer_params={'uniform': False},\n",
        "#                 regularizer='LP', regularizer_params= {'lambda': 0.0001, 'p': 3},\n",
        "#                 optimizer= 'adam', optimizer_params= {'lr': 0.001},\n",
        "#                 seed= 0, batches_count= 10, verbose=True)\n",
        "\n",
        "# model.fit(X_train)\n",
        "# save_model(model, 'ComplEx_100_10_10.pkl')"
      ]
    },
    {
      "cell_type": "code",
      "execution_count": null,
      "id": "6a0c73c0",
      "metadata": {
        "id": "6a0c73c0",
        "outputId": "0b34e022-bb95-413e-840d-2754fbb9a767"
      },
      "outputs": [
        {
          "name": "stderr",
          "output_type": "stream",
          "text": [
            "100%|██████████████████████████████████████████████████████| 31000/31000 [22:38<00:00, 22.82it/s]\n"
          ]
        },
        {
          "name": "stdout",
          "output_type": "stream",
          "text": [
            "Mean Rank: 146.70595161290322\n",
            "Mean Reciprocal Rank: 0.3480744933354838\n",
            "Hits@1: 0.2518064516129032\n",
            "Hits@10: 0.5370322580645162\n",
            "Hits@100: 0.7829677419354839\n"
          ]
        }
      ],
      "source": [
        "model = restore_model('ComplEx_100_10_10.pkl')\n",
        "\n",
        "ranks = evaluate_performance(X_test,\n",
        "                             model=model,\n",
        "                             filter_triples=X_filter,\n",
        "                             corrupt_side='s,o',\n",
        "                             ranking_strategy='worst')\n",
        "display_aggregate_metrics(ranks)"
      ]
    },
    {
      "cell_type": "code",
      "execution_count": null,
      "id": "1a303bc3",
      "metadata": {
        "id": "1a303bc3"
      },
      "outputs": [],
      "source": [
        "## Epoch = 200\n",
        "## ETA = 1\n",
        "## Batch Count = 10\n",
        "\n",
        "##------------------------------ UNCOMMENT TO TRAIN ---------------------------------------------------------------\n",
        "# model = ComplEx(k=150, epochs=200, eta=1, loss='multiclass_nll',\n",
        "#                 initializer='xavier', initializer_params={'uniform': False},\n",
        "#                 regularizer='LP', regularizer_params= {'lambda': 0.0001, 'p': 3},\n",
        "#                 optimizer= 'adam', optimizer_params= {'lr': 0.001},\n",
        "#                 seed= 0, batches_count= 10, verbose=True)\n",
        "\n",
        "# model.fit(X_train)\n",
        "# save_model(model, 'ComplEx_200_1_10.pkl')"
      ]
    },
    {
      "cell_type": "code",
      "execution_count": null,
      "id": "1e29ed67",
      "metadata": {
        "id": "1e29ed67",
        "outputId": "2951c0ed-4a77-4364-d34f-7338268d526e"
      },
      "outputs": [
        {
          "name": "stderr",
          "output_type": "stream",
          "text": [
            "100%|██████████████████████████████████████████████████████| 31000/31000 [22:31<00:00, 22.93it/s]\n"
          ]
        },
        {
          "name": "stdout",
          "output_type": "stream",
          "text": [
            "Mean Rank: 142.99859677419354\n",
            "Mean Reciprocal Rank: 0.33037262364993747\n",
            "Hits@1: 0.2326774193548387\n",
            "Hits@10: 0.5219354838709678\n",
            "Hits@100: 0.778258064516129\n"
          ]
        }
      ],
      "source": [
        "model = restore_model('ComplEx_200_1_10.pkl')\n",
        "\n",
        "ranks = evaluate_performance(X_test,\n",
        "                             model=model,\n",
        "                             filter_triples=X_filter,\n",
        "                             corrupt_side='s,o',\n",
        "                             ranking_strategy='worst')\n",
        "display_aggregate_metrics(ranks)"
      ]
    },
    {
      "cell_type": "code",
      "execution_count": null,
      "id": "216fe841",
      "metadata": {
        "id": "216fe841"
      },
      "outputs": [],
      "source": [
        "## Epoch = 200\n",
        "## ETA = 5\n",
        "## Batch Count = 10\n",
        "\n",
        "##------------------------------ UNCOMMENT TO TRAIN ---------------------------------------------------------------\n",
        "# model = ComplEx(k=150, epochs=200, eta=5, loss='multiclass_nll',\n",
        "#                 initializer='xavier', initializer_params={'uniform': False},\n",
        "#                 regularizer='LP', regularizer_params= {'lambda': 0.0001, 'p': 3},\n",
        "#                 optimizer= 'adam', optimizer_params= {'lr': 0.001},\n",
        "#                 seed= 0, batches_count= 10, verbose=True)\n",
        "\n",
        "# model.fit(X_train)\n",
        "# save_model(model, 'ComplEx_200_5_10.pkl')"
      ]
    },
    {
      "cell_type": "code",
      "execution_count": null,
      "id": "cd220add",
      "metadata": {
        "id": "cd220add",
        "outputId": "22981491-6c5f-40c3-ced2-c20b6001193a"
      },
      "outputs": [
        {
          "name": "stderr",
          "output_type": "stream",
          "text": [
            "100%|██████████████████████████████████████████████████████| 31000/31000 [22:33<00:00, 22.90it/s]\n"
          ]
        },
        {
          "name": "stdout",
          "output_type": "stream",
          "text": [
            "Mean Rank: 139.4456612903226\n",
            "Mean Reciprocal Rank: 0.3578466686896388\n",
            "Hits@1: 0.2610806451612903\n",
            "Hits@10: 0.5475322580645161\n",
            "Hits@100: 0.7929354838709678\n"
          ]
        }
      ],
      "source": [
        "model = restore_model('ComplEx_200_5_10.pkl')\n",
        "\n",
        "ranks = evaluate_performance(X_test,\n",
        "                             model=model,\n",
        "                             filter_triples=X_filter,\n",
        "                             corrupt_side='s,o',\n",
        "                             ranking_strategy='worst')\n",
        "display_aggregate_metrics(ranks)"
      ]
    },
    {
      "cell_type": "code",
      "execution_count": null,
      "id": "90e36c4c",
      "metadata": {
        "id": "90e36c4c"
      },
      "outputs": [],
      "source": [
        "## Epoch = 200\n",
        "## ETA = 10\n",
        "## Batch Count = 10\n",
        "\n",
        "##------------------------------ UNCOMMENT TO TRAIN ---------------------------------------------------------------\n",
        "# model = ComplEx(k=150, epochs=200, eta=10, loss='multiclass_nll',\n",
        "#                 initializer='xavier', initializer_params={'uniform': False},\n",
        "#                 regularizer='LP', regularizer_params= {'lambda': 0.0001, 'p': 3},\n",
        "#                 optimizer= 'adam', optimizer_params= {'lr': 0.001},\n",
        "#                 seed= 0, batches_count= 10, verbose=True)\n",
        "\n",
        "# model.fit(X_train)\n",
        "# save_model(model, 'ComplEx_200_10_10.pkl')"
      ]
    },
    {
      "cell_type": "code",
      "execution_count": null,
      "id": "4c530995",
      "metadata": {
        "id": "4c530995",
        "outputId": "c8eb6105-f9a0-4227-cac7-e461a75da894"
      },
      "outputs": [
        {
          "name": "stderr",
          "output_type": "stream",
          "text": [
            "100%|██████████████████████████████████████████████████████| 31000/31000 [22:22<00:00, 23.10it/s]\n"
          ]
        },
        {
          "name": "stdout",
          "output_type": "stream",
          "text": [
            "Mean Rank: 139.40774193548387\n",
            "Mean Reciprocal Rank: 0.36538750291087513\n",
            "Hits@1: 0.2694354838709677\n",
            "Hits@10: 0.552725806451613\n",
            "Hits@100: 0.797741935483871\n"
          ]
        }
      ],
      "source": [
        "model = restore_model('ComplEx_200_10_10.pkl')\n",
        "\n",
        "ranks = evaluate_performance(X_test,\n",
        "                             model=model,\n",
        "                             filter_triples=X_filter,\n",
        "                             corrupt_side='s,o',\n",
        "                             ranking_strategy='worst')\n",
        "display_aggregate_metrics(ranks)"
      ]
    },
    {
      "cell_type": "code",
      "execution_count": null,
      "id": "a9b7300b",
      "metadata": {
        "id": "a9b7300b"
      },
      "outputs": [],
      "source": [
        "## Epoch = 300\n",
        "## ETA = 1\n",
        "## Batch Count = 10\n",
        "\n",
        "##------------------------------ UNCOMMENT TO TRAIN ---------------------------------------------------------------\n",
        "# model = ComplEx(k=150, epochs=300, eta=1, loss='multiclass_nll',\n",
        "#                 initializer='xavier', initializer_params={'uniform': False},\n",
        "#                 regularizer='LP', regularizer_params= {'lambda': 0.0001, 'p': 3},\n",
        "#                 optimizer= 'adam', optimizer_params= {'lr': 0.001},\n",
        "#                 seed= 0, batches_count= 10, verbose=True)\n",
        "\n",
        "# model.fit(X_train)\n",
        "# save_model(model, 'ComplEx_300_1_10.pkl')"
      ]
    },
    {
      "cell_type": "code",
      "execution_count": null,
      "id": "42e2f49d",
      "metadata": {
        "id": "42e2f49d",
        "outputId": "e55dc89b-ba2e-475a-d3b3-beac234ab95f"
      },
      "outputs": [
        {
          "name": "stderr",
          "output_type": "stream",
          "text": [
            "100%|██████████████████████████████████████████████████████| 31000/31000 [22:16<00:00, 23.20it/s]\n"
          ]
        },
        {
          "name": "stdout",
          "output_type": "stream",
          "text": [
            "Mean Rank: 137.27840322580644\n",
            "Mean Reciprocal Rank: 0.34163673475954226\n",
            "Hits@1: 0.24364516129032257\n",
            "Hits@10: 0.5343064516129032\n",
            "Hits@100: 0.7869677419354839\n"
          ]
        }
      ],
      "source": [
        "model = restore_model('ComplEx_300_1_10.pkl')\n",
        "\n",
        "ranks = evaluate_performance(X_test,\n",
        "                             model=model,\n",
        "                             filter_triples=X_filter,\n",
        "                             corrupt_side='s,o',\n",
        "                             ranking_strategy='worst')\n",
        "display_aggregate_metrics(ranks)"
      ]
    },
    {
      "cell_type": "code",
      "execution_count": null,
      "id": "8efc7306",
      "metadata": {
        "id": "8efc7306"
      },
      "outputs": [],
      "source": [
        "## Epoch = 300\n",
        "## ETA = 5\n",
        "## Batch Count = 10\n",
        "\n",
        "##------------------------------ UNCOMMENT TO TRAIN ---------------------------------------------------------------\n",
        "# model = ComplEx(k=150, epochs=300, eta=5, loss='multiclass_nll',\n",
        "#                 initializer='xavier', initializer_params={'uniform': False},\n",
        "#                 regularizer='LP', regularizer_params= {'lambda': 0.0001, 'p': 3},\n",
        "#                 optimizer= 'adam', optimizer_params= {'lr': 0.001},\n",
        "#                 seed= 0, batches_count= 10, verbose=True)\n",
        "\n",
        "# model.fit(X_train)\n",
        "# save_model(model, 'ComplEx_300_5_10.pkl')"
      ]
    },
    {
      "cell_type": "code",
      "execution_count": null,
      "id": "011732fd",
      "metadata": {
        "id": "011732fd",
        "outputId": "bb396a74-207b-4780-ab2b-bd3fa799dd1b"
      },
      "outputs": [
        {
          "name": "stderr",
          "output_type": "stream",
          "text": [
            "100%|██████████████████████████████████████████████████████| 31000/31000 [22:27<00:00, 23.01it/s]\n"
          ]
        },
        {
          "name": "stdout",
          "output_type": "stream",
          "text": [
            "Mean Rank: 137.9376129032258\n",
            "Mean Reciprocal Rank: 0.36386428800464965\n",
            "Hits@1: 0.2675\n",
            "Hits@10: 0.552\n",
            "Hits@100: 0.7993709677419355\n"
          ]
        }
      ],
      "source": [
        "model = restore_model('ComplEx_300_5_10.pkl')\n",
        "\n",
        "ranks = evaluate_performance(X_test,\n",
        "                             model=model,\n",
        "                             filter_triples=X_filter,\n",
        "                             corrupt_side='s,o',\n",
        "                             ranking_strategy='worst')\n",
        "display_aggregate_metrics(ranks)"
      ]
    },
    {
      "cell_type": "code",
      "execution_count": null,
      "id": "1733af55",
      "metadata": {
        "id": "1733af55"
      },
      "outputs": [],
      "source": [
        "## Epoch = 300\n",
        "## ETA = 10\n",
        "## Batch Count = 10\n",
        "\n",
        "##------------------------------ UNCOMMENT TO TRAIN ---------------------------------------------------------------\n",
        "# model = ComplEx(k=150, epochs=300, eta=10, loss='multiclass_nll',\n",
        "#                 initializer='xavier', initializer_params={'uniform': False},\n",
        "#                 regularizer='LP', regularizer_params= {'lambda': 0.0001, 'p': 3},\n",
        "#                 optimizer= 'adam', optimizer_params= {'lr': 0.001},\n",
        "#                 seed= 0, batches_count= 10, verbose=True)\n",
        "\n",
        "# model.fit(X_train)\n",
        "# save_model(model, 'ComplEx_300_10_10.pkl')"
      ]
    },
    {
      "cell_type": "code",
      "execution_count": null,
      "id": "ae311843",
      "metadata": {
        "id": "ae311843",
        "outputId": "15a5f3da-0c13-40e3-f1bf-22ba1593a508"
      },
      "outputs": [
        {
          "name": "stderr",
          "output_type": "stream",
          "text": [
            "100%|██████████████████████████████████████████████████████| 31000/31000 [22:34<00:00, 22.88it/s]"
          ]
        },
        {
          "name": "stdout",
          "output_type": "stream",
          "text": [
            "Mean Rank: 140.36593548387097\n",
            "Mean Reciprocal Rank: 0.3703034112783296\n",
            "Hits@1: 0.2751290322580645\n",
            "Hits@10: 0.5570161290322581\n",
            "Hits@100: 0.8024032258064516\n"
          ]
        },
        {
          "name": "stderr",
          "output_type": "stream",
          "text": [
            "\n"
          ]
        }
      ],
      "source": [
        "model = restore_model('ComplEx_300_10_10.pkl')\n",
        "\n",
        "ranks = evaluate_performance(X_test,\n",
        "                             model=model,\n",
        "                             filter_triples=X_filter,\n",
        "                             corrupt_side='s,o',\n",
        "                             ranking_strategy='worst')\n",
        "display_aggregate_metrics(ranks)"
      ]
    },
    {
      "cell_type": "markdown",
      "id": "67cfb5e0",
      "metadata": {
        "id": "67cfb5e0"
      },
      "source": [
        "### ComplEx Result Summary for Batch count 10"
      ]
    },
    {
      "cell_type": "markdown",
      "id": "6489eadd",
      "metadata": {
        "id": "6489eadd"
      },
      "source": [
        "![ComplEX10.png](attachment:ComplEX10.png)"
      ]
    },
    {
      "cell_type": "markdown",
      "id": "9137f7d0",
      "metadata": {
        "id": "9137f7d0"
      },
      "source": [
        "### Some Observations:\n",
        "\n",
        "Role of Hyperparameters: A large value of ***k*** may result in overfitting, and the size of the embeddings on the disk would also be large. It may also happen that the embedding matrix may not even fit on the GPU. A small k may result in underfitting.\n",
        "Ideally, we should choose a k which is large enough, along with a proper choice of eta. It has been observed that the performance of model increases with increase in eta up to a certain point and then saturates. Usually a good value for eta is between 20-30."
      ]
    },
    {
      "cell_type": "markdown",
      "id": "8c194619",
      "metadata": {
        "id": "8c194619"
      },
      "source": [
        "## 6. Model Evaluation\n",
        "\n",
        "We will do evalution on top 6 models - one from each category.\n",
        "\n",
        "Let's assume that our test set is made up of triples of type <movie, film_language, language_category> and we want to find if our model can correctly find the language of the movie.\n",
        "\n",
        "[Code Refered from this notebook](https://kge-tutorial-ecai2020.github.io/)"
      ]
    },
    {
      "cell_type": "code",
      "execution_count": null,
      "id": "053080eb",
      "metadata": {
        "id": "053080eb",
        "outputId": "07c5288d-aa1e-43b9-9ce4-a30fc20e0743"
      },
      "outputs": [
        {
          "data": {
            "text/plain": [
              "array([['on the road', '/film/film/language', 'french'],\n",
              "       ['die hard with a vengeance', '/film/film/language',\n",
              "        'german language'],\n",
              "       ['jodhaa akbar', '/film/film/language', 'hindi language'],\n",
              "       ['de-lovely', '/film/film/language', 'french'],\n",
              "       ['xxx', '/film/film/language', 'czech language'],\n",
              "       ['we have a pope', '/film/film/language', 'german language'],\n",
              "       ['babe', '/film/film/language', 'english language'],\n",
              "       ['far from heaven', '/film/film/language', 'english language'],\n",
              "       ['lawrence of arabia', '/film/film/language', 'arabic language'],\n",
              "       ['the pink panther', '/film/film/language', 'english language'],\n",
              "       ['maos siste danser', '/film/film/language', 'english language'],\n",
              "       ['amazing grace', '/film/film/language', 'english language'],\n",
              "       ['argo', '/film/film/language', 'persian language'],\n",
              "       ['ben-hur', '/film/film/language', 'english language'],\n",
              "       ['york square', '/film/film/language', 'english language'],\n",
              "       ['the bourne legacy', '/film/film/language', 'english language'],\n",
              "       ['billy elliot', '/film/film/language', 'english language'],\n",
              "       ['bernie', '/film/film/language', 'english language'],\n",
              "       ['batman begins', '/film/film/language', 'urdu language'],\n",
              "       ['a escolha de sofia', '/film/film/language', 'german language'],\n",
              "       ['the duchess', '/film/film/language', 'english language'],\n",
              "       ['the savages', '/film/film/language', 'cantonese'],\n",
              "       ['be cool', '/film/film/language', 'english language'],\n",
              "       ['ajanlar krali', '/film/film/language', 'english language'],\n",
              "       ['pina', '/film/film/language', 'spanish language'],\n",
              "       ['xxx', '/film/film/language', 'russian language'],\n",
              "       ['the guns of navarone', '/film/film/language', 'greek language'],\n",
              "       ['der ganz normale wahnsinn - working mum', '/film/film/language',\n",
              "        'english language'],\n",
              "       ['daylight', '/film/film/language', 'english language'],\n",
              "       ['close encounters of the third kind', '/film/film/language',\n",
              "        'hindi language'],\n",
              "       ['missing', '/film/film/language', 'english language'],\n",
              "       ['angels in america', '/film/film/language', 'yiddish language'],\n",
              "       ['die another day', '/film/film/language', 'italian language'],\n",
              "       ['los angeles confidencial', '/film/film/language',\n",
              "        'english language'],\n",
              "       ['crash', '/film/film/language', 'english language'],\n",
              "       ['the godfather part ii', '/film/film/language',\n",
              "        'english language'],\n",
              "       ['night at the museum', '/film/film/language', 'english language'],\n",
              "       ['walk the line', '/film/film/language', 'english language'],\n",
              "       ['popeye', '/film/film/language', 'english language'],\n",
              "       ['cars', '/film/film/language', 'english language'],\n",
              "       ['/m/080dfr7', '/film/film/language', 'english language'],\n",
              "       ['the king and i', '/film/film/language', 'english language'],\n",
              "       ['three kings', '/film/film/language', 'english language'],\n",
              "       ['the interpreter', '/film/film/language', 'french'],\n",
              "       ['fiddler on the roof', '/film/film/language', 'english language'],\n",
              "       ['kramer gegen kramer', '/film/film/language', 'english language'],\n",
              "       ['la vie en rose', '/film/film/language', 'french'],\n",
              "       ['the tourist', '/film/film/language', 'french'],\n",
              "       ['evil angels', '/film/film/language', 'english language'],\n",
              "       ['die another day', '/film/film/language', 'german language'],\n",
              "       ['/m/05c26ss', '/film/film/language', 'english language'],\n",
              "       ['close encounters of the third kind', '/film/film/language',\n",
              "        'french'],\n",
              "       ['we bought a zoo', '/film/film/language', 'english language'],\n",
              "       ['the bourne ultimatum', '/film/film/language', 'french'],\n",
              "       ['the golden age', '/film/film/language', 'spanish language'],\n",
              "       ['appleseed ex machina', '/film/film/language',\n",
              "        'english language'],\n",
              "       ['american psycho', '/film/film/language', 'spanish language'],\n",
              "       ['/m/014knw', '/film/film/language', 'russian language'],\n",
              "       ['bay ve bayan smith', '/film/film/language', 'spanish language'],\n",
              "       ['wall street', '/film/film/language', 'english language'],\n",
              "       ['from here to eternity', '/film/film/language',\n",
              "        'english language'],\n",
              "       ['changeling', '/film/film/language', 'english language'],\n",
              "       ['the loss of a teardrop diamond', '/film/film/language',\n",
              "        'english language'],\n",
              "       ['congo', '/film/film/language', 'swahili language'],\n",
              "       ['frenzy', '/film/film/language', 'english language'],\n",
              "       ['harry potter and the order of the phoenix',\n",
              "        '/film/film/language', 'english language'],\n",
              "       ['anastasia', '/film/film/language', 'french'],\n",
              "       ['/m/01f8f7', '/film/film/language', 'standard chinese'],\n",
              "       ['the tourist', '/film/film/language', 'russian language'],\n",
              "       ['new york, i love you', '/film/film/language', 'french'],\n",
              "       ['rebecca', '/film/film/language', 'english language'],\n",
              "       ['superman returns', '/film/film/language', 'german language'],\n",
              "       ['/m/0cd2vh9', '/film/film/language', 'german language'],\n",
              "       ['the mask', '/film/film/language', 'english language'],\n",
              "       ['aniolki charliego', '/film/film/language', 'english language'],\n",
              "       ['once upon a time in america', '/film/film/language',\n",
              "        'italian language'],\n",
              "       ['imagine that', '/film/film/language', 'english language'],\n",
              "       ['the sound of music', '/film/film/language', 'english language'],\n",
              "       ['a escolha de sofia', '/film/film/language', 'russian language'],\n",
              "       ['the spy who loved me', '/film/film/language',\n",
              "        'italian language'],\n",
              "       ['it happened one night', '/film/film/language',\n",
              "        'english language'],\n",
              "       ['alvin y las ardillas', '/film/film/language',\n",
              "        'english language'],\n",
              "       ['let the right one in', '/film/film/language',\n",
              "        'spanish language'],\n",
              "       ['murder on the orient express', '/film/film/language',\n",
              "        'turkish language'],\n",
              "       ['/m/0b4lkx', '/film/film/language', 'english language'],\n",
              "       ['house of wax', '/film/film/language', 'english language'],\n",
              "       ['thank you for smoking', '/film/film/language',\n",
              "        'english language'],\n",
              "       ['oliver', '/film/film/language', 'english language'],\n",
              "       ['the living daylights', '/film/film/language', 'french'],\n",
              "       ['/m/027j9wd', '/film/film/language', 'english language'],\n",
              "       ['a man for all seasons', '/film/film/language',\n",
              "        'english language'],\n",
              "       ['the kids are all right', '/film/film/language',\n",
              "        'english language'],\n",
              "       ['curse of the golden flower', '/film/film/language',\n",
              "        'standard chinese'],\n",
              "       ['spy kids', '/film/film/language', 'spanish language'],\n",
              "       ['showtime', '/film/film/language', 'english language'],\n",
              "       ['the rules of attraction', '/film/film/language',\n",
              "        'english language'],\n",
              "       ['octopussy', '/film/film/language', 'spanish language'],\n",
              "       ['bodyguards and assassins', '/film/film/language', 'yue chinese'],\n",
              "       ['/m/05vc35', '/film/film/language', 'english language'],\n",
              "       ['yoter mahear yoter atzbani', '/film/film/language',\n",
              "        'spanish language'],\n",
              "       ['the girl with the dragon tattoo', '/film/film/language',\n",
              "        'english language'],\n",
              "       ['the cell', '/film/film/language', 'english language'],\n",
              "       ['saving private ryan', '/film/film/language', 'german language'],\n",
              "       ['the descendants', '/film/film/language', 'english language'],\n",
              "       ['harry potter and the half-blood prince', '/film/film/language',\n",
              "        'croatian language'],\n",
              "       ['hook', '/film/film/language', 'english language'],\n",
              "       ['/m/06x43v', '/film/film/language', 'english language'],\n",
              "       ['you only live twice', '/film/film/language', 'russian language'],\n",
              "       ['house of sand and fog', '/film/film/language',\n",
              "        'persian language'],\n",
              "       ['star wars', '/film/film/language', 'english language'],\n",
              "       ['scream again', '/film/film/language', 'english language'],\n",
              "       ['rush hour', '/film/film/language', 'japanese language'],\n",
              "       ['ghost world', '/film/film/language', 'english language'],\n",
              "       ['swept away', '/film/film/language', 'english language'],\n",
              "       ['arthur christmas', '/film/film/language', 'english language'],\n",
              "       ['hearts and minds', '/film/film/language', 'english language'],\n",
              "       ['the cable guy', '/film/film/language', 'french'],\n",
              "       ['the patriot', '/film/film/language', 'english language'],\n",
              "       ['lost in translation', '/film/film/language', 'german language'],\n",
              "       ['batman a robin', '/film/film/language', 'english language'],\n",
              "       ['the incredibles', '/film/film/language', 'spanish language'],\n",
              "       ['prometheus', '/film/film/language', 'english language'],\n",
              "       ['/m/0340hj', '/film/film/language', 'french'],\n",
              "       ['the sum of all fears', '/film/film/language',\n",
              "        'english language'],\n",
              "       ['the english patient', '/film/film/language', 'german language'],\n",
              "       ['live and let die', '/film/film/language', 'hungarian language'],\n",
              "       ['infernal affairs', '/film/film/language', 'english language'],\n",
              "       ['oscar and lucinda', '/film/film/language', 'english language'],\n",
              "       ['lawrence of arabia', '/film/film/language', 'english language'],\n",
              "       ['the interpreter', '/film/film/language', 'english language'],\n",
              "       ['/m/0fzm0g', '/film/film/language', 'english language'],\n",
              "       ['flash gordon', '/film/film/language', 'english language'],\n",
              "       ['octopussy', '/film/film/language', 'german language'],\n",
              "       ['click', '/film/film/language', 'japanese language'],\n",
              "       ['inception', '/film/film/language', 'japanese language'],\n",
              "       ['thor', '/film/film/language', 'english language'],\n",
              "       ['andjeli i demoni', '/film/film/language', 'chinese language'],\n",
              "       ['the island', '/film/film/language', 'english language'],\n",
              "       ['/m/0bbw2z6', '/film/film/language', 'french'],\n",
              "       ['the station agent', '/film/film/language', 'english language'],\n",
              "       ['in america', '/film/film/language', 'irish'],\n",
              "       ['flags of our fathers', '/film/film/language',\n",
              "        'english language'],\n",
              "       ['iron man iii', '/film/film/language', 'english language'],\n",
              "       ['conspiracy theory', '/film/film/language', 'english language'],\n",
              "       ['the little mermaid', '/film/film/language', 'english language'],\n",
              "       ['the fifth element', '/film/film/language', 'german language'],\n",
              "       ['battlefield earth', '/film/film/language', 'english language'],\n",
              "       ['indiana jones and the raiders of the lost ark',\n",
              "        '/film/film/language', 'arabic language'],\n",
              "       ['/m/02b61v', '/film/film/language', 'english language'],\n",
              "       ['/m/014nq4', '/film/film/language', 'english language'],\n",
              "       ['andjeli i demoni', '/film/film/language', 'polish language'],\n",
              "       ['all about steve', '/film/film/language', 'spanish language'],\n",
              "       ['the matrix reloaded', '/film/film/language', 'english language'],\n",
              "       ['anna karenina', '/film/film/language', 'english language'],\n",
              "       ['the gay divorcee', '/film/film/language', 'english language'],\n",
              "       ['super invincible dog leader in big lying rabbit of the century',\n",
              "        '/film/film/language', 'english language'],\n",
              "       ['titanic', '/film/film/language', 'italian language'],\n",
              "       ['live and let die', '/film/film/language', 'english language'],\n",
              "       ['road to perdition', '/film/film/language', 'english language'],\n",
              "       ['girls', '/film/film/language', 'english language'],\n",
              "       ['in bruges', '/film/film/language', 'english language'],\n",
              "       ['sky captain and the world of tomorrow', '/film/film/language',\n",
              "        'english language'],\n",
              "       ['the curious case of benjamin button', '/film/film/language',\n",
              "        'french'],\n",
              "       ['the host', '/film/film/language', 'english language'],\n",
              "       ['pina', '/film/film/language', 'italian language'],\n",
              "       ['die hard', '/film/film/language', 'english language'],\n",
              "       ['my name is khan', '/film/film/language', 'hindi language'],\n",
              "       ['/m/025twgf', '/film/film/language', 'english language'],\n",
              "       ['cheaper by the dozen', '/film/film/language',\n",
              "        'english language'],\n",
              "       ['the day after tomorrow', '/film/film/language',\n",
              "        'english language'],\n",
              "       ['the hunger games', '/film/film/language', 'english language'],\n",
              "       ['the insider', '/film/film/language', 'english language'],\n",
              "       ['affliction', '/film/film/language', 'english language'],\n",
              "       ['red tails', '/film/film/language', 'german language'],\n",
              "       ['ghostbusters ii', '/film/film/language', 'english language'],\n",
              "       ['body of lies', '/film/film/language', 'arabic language'],\n",
              "       ['jaws iii', '/film/film/language', 'english language'],\n",
              "       ['quantum of solace', '/film/film/language', 'italian language'],\n",
              "       ['a simple life', '/film/film/language', 'yue chinese'],\n",
              "       ['philadelphia', '/film/film/language', 'english language'],\n",
              "       ['america america', '/film/film/language', 'english language'],\n",
              "       ['quantum of solace', '/film/film/language', 'french'],\n",
              "       ['doctor zhivago', '/film/film/language', 'russian language'],\n",
              "       ['kill bill', '/film/film/language', 'standard chinese'],\n",
              "       ['daredevil', '/film/film/language', 'greek language'],\n",
              "       ['evolution', '/film/film/language', 'english language'],\n",
              "       ['bad teacher', '/film/film/language', 'english language'],\n",
              "       ['the men who stare at goats', '/film/film/language',\n",
              "        'english language'],\n",
              "       ['another night', '/film/film/language', 'english language'],\n",
              "       ['days of being wild', '/film/film/language', 'filipino language'],\n",
              "       ['fotr', '/film/film/language', 'english language'],\n",
              "       ['groundhog day', '/film/film/language', 'french'],\n",
              "       ['the flowers of war', '/film/film/language', 'japanese language'],\n",
              "       ['junfer u cetrdesetoj', '/film/film/language',\n",
              "        'spanish language'],\n",
              "       ['the fifth element', '/film/film/language', 'swedish language'],\n",
              "       ['the lost weekend', '/film/film/language', 'english language'],\n",
              "       ['the cotton club', '/film/film/language', 'english language'],\n",
              "       ['fifty first dates', '/film/film/language', 'turkish language'],\n",
              "       ['shakespeare in love', '/film/film/language', 'english language'],\n",
              "       ['farewell atlantis', '/film/film/language', 'french'],\n",
              "       ['hak se wui yi wo wai kwai', '/film/film/language',\n",
              "        'standard chinese'],\n",
              "       ['blazing saddles', '/film/film/language', 'english language'],\n",
              "       ['the rum diary', '/film/film/language', 'spanish language'],\n",
              "       ['thirteen', '/film/film/language', 'english language'],\n",
              "       ['dial m for murder', '/film/film/language', 'english language'],\n",
              "       ['mr deeds', '/film/film/language', 'english language'],\n",
              "       ['south pacific', '/film/film/language', 'english language'],\n",
              "       ['borat', '/film/film/language', 'hebrew language'],\n",
              "       ['bram stokeri dracula', '/film/film/language',\n",
              "        'romanian language'],\n",
              "       ['howl', '/film/film/language', 'english language'],\n",
              "       ['the fugitive', '/film/film/language', 'spanish language'],\n",
              "       ['sunshine', '/film/film/language', 'english language'],\n",
              "       ['erin brockovich', '/film/film/language', 'english language'],\n",
              "       ['heat', '/film/film/language', 'spanish language'],\n",
              "       ['agent zohan', '/film/film/language', 'hebrew language'],\n",
              "       ['/m/02z9hqn', '/film/film/language', 'german language'],\n",
              "       ['the crucible', '/film/film/language', 'english language'],\n",
              "       ['get smart', '/film/film/language', 'russian language'],\n",
              "       ['the music man', '/film/film/language', 'english language'],\n",
              "       ['shackleton', '/film/film/language', 'german language'],\n",
              "       ['il divo', '/film/film/language', 'italian language'],\n",
              "       ['das boot', '/film/film/language', 'english language'],\n",
              "       ['love actually', '/film/film/language', 'portuguese language'],\n",
              "       ['runaway jury', '/film/film/language', 'english language'],\n",
              "       ['carrie', '/film/film/language', 'english language'],\n",
              "       ['legends of the fall', '/film/film/language', 'english language'],\n",
              "       ['tommy', '/film/film/language', 'english language'],\n",
              "       ['johnny english reborn', '/film/film/language',\n",
              "        'english language'],\n",
              "       ['the phantom of the opera', '/film/film/language',\n",
              "        'english language'],\n",
              "       ['elitarni - ostatnie starcie', '/film/film/language',\n",
              "        'portuguese language'],\n",
              "       ['american college', '/film/film/language', 'italian language'],\n",
              "       ['pina', '/film/film/language', 'korean language'],\n",
              "       ['letters from iwo jima', '/film/film/language',\n",
              "        'japanese language'],\n",
              "       ['the commitments', '/film/film/language', 'irish'],\n",
              "       ['the phantom of the opera', '/film/film/language',\n",
              "        'italian language'],\n",
              "       ['eastern promises', '/film/film/language', 'ukrainian language'],\n",
              "       ['i know who killed me', '/film/film/language',\n",
              "        'english language'],\n",
              "       ['red dragon', '/film/film/language', 'french'],\n",
              "       ['the whistleblower', '/film/film/language', 'russian language'],\n",
              "       ['rambo', '/film/film/language', 'thai language'],\n",
              "       ['alexander', '/film/film/language', 'english language'],\n",
              "       ['spellbound', '/film/film/language', 'english language'],\n",
              "       ['miami vice', '/film/film/language', 'spanish language'],\n",
              "       ['home alone', '/film/film/language', 'english language'],\n",
              "       ['/m/015qy1', '/film/film/language', 'japanese language'],\n",
              "       ['mansfield park', '/film/film/language', 'english language'],\n",
              "       ['shopgirl', '/film/film/language', 'english language'],\n",
              "       ['hijos de la medianoche', '/film/film/language',\n",
              "        'hindi language'],\n",
              "       ['the ghost and the darkness', '/film/film/language',\n",
              "        'english language'],\n",
              "       ['tmnt', '/film/film/language', 'malay language'],\n",
              "       ['the usual suspects', '/film/film/language', 'english language'],\n",
              "       ['hak se wui yi wo wai kwai', '/film/film/language', 'cantonese'],\n",
              "       ['into the storm', '/film/film/language', 'english language'],\n",
              "       ['all that jazz', '/film/film/language', 'spanish language'],\n",
              "       ['the vow', '/film/film/language', 'english language'],\n",
              "       ['seven psychopaths', '/film/film/language',\n",
              "        'vietnamese language'],\n",
              "       ['crash', '/film/film/language', 'persian language'],\n",
              "       ['chicken little', '/film/film/language', 'english language'],\n",
              "       ['the station agent', '/film/film/language', 'spanish language'],\n",
              "       ['edward scissorhands', '/film/film/language', 'english language'],\n",
              "       ['the a-team', '/film/film/language', 'spanish language'],\n",
              "       ['snatch', '/film/film/language', 'english language'],\n",
              "       ['the manchurian candidate', '/film/film/language',\n",
              "        'english language'],\n",
              "       ['first contact', '/film/film/language', 'english language'],\n",
              "       ['this means war', '/film/film/language', 'english language'],\n",
              "       ['tinker tailor soldier spy', '/film/film/language',\n",
              "        'hungarian language'],\n",
              "       ['scoop', '/film/film/language', 'english language'],\n",
              "       ['my big fat greek wedding', '/film/film/language',\n",
              "        'english language'],\n",
              "       ['halloween', '/film/film/language', 'english language'],\n",
              "       ['telma i luiz', '/film/film/language', 'english language'],\n",
              "       ['milk', '/film/film/language', 'english language'],\n",
              "       ['there will be blood', '/film/film/language', 'english language'],\n",
              "       ['quo vadis', '/film/film/language', 'english language'],\n",
              "       ['aniolki charliego', '/film/film/language', 'yue chinese'],\n",
              "       ['final destination', '/film/film/language', 'english language'],\n",
              "       ['the goonies', '/film/film/language', 'italian language'],\n",
              "       ['the phantom of baker street', '/film/film/language',\n",
              "        'korean language'],\n",
              "       ['why we fight', '/film/film/language', 'english language'],\n",
              "       ['v for vendetta', '/film/film/language', 'english language'],\n",
              "       ['crazy heart', '/film/film/language', 'english language'],\n",
              "       ['kal ho naa ho', '/film/film/language', 'punjabi language'],\n",
              "       ['dragon ball z - super saiyajin son-goku', '/film/film/language',\n",
              "        'japanese language'],\n",
              "       ['bolero', '/film/film/language', 'english language'],\n",
              "       ['/m/02bj22', '/film/film/language', 'english language'],\n",
              "       ['/m/0dj0m5', '/film/film/language', 'english language'],\n",
              "       ['sicko', '/film/film/language', 'russian language'],\n",
              "       ['fantastic four and the silver surfer', '/film/film/language',\n",
              "        'arabic language'],\n",
              "       ['the bad and the beautiful', '/film/film/language',\n",
              "        'english language'],\n",
              "       ['silkwood', '/film/film/language', 'english language'],\n",
              "       ['top gun', '/film/film/language', 'english language'],\n",
              "       ['the artist', '/film/film/language', 'english language'],\n",
              "       ['the ides of march', '/film/film/language', 'english language'],\n",
              "       ['the kingdom', '/film/film/language', 'arabic language'],\n",
              "       ['election', '/film/film/language', 'english language'],\n",
              "       ['lust, caution', '/film/film/language', 'hindi language'],\n",
              "       ['hannibal', '/film/film/language', 'english language'],\n",
              "       ['the pirate movie', '/film/film/language', 'english language'],\n",
              "       ['starship troopers', '/film/film/language', 'english language'],\n",
              "       ['young frankenstein', '/film/film/language', 'german language'],\n",
              "       ['thirteen days', '/film/film/language', 'romanian language'],\n",
              "       ['yes man', '/film/film/language', 'english language'],\n",
              "       ['the third man', '/film/film/language', 'russian language'],\n",
              "       ['machete', '/film/film/language', 'hungarian language'],\n",
              "       ['austin powers deluxe', '/film/film/language',\n",
              "        'english language'],\n",
              "       ['thirteen', '/film/film/language', 'portuguese language'],\n",
              "       ['freddy got fingered', '/film/film/language', 'english language'],\n",
              "       ['love is a many-splendored thing', '/film/film/language',\n",
              "        'standard chinese'],\n",
              "       ['nicholas and alexandra', '/film/film/language', 'french'],\n",
              "       ['heroes', '/film/film/language', 'french'],\n",
              "       ['spy kids', '/film/film/language', 'english language'],\n",
              "       ['/m/03176f', '/film/film/language', 'english language'],\n",
              "       ['bridesmaids', '/film/film/language', 'english language'],\n",
              "       ['a series of unfortunate events', '/film/film/language',\n",
              "        'english language'],\n",
              "       ['last action hero', '/film/film/language', 'english language'],\n",
              "       ['shutter island', '/film/film/language', 'english language'],\n",
              "       ['jaunatis', '/film/film/language', 'english language']],\n",
              "      dtype=object)"
            ]
          },
          "execution_count": 187,
          "metadata": {},
          "output_type": "execute_result"
        }
      ],
      "source": [
        "X_test_movie_languages = X_test[X_test[:, 1] == '/film/film/language']\n",
        "X_test_movie_languages"
      ]
    },
    {
      "cell_type": "markdown",
      "id": "ad671de1",
      "metadata": {
        "id": "ad671de1"
      },
      "source": [
        "### 6.1 Evaluating by corrupting specific sides\n",
        "\n",
        "With the evaluation shown below, we are using all entities in our dataset and corrupting both subject and object sides of the test triple and returning 2 ranks. We will do evalution on top 6 models- one from each category."
      ]
    },
    {
      "cell_type": "markdown",
      "id": "78a48d8a",
      "metadata": {
        "id": "78a48d8a"
      },
      "source": [
        "#### TransE Model with 100 epochs, 10 ETA, 10 Batch Count"
      ]
    },
    {
      "cell_type": "code",
      "execution_count": null,
      "id": "557479f6",
      "metadata": {
        "id": "557479f6",
        "outputId": "4ca5ab4d-9de7-4920-9a22-0ff4e3cd0c56"
      },
      "outputs": [
        {
          "name": "stderr",
          "output_type": "stream",
          "text": [
            "100%|█████████████████████████████████████████████████████████| 316/316 [00:02<00:00, 107.18it/s]\n"
          ]
        },
        {
          "name": "stdout",
          "output_type": "stream",
          "text": [
            "Mean Rank: 218.00632911392404\n",
            "Mean Reciprocal Rank: 0.20489617793858714\n",
            "Hits@1: 0.0759493670886076\n",
            "Hits@10: 0.4525316455696203\n",
            "Hits@100: 0.8259493670886076\n",
            "\n",
            "Size of test set: (316, 3)\n",
            "Size of ranks: (316,)\n"
          ]
        }
      ],
      "source": [
        "## bestModel_1 = TransE Model with 100 epochs, 10 ETA, 10 Batch Count\n",
        "ranks = evaluate_performance(X_test_movie_languages,\n",
        "                             model=bestModel_1,\n",
        "                             filter_triples=X_filter,\n",
        "                             corrupt_side='o')\n",
        "\n",
        "display_aggregate_metrics(ranks)\n",
        "print('\\nSize of test set:', X_test_movie_languages.shape)\n",
        "print('Size of ranks:', ranks.shape)"
      ]
    },
    {
      "cell_type": "markdown",
      "id": "401a6dc0",
      "metadata": {
        "id": "401a6dc0"
      },
      "source": [
        "#### TransE Model with 300 epochs, 10 ETA, 1 Batch Count"
      ]
    },
    {
      "cell_type": "code",
      "execution_count": null,
      "id": "17a9af9f",
      "metadata": {
        "id": "17a9af9f",
        "outputId": "aa8d31a6-7323-4259-e9a2-f35f7cb1568b"
      },
      "outputs": [
        {
          "name": "stderr",
          "output_type": "stream",
          "text": [
            "100%|█████████████████████████████████████████████████████████| 316/316 [00:02<00:00, 108.69it/s]"
          ]
        },
        {
          "name": "stdout",
          "output_type": "stream",
          "text": [
            "Mean Rank: 47.85126582278481\n",
            "Mean Reciprocal Rank: 0.21985605852303067\n",
            "Hits@1: 0.08227848101265822\n",
            "Hits@10: 0.5443037974683544\n",
            "Hits@100: 0.9430379746835443\n",
            "\n",
            "Size of test set: (316, 3)\n",
            "Size of ranks: (316,)\n"
          ]
        },
        {
          "name": "stderr",
          "output_type": "stream",
          "text": [
            "\n"
          ]
        }
      ],
      "source": [
        "## bestModel_2 = TransE Model with 300 epochs, 10 ETA, 1 Batch Count\n",
        "ranks = evaluate_performance(X_test_movie_languages,\n",
        "                             model=bestModel_2,\n",
        "                             filter_triples=X_filter,\n",
        "                             corrupt_side='o')\n",
        "\n",
        "display_aggregate_metrics(ranks)\n",
        "print('\\nSize of test set:', X_test_movie_languages.shape)\n",
        "print('Size of ranks:', ranks.shape)"
      ]
    },
    {
      "cell_type": "markdown",
      "id": "774cb635",
      "metadata": {
        "id": "774cb635"
      },
      "source": [
        "#### DistMult Model with 300 epochs, 5 ETA, 1 Batch Count"
      ]
    },
    {
      "cell_type": "code",
      "execution_count": null,
      "id": "a570a319",
      "metadata": {
        "id": "a570a319",
        "outputId": "e57f9b1f-b385-41bf-fc16-bc3a1e1458b1"
      },
      "outputs": [
        {
          "name": "stderr",
          "output_type": "stream",
          "text": [
            "100%|█████████████████████████████████████████████████████████| 316/316 [00:02<00:00, 112.27it/s]\n"
          ]
        },
        {
          "name": "stdout",
          "output_type": "stream",
          "text": [
            "Mean Rank: 4.0474683544303796\n",
            "Mean Reciprocal Rank: 0.7512419275169635\n",
            "Hits@1: 0.6772151898734177\n",
            "Hits@10: 0.9082278481012658\n",
            "Hits@100: 1.0\n",
            "\n",
            "Size of test set: (316, 3)\n",
            "Size of ranks: (316,)\n"
          ]
        }
      ],
      "source": [
        "## bestModel_3 = DistMult Model with 300 epochs, 5 ETA, 1 Batch Count\n",
        "ranks = evaluate_performance(X_test_movie_languages,\n",
        "                             model=bestModel_3,\n",
        "                             filter_triples=X_filter,\n",
        "                             corrupt_side='o')\n",
        "\n",
        "display_aggregate_metrics(ranks)\n",
        "print('\\nSize of test set:', X_test_movie_languages.shape)\n",
        "print('Size of ranks:', ranks.shape)"
      ]
    },
    {
      "cell_type": "markdown",
      "id": "43b0ac94",
      "metadata": {
        "id": "43b0ac94"
      },
      "source": [
        "#### DistMult Model with 200 epochs, 5 ETA, 10 Batch Count"
      ]
    },
    {
      "cell_type": "code",
      "execution_count": null,
      "id": "cf51c355",
      "metadata": {
        "id": "cf51c355",
        "outputId": "e0b6da69-2189-4049-bcd5-e5ee0163d075"
      },
      "outputs": [
        {
          "name": "stderr",
          "output_type": "stream",
          "text": [
            "100%|█████████████████████████████████████████████████████████| 316/316 [00:02<00:00, 112.79it/s]\n"
          ]
        },
        {
          "name": "stdout",
          "output_type": "stream",
          "text": [
            "Mean Rank: 3.8164556962025316\n",
            "Mean Reciprocal Rank: 0.7265406315903348\n",
            "Hits@1: 0.6329113924050633\n",
            "Hits@10: 0.9113924050632911\n",
            "Hits@100: 1.0\n",
            "\n",
            "Size of test set: (316, 3)\n",
            "Size of ranks: (316,)\n"
          ]
        }
      ],
      "source": [
        "## bestModel_4 = DistMult Model with 200 epochs, 5 ETA, 10 Batch Count\n",
        "ranks = evaluate_performance(X_test_movie_languages,\n",
        "                             model=bestModel_4,\n",
        "                             filter_triples=X_filter,\n",
        "                             corrupt_side='o')\n",
        "\n",
        "display_aggregate_metrics(ranks)\n",
        "print('\\nSize of test set:', X_test_movie_languages.shape)\n",
        "print('Size of ranks:', ranks.shape)"
      ]
    },
    {
      "cell_type": "markdown",
      "id": "18b772b9",
      "metadata": {
        "id": "18b772b9"
      },
      "source": [
        "#### ComplEx Model with 200 epochs, 5 ETA, 1 Batch Count"
      ]
    },
    {
      "cell_type": "code",
      "execution_count": null,
      "id": "15a3e2da",
      "metadata": {
        "id": "15a3e2da",
        "outputId": "105ef0f2-30a9-46cd-ce51-ac26e8bd2573"
      },
      "outputs": [
        {
          "name": "stderr",
          "output_type": "stream",
          "text": [
            "100%|██████████████████████████████████████████████████████████| 316/316 [00:07<00:00, 40.19it/s]\n"
          ]
        },
        {
          "name": "stdout",
          "output_type": "stream",
          "text": [
            "Mean Rank: 3.848101265822785\n",
            "Mean Reciprocal Rank: 0.6937180809674545\n",
            "Hits@1: 0.5727848101265823\n",
            "Hits@10: 0.9113924050632911\n",
            "Hits@100: 1.0\n",
            "\n",
            "Size of test set: (316, 3)\n",
            "Size of ranks: (316,)\n"
          ]
        }
      ],
      "source": [
        "## bestModel_5 = ComplEx Model with 200 epochs, 5 ETA, 1 Batch Count\n",
        "ranks = evaluate_performance(X_test_movie_languages,\n",
        "                             model=bestModel_5,\n",
        "                             filter_triples=X_filter,\n",
        "                             corrupt_side='o')\n",
        "\n",
        "display_aggregate_metrics(ranks)\n",
        "print('\\nSize of test set:', X_test_movie_languages.shape)\n",
        "print('Size of ranks:', ranks.shape)"
      ]
    },
    {
      "cell_type": "markdown",
      "id": "a4473209",
      "metadata": {
        "id": "a4473209"
      },
      "source": [
        "#### ComplEx Model with 100 epochs, 5 ETA, 10 Batch Count"
      ]
    },
    {
      "cell_type": "code",
      "execution_count": null,
      "id": "9216b989",
      "metadata": {
        "id": "9216b989",
        "outputId": "9caa8f82-c31a-4bda-8497-b2bd572acf72"
      },
      "outputs": [
        {
          "name": "stderr",
          "output_type": "stream",
          "text": [
            "100%|██████████████████████████████████████████████████████████| 316/316 [00:07<00:00, 40.95it/s]\n"
          ]
        },
        {
          "name": "stdout",
          "output_type": "stream",
          "text": [
            "Mean Rank: 3.528481012658228\n",
            "Mean Reciprocal Rank: 0.759958158981053\n",
            "Hits@1: 0.6677215189873418\n",
            "Hits@10: 0.930379746835443\n",
            "Hits@100: 1.0\n",
            "\n",
            "Size of test set: (316, 3)\n",
            "Size of ranks: (316,)\n"
          ]
        }
      ],
      "source": [
        "## bestModel_6 = ComplEx Model with 100 epochs, 5 ETA, 10 Batch Count\n",
        "ranks = evaluate_performance(X_test_movie_languages,\n",
        "                             model=bestModel_6,\n",
        "                             filter_triples=X_filter,\n",
        "                             corrupt_side='o')\n",
        "\n",
        "display_aggregate_metrics(ranks)\n",
        "print('\\nSize of test set:', X_test_movie_languages.shape)\n",
        "print('Size of ranks:', ranks.shape)"
      ]
    },
    {
      "cell_type": "markdown",
      "id": "e33ca790",
      "metadata": {
        "id": "e33ca790"
      },
      "source": [
        "### 6.2 Evaluating against a subset of entities\n",
        "\n",
        "Depending on the use case or size of the graph, we may want to evaluate the test set by generating corruptions only from a subset of entities. This can be done by using `entities_subset` argument. For example, let's say we are doing a genetic study using KG. The graph may have different entity types like patient, diseases, genes, mutations, co-morbidities,ect. Say we want to find out what mutations cause disease i.e. `< ?, causes, disease_name>`. For this use case it doesn't make sense to replace the placeholder with all the entities. A logical replacement would be by using all the mutations.\n",
        "\n",
        "Similarly for our use case, we are interested in finding the language of the movie. So it makes sense to use only language categories to generate the corruptions for the object side. It also makes the task easier for the model."
      ]
    },
    {
      "cell_type": "code",
      "execution_count": null,
      "id": "bcf5916c",
      "metadata": {
        "id": "bcf5916c",
        "outputId": "76382d1a-6c58-44ca-d89f-fc57719de02f"
      },
      "outputs": [
        {
          "name": "stdout",
          "output_type": "stream",
          "text": [
            "The number of corruptions generated per triple is: 14184\n",
            "Number of languages in KG: 57\n",
            "\n",
            " {'albanian language', 'italian food', 'persian language', 'polish language', 'hindi language', 'england', 'ukrainian language', 'welsh language', 'german language', 'hungarian language', 'vietnamese language', 'greek language', 'yue chinese', 'mandarin chinese', 'filipino language', 'arabic language', 'gujarati language', 'chinese language', 'spanish language', 'italian language', 'cantonese', 'croatian language', 'germany', 'turkish language', 'afrikaans language', 'german food', 'khmer language', 'punjabi language', 'danish language', 'english language', 'silent film', 'serbian language', 'french', 'standard chinese', 'tamil language', 'swahili language', 'yiddish language', 'portuguese language', 'finnish language', 'indonesian language', 'latin language', 'russian language', 'norwegian language', 'korean language', 'bulgarian language', 'urdu language', 'swedish language', 'romanian language', 'hebrew language', 'american english', 'tagalog language', 'irish', 'thai language', 'czech language', 'dutch language', 'japanese language', 'france'}\n"
          ]
        }
      ],
      "source": [
        "print('The number of corruptions generated per triple is:', len(model.ent_to_idx))\n",
        "\n",
        "unique_languages = set(X_train[X_train[:, 1] == '/film/film/language'][:, 2])\n",
        "\n",
        "print('Number of languages in KG:', len(unique_languages))\n",
        "print('\\n', unique_languages)"
      ]
    },
    {
      "cell_type": "markdown",
      "id": "08ef89bc",
      "metadata": {
        "id": "08ef89bc"
      },
      "source": [
        "#### TransE Model with 100 epochs, 10 ETA, 10 Batch Count"
      ]
    },
    {
      "cell_type": "code",
      "execution_count": null,
      "id": "e5845a8c",
      "metadata": {
        "id": "e5845a8c",
        "outputId": "d5cdd01f-f21b-4036-911d-dfcf004aa396"
      },
      "outputs": [
        {
          "name": "stderr",
          "output_type": "stream",
          "text": [
            "C:\\Users\\aniru\\AppData\\Local\\Programs\\Python\\Python36\\lib\\site-packages\\ampligraph\\latent_features\\models\\EmbeddingModel.py:1329: FutureWarning: elementwise comparison failed; returning scalar instead, but in the future will perform elementwise comparison\n",
            "  if corruption_entities == 'all':\n",
            "100%|█████████████████████████████████████████████████████████| 316/316 [00:01<00:00, 184.26it/s]\n"
          ]
        },
        {
          "name": "stdout",
          "output_type": "stream",
          "text": [
            "Mean Rank: 13.367088607594937\n",
            "Mean Reciprocal Rank: 0.21560193621030252\n",
            "Hits@1: 0.0759493670886076\n",
            "Hits@10: 0.45569620253164556\n",
            "Hits@100: 1.0\n"
          ]
        }
      ],
      "source": [
        "## bestModel_1 = TransE Model with 100 epochs, 10 ETA, 10 Batch Count\n",
        "ranks = evaluate_performance(X_test_movie_languages,\n",
        "                             model=bestModel_1,\n",
        "                             filter_triples=X_filter,\n",
        "                             corrupt_side='o',\n",
        "                             entities_subset=list(unique_languages))\n",
        "\n",
        "display_aggregate_metrics(ranks)"
      ]
    },
    {
      "cell_type": "markdown",
      "id": "acc6c461",
      "metadata": {
        "id": "acc6c461"
      },
      "source": [
        "#### TransE Model with 300 epochs, 10 ETA, 1 Batch Count"
      ]
    },
    {
      "cell_type": "code",
      "execution_count": null,
      "id": "64ea5363",
      "metadata": {
        "id": "64ea5363",
        "outputId": "3816421b-4d9c-44b0-f2db-3270819226bd"
      },
      "outputs": [
        {
          "name": "stderr",
          "output_type": "stream",
          "text": [
            "100%|█████████████████████████████████████████████████████████| 316/316 [00:01<00:00, 189.07it/s]\n"
          ]
        },
        {
          "name": "stdout",
          "output_type": "stream",
          "text": [
            "Mean Rank: 10.731012658227849\n",
            "Mean Reciprocal Rank: 0.22450241878804583\n",
            "Hits@1: 0.08227848101265822\n",
            "Hits@10: 0.5474683544303798\n",
            "Hits@100: 1.0\n"
          ]
        }
      ],
      "source": [
        "## bestModel_2 = TransE Model with 300 epochs, 10 ETA, 1 Batch Count\n",
        "ranks = evaluate_performance(X_test_movie_languages,\n",
        "                             model=bestModel_2,\n",
        "                             filter_triples=X_filter,\n",
        "                             corrupt_side='o',\n",
        "                             entities_subset=list(unique_languages))\n",
        "\n",
        "display_aggregate_metrics(ranks)"
      ]
    },
    {
      "cell_type": "markdown",
      "id": "19a8f2b5",
      "metadata": {
        "id": "19a8f2b5"
      },
      "source": [
        "#### DistMult Model with 300 epochs, 5 ETA, 1 Batch Count"
      ]
    },
    {
      "cell_type": "code",
      "execution_count": null,
      "id": "0013caa4",
      "metadata": {
        "id": "0013caa4",
        "outputId": "cb396545-38a3-4934-d023-6a28fd30e96c"
      },
      "outputs": [
        {
          "name": "stderr",
          "output_type": "stream",
          "text": [
            "100%|█████████████████████████████████████████████████████████| 316/316 [00:01<00:00, 188.39it/s]\n"
          ]
        },
        {
          "name": "stdout",
          "output_type": "stream",
          "text": [
            "Mean Rank: 4.041139240506329\n",
            "Mean Reciprocal Rank: 0.7512449200058164\n",
            "Hits@1: 0.6772151898734177\n",
            "Hits@10: 0.9082278481012658\n",
            "Hits@100: 1.0\n"
          ]
        }
      ],
      "source": [
        "## bestModel_3 = DistMult Model with 300 epochs, 5 ETA, 1 Batch Count\n",
        "ranks = evaluate_performance(X_test_movie_languages,\n",
        "                             model=bestModel_3,\n",
        "                             filter_triples=X_filter,\n",
        "                             corrupt_side='o',\n",
        "                             entities_subset=list(unique_languages))\n",
        "\n",
        "display_aggregate_metrics(ranks)"
      ]
    },
    {
      "cell_type": "markdown",
      "id": "d4beaf6d",
      "metadata": {
        "id": "d4beaf6d"
      },
      "source": [
        "#### DistMult Model with 200 epochs, 5 ETA, 10 Batch Count"
      ]
    },
    {
      "cell_type": "code",
      "execution_count": null,
      "id": "2705ff8f",
      "metadata": {
        "id": "2705ff8f",
        "outputId": "e643c249-f275-450b-9bd5-2c6782a5693b"
      },
      "outputs": [
        {
          "name": "stderr",
          "output_type": "stream",
          "text": [
            "100%|█████████████████████████████████████████████████████████| 316/316 [00:01<00:00, 185.25it/s]"
          ]
        },
        {
          "name": "stdout",
          "output_type": "stream",
          "text": [
            "Mean Rank: 3.778481012658228\n",
            "Mean Reciprocal Rank: 0.7265602182961783\n",
            "Hits@1: 0.6329113924050633\n",
            "Hits@10: 0.9113924050632911\n",
            "Hits@100: 1.0\n"
          ]
        },
        {
          "name": "stderr",
          "output_type": "stream",
          "text": [
            "\n"
          ]
        }
      ],
      "source": [
        "## bestModel_4 = DistMult Model with 200 epochs, 5 ETA, 10 Batch Count\n",
        "ranks = evaluate_performance(X_test_movie_languages,\n",
        "                             model=bestModel_4,\n",
        "                             filter_triples=X_filter,\n",
        "                             corrupt_side='o',\n",
        "                             entities_subset=list(unique_languages))\n",
        "\n",
        "display_aggregate_metrics(ranks)"
      ]
    },
    {
      "cell_type": "markdown",
      "id": "4e8facf7",
      "metadata": {
        "id": "4e8facf7"
      },
      "source": [
        "#### ComplEx Model with 200 epochs, 5 ETA, 1 Batch Count"
      ]
    },
    {
      "cell_type": "code",
      "execution_count": null,
      "id": "4b0264e6",
      "metadata": {
        "id": "4b0264e6",
        "outputId": "69ca45c3-fd0e-4c3d-aedb-36bc2824961a"
      },
      "outputs": [
        {
          "name": "stderr",
          "output_type": "stream",
          "text": [
            "100%|█████████████████████████████████████████████████████████| 316/316 [00:01<00:00, 179.68it/s]\n"
          ]
        },
        {
          "name": "stdout",
          "output_type": "stream",
          "text": [
            "Mean Rank: 3.7531645569620253\n",
            "Mean Reciprocal Rank: 0.6938839799171508\n",
            "Hits@1: 0.5727848101265823\n",
            "Hits@10: 0.9113924050632911\n",
            "Hits@100: 1.0\n"
          ]
        }
      ],
      "source": [
        "## bestModel_5 = ComplEx Model with 200 epochs, 5 ETA, 1 Batch Count\n",
        "ranks = evaluate_performance(X_test_movie_languages,\n",
        "                             model=bestModel_5,\n",
        "                             filter_triples=X_filter,\n",
        "                             corrupt_side='o',\n",
        "                             entities_subset=list(unique_languages))\n",
        "\n",
        "display_aggregate_metrics(ranks)"
      ]
    },
    {
      "cell_type": "markdown",
      "id": "b6fc2da0",
      "metadata": {
        "id": "b6fc2da0"
      },
      "source": [
        "#### ComplEx Model with 100 epochs, 5 ETA, 10 Batch Count"
      ]
    },
    {
      "cell_type": "code",
      "execution_count": null,
      "id": "ba2a1e06",
      "metadata": {
        "id": "ba2a1e06",
        "outputId": "47cb72a4-c3f5-459e-c574-4414c87798fe"
      },
      "outputs": [
        {
          "name": "stderr",
          "output_type": "stream",
          "text": [
            "100%|█████████████████████████████████████████████████████████| 316/316 [00:01<00:00, 176.91it/s]"
          ]
        },
        {
          "name": "stdout",
          "output_type": "stream",
          "text": [
            "Mean Rank: 3.4683544303797467\n",
            "Mean Reciprocal Rank: 0.759992456921755\n",
            "Hits@1: 0.6677215189873418\n",
            "Hits@10: 0.930379746835443\n",
            "Hits@100: 1.0\n"
          ]
        },
        {
          "name": "stderr",
          "output_type": "stream",
          "text": [
            "\n"
          ]
        }
      ],
      "source": [
        "## bestModel_6 = ComplEx Model with 100 epochs, 5 ETA, 10 Batch Count\n",
        "ranks = evaluate_performance(X_test_movie_languages,\n",
        "                             model=bestModel_6,\n",
        "                             filter_triples=X_filter,\n",
        "                             corrupt_side='o',\n",
        "                             entities_subset=list(unique_languages))\n",
        "\n",
        "display_aggregate_metrics(ranks)"
      ]
    },
    {
      "cell_type": "markdown",
      "id": "87eaf8d0",
      "metadata": {
        "id": "87eaf8d0"
      },
      "source": [
        "Usually, we can see a drastic increase in the metric values mainly because we are using fewer semantically \"valid\" corruptions.\n",
        "\n",
        "When we have a schema for our KG, and the focus is not just graph completion but a specific use case (Eg: similar job search, product recommendation, gene discovery to target a disease, etc), we would recommend using semantically \"valid\" corruptions by looking at the schema to do performance evaluation.\n",
        "\n",
        "[Code Refered from this notebook](https://kge-tutorial-ecai2020.github.io/)"
      ]
    },
    {
      "cell_type": "markdown",
      "id": "153e82ce",
      "metadata": {
        "id": "153e82ce"
      },
      "source": [
        "## 7. Further Research\n",
        "\n",
        "We tried to reproduce the results of the reference paper using the [Github](https://github.com/DeepGraphLearning/NBFNet/tree/master) repository but were unable to complete the training because memory and computation constraints.\n",
        "\n",
        "Reference paper: [Neural Bellman-Ford Networks: A General Graph Neural Network Framework for Link Prediction][paper]\n",
        "\n",
        "[paper]: https://arxiv.org/pdf/2106.06935.pdf\n",
        "\n",
        "Github: [NBFNet: Neural Bellman-Ford Networks][repo]\n",
        "\n",
        "[repo]: https://github.com/DeepGraphLearning/NBFNet\n",
        "\n",
        "Below is a brief overview of the paper and its results.\n"
      ]
    },
    {
      "cell_type": "markdown",
      "id": "2919ee13",
      "metadata": {
        "id": "2919ee13"
      },
      "source": [
        "## NBFNet: Neural Bellman-Ford Networks: Overview ##\n",
        "\n",
        "NBFNet is a graph neural network framework inspired by traditional path-based\n",
        "methods. It enjoys the advantages of both traditional path-based methods and modern\n",
        "graph neural networks, including **generalization in the inductive setting**,\n",
        "**interpretability**, **high model capacity** and **scalability**. NBFNet can be\n",
        "applied to solve link prediction on both homogeneous graphs and knowledge graphs.\n",
        "\n",
        "\n",
        "## Results ##\n",
        "\n",
        "Here are the results of NBFNet on standard benchmark datasets. All the results are\n",
        "obtained with 4 V100 GPUs (32GB). Note results may be slightly different if the\n",
        "model is trained with 1 GPU and/or a smaller batch size.\n",
        "\n",
        "### Knowledge Graph Completion ###\n",
        "\n",
        "<table>\n",
        "    <tr>\n",
        "        <th>Dataset</th>\n",
        "        <th>MR</th>\n",
        "        <th>MRR</th>\n",
        "        <th>HITS@1</th>\n",
        "        <th>HITS@3</th>\n",
        "        <th>HITS@10</th>\n",
        "    </tr>\n",
        "    <tr>\n",
        "        <th>FB15k-237</th>\n",
        "        <td>114</td>\n",
        "        <td>0.415</td>\n",
        "        <td>0.321</td>\n",
        "        <td>0.454</td>\n",
        "        <td>0.599</td>\n",
        "    </tr>\n",
        "    <tr>\n",
        "        <th>WN18RR</th>\n",
        "        <td>636</td>\n",
        "        <td>0.551</td>\n",
        "        <td>0.497</td>\n",
        "        <td>0.573</td>\n",
        "        <td>0.666</td>\n",
        "    </tr>\n",
        "    <tr>\n",
        "        <th>ogbl-biokg</th>\n",
        "        <td>-</td>\n",
        "        <td>0.829</td>\n",
        "        <td>0.768</td>\n",
        "        <td>0.870</td>\n",
        "        <td>0.946</td>\n",
        "    </tr>\n",
        "</table>\n",
        "\n",
        "### Homogeneous Graph Link Prediction ###\n",
        "\n",
        "<table>\n",
        "    <tr>\n",
        "        <th>Dataset</th>\n",
        "        <th>AUROC</th>\n",
        "        <th>AP</th>\n",
        "    </tr>\n",
        "    <tr>\n",
        "        <th>Cora</th>\n",
        "        <td>0.956</td>\n",
        "        <td>0.962</td>\n",
        "    </tr>\n",
        "    <tr>\n",
        "        <th>CiteSeer</th>\n",
        "        <td>0.923</td>\n",
        "        <td>0.936</td>\n",
        "    </tr>\n",
        "    <tr>\n",
        "        <th>PubMed</th>\n",
        "        <td>0.983</td>\n",
        "        <td>0.982</td>\n",
        "    </tr>\n",
        "</table>\n",
        "\n",
        "### Inductive Relation Prediction ###\n",
        "\n",
        "<table>\n",
        "    <tr>\n",
        "        <th rowspan=\"2\">Dataset</th>\n",
        "        <th colspan=\"4\">HITS@10 (50 sample)</th>\n",
        "    </tr>\n",
        "    <tr>\n",
        "        <th>v1</th>\n",
        "        <th>v2</th>\n",
        "        <th>v3</th>\n",
        "        <th>v4</th>\n",
        "    </tr>\n",
        "    <tr>\n",
        "        <th>FB15k-237</th>\n",
        "        <td>0.834</td>\n",
        "        <td>0.949</td>\n",
        "        <td>0.951</td>\n",
        "        <td>0.960</td>\n",
        "    </tr>\n",
        "    <tr>\n",
        "        <th>WN18RR</th>\n",
        "        <td>0.948</td>\n",
        "        <td>0.905</td>\n",
        "        <td>0.893</td>\n",
        "        <td>0.890</td>\n",
        "    </tr>\n",
        "</table>"
      ]
    }
  ],
  "metadata": {
    "kernelspec": {
      "display_name": "Python 3",
      "language": "python",
      "name": "python3"
    },
    "language_info": {
      "codemirror_mode": {
        "name": "ipython",
        "version": 3
      },
      "file_extension": ".py",
      "mimetype": "text/x-python",
      "name": "python",
      "nbconvert_exporter": "python",
      "pygments_lexer": "ipython3",
      "version": "3.6.8"
    },
    "colab": {
      "provenance": []
    }
  },
  "nbformat": 4,
  "nbformat_minor": 5
}